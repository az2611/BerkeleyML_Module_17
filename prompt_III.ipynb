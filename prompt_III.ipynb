{
  "cells": [
    {
      "cell_type": "markdown",
      "metadata": {
        "id": "view-in-github",
        "colab_type": "text"
      },
      "source": [
        "<a href=\"https://colab.research.google.com/github/az2611/BerkeleyML_Module_17/blob/main/prompt_III.ipynb\" target=\"_parent\"><img src=\"https://colab.research.google.com/assets/colab-badge.svg\" alt=\"Open In Colab\"/></a>"
      ]
    },
    {
      "cell_type": "markdown",
      "metadata": {
        "id": "t5yoi_n9PKKb"
      },
      "source": [
        "# Practical Application III: Comparing Classifiers\n",
        "\n",
        "**Overview**: In this practical application, your goal is to compare the performance of the classifiers we encountered in this section, namely K Nearest Neighbor, Logistic Regression, Decision Trees, and Support Vector Machines.  We will utilize a dataset related to marketing bank products over the telephone.  \n",
        "\n"
      ]
    },
    {
      "cell_type": "markdown",
      "metadata": {
        "id": "pkqSfVMKPKKc"
      },
      "source": [
        "### Getting Started\n",
        "\n",
        "Our dataset comes from the UCI Machine Learning repository [link](https://archive.ics.uci.edu/ml/datasets/bank+marketing).  The data is from a Portugese banking institution and is a collection of the results of multiple marketing campaigns.  We will make use of the article accompanying the dataset [here](CRISP-DM-BANK.pdf) for more information on the data and features.\n",
        "\n"
      ]
    },
    {
      "cell_type": "markdown",
      "metadata": {
        "id": "R7LuGKvfPKKc"
      },
      "source": [
        "### Problem 1: Understanding the Data\n",
        "\n",
        "To gain a better understanding of the data, please read the information provided in the UCI link above, and examine the **Materials and Methods** section of the paper.  How many marketing campaigns does this data represent?"
      ]
    },
    {
      "cell_type": "markdown",
      "metadata": {
        "id": "SMK1Dvf9PKKc"
      },
      "source": [
        "The data consists of 17 campaigns that took place between May 2008 and November 2010, comprising a total of 79,354 contacts. These campaigns involved offering an attractive long-term deposit application with competitive interest rates. For each contact, a wide range of attributes were recorded, as well as whether the contact was successful (the target variable). In the overall dataset, there were 6,499 successful contacts (8% success rate)."
      ]
    },
    {
      "cell_type": "markdown",
      "metadata": {
        "id": "NQ7r7AW9PKKd"
      },
      "source": [
        "### Problem 2: Read in the Data\n",
        "\n",
        "Use pandas to read in the dataset `bank-additional-full.csv` and assign to a meaningful variable name."
      ]
    },
    {
      "cell_type": "code",
      "execution_count": 11,
      "metadata": {
        "id": "gfAmBWJ9PKKd"
      },
      "outputs": [],
      "source": [
        "import time\n",
        "import pandas as pd\n",
        "import numpy as np\n",
        "import matplotlib.pyplot as plt\n",
        "import seaborn as sns\n",
        "from sklearn.neighbors import KNeighborsRegressor,KNeighborsClassifier\n",
        "from sklearn.impute import KNNImputer\n",
        "from sklearn.preprocessing import StandardScaler, OneHotEncoder\n",
        "from sklearn.pipeline import Pipeline\n",
        "from sklearn.compose import make_column_selector, make_column_transformer\n",
        "from sklearn.metrics import mean_squared_error\n",
        "from sklearn.model_selection import train_test_split, GridSearchCV\n",
        "from sklearn import set_config\n",
        "from sklearn.metrics import accuracy_score, recall_score, precision_score\n",
        "from sklearn.metrics import confusion_matrix, precision_score, recall_score, accuracy_score, plot_confusion_matrix, ConfusionMatrixDisplay\n",
        "from sklearn.metrics import accuracy_score, recall_score, precision_score, precision_recall_curve, roc_curve\n",
        "from sklearn.preprocessing import OneHotEncoder, StandardScaler, PolynomialFeatures\n",
        "from sklearn.linear_model import LogisticRegression\n",
        "from sklearn.feature_selection import SelectFromModel\n",
        "from sklearn.metrics import ConfusionMatrixDisplay, RocCurveDisplay\n",
        "from sklearn.tree import DecisionTreeClassifier, export_text, plot_tree\n",
        "from sklearn.svm import SVC\n",
        "\n",
        "###\n",
        "from sklearn.dummy import DummyClassifier\n",
        "from sklearn.svm import SVC\n",
        "from sklearn.metrics import confusion_matrix\n",
        "from sklearn.datasets import load_wine\n",
        "from sklearn.datasets import load_breast_cancer\n",
        "from sklearn.model_selection import train_test_split, GridSearchCV, RandomizedSearchCV\n",
        "set_config(display=\"diagram\")\n",
        "\n",
        "set_config(\"figure\")\n",
        "import warnings\n",
        "warnings.filterwarnings('ignore')"
      ]
    },
    {
      "cell_type": "code",
      "source": [
        "from google.colab import drive\n",
        "drive.mount(\"/content/drive\")"
      ],
      "metadata": {
        "colab": {
          "base_uri": "https://localhost:8080/"
        },
        "id": "I_0gVKhmPl2p",
        "outputId": "fb76b6ad-4c10-4e03-81ee-aee6de186ce5"
      },
      "execution_count": 12,
      "outputs": [
        {
          "output_type": "stream",
          "name": "stdout",
          "text": [
            "Drive already mounted at /content/drive; to attempt to forcibly remount, call drive.mount(\"/content/drive\", force_remount=True).\n"
          ]
        }
      ]
    },
    {
      "cell_type": "code",
      "execution_count": 13,
      "metadata": {
        "id": "dNL4BqIPPKKe"
      },
      "outputs": [],
      "source": [
        "#df = pd.read_csv('data/bank-additional-full.csv', sep = ';')\n",
        "df =pd.read_csv('/content/drive/My Drive/UC_Berkeley_Certificate/Module_17/module_17_starter/data/bank-additional-full.csv', sep = ';')"
      ]
    },
    {
      "cell_type": "code",
      "execution_count": 14,
      "metadata": {
        "colab": {
          "base_uri": "https://localhost:8080/",
          "height": 299
        },
        "id": "x1iz2SGePKKe",
        "outputId": "ddde7ac8-e131-496b-978b-e02d6382c782"
      },
      "outputs": [
        {
          "output_type": "execute_result",
          "data": {
            "text/plain": [
              "   age        job  marital    education  default housing loan    contact  \\\n",
              "0   56  housemaid  married     basic.4y       no      no   no  telephone   \n",
              "1   57   services  married  high.school  unknown      no   no  telephone   \n",
              "2   37   services  married  high.school       no     yes   no  telephone   \n",
              "3   40     admin.  married     basic.6y       no      no   no  telephone   \n",
              "4   56   services  married  high.school       no      no  yes  telephone   \n",
              "\n",
              "  month day_of_week  ...  campaign  pdays  previous     poutcome emp.var.rate  \\\n",
              "0   may         mon  ...         1    999         0  nonexistent          1.1   \n",
              "1   may         mon  ...         1    999         0  nonexistent          1.1   \n",
              "2   may         mon  ...         1    999         0  nonexistent          1.1   \n",
              "3   may         mon  ...         1    999         0  nonexistent          1.1   \n",
              "4   may         mon  ...         1    999         0  nonexistent          1.1   \n",
              "\n",
              "   cons.price.idx  cons.conf.idx  euribor3m  nr.employed   y  \n",
              "0          93.994          -36.4      4.857       5191.0  no  \n",
              "1          93.994          -36.4      4.857       5191.0  no  \n",
              "2          93.994          -36.4      4.857       5191.0  no  \n",
              "3          93.994          -36.4      4.857       5191.0  no  \n",
              "4          93.994          -36.4      4.857       5191.0  no  \n",
              "\n",
              "[5 rows x 21 columns]"
            ],
            "text/html": [
              "\n",
              "  <div id=\"df-e2f7bc82-8754-47ba-89a5-b69543ea3b50\">\n",
              "    <div class=\"colab-df-container\">\n",
              "      <div>\n",
              "<style scoped>\n",
              "    .dataframe tbody tr th:only-of-type {\n",
              "        vertical-align: middle;\n",
              "    }\n",
              "\n",
              "    .dataframe tbody tr th {\n",
              "        vertical-align: top;\n",
              "    }\n",
              "\n",
              "    .dataframe thead th {\n",
              "        text-align: right;\n",
              "    }\n",
              "</style>\n",
              "<table border=\"1\" class=\"dataframe\">\n",
              "  <thead>\n",
              "    <tr style=\"text-align: right;\">\n",
              "      <th></th>\n",
              "      <th>age</th>\n",
              "      <th>job</th>\n",
              "      <th>marital</th>\n",
              "      <th>education</th>\n",
              "      <th>default</th>\n",
              "      <th>housing</th>\n",
              "      <th>loan</th>\n",
              "      <th>contact</th>\n",
              "      <th>month</th>\n",
              "      <th>day_of_week</th>\n",
              "      <th>...</th>\n",
              "      <th>campaign</th>\n",
              "      <th>pdays</th>\n",
              "      <th>previous</th>\n",
              "      <th>poutcome</th>\n",
              "      <th>emp.var.rate</th>\n",
              "      <th>cons.price.idx</th>\n",
              "      <th>cons.conf.idx</th>\n",
              "      <th>euribor3m</th>\n",
              "      <th>nr.employed</th>\n",
              "      <th>y</th>\n",
              "    </tr>\n",
              "  </thead>\n",
              "  <tbody>\n",
              "    <tr>\n",
              "      <th>0</th>\n",
              "      <td>56</td>\n",
              "      <td>housemaid</td>\n",
              "      <td>married</td>\n",
              "      <td>basic.4y</td>\n",
              "      <td>no</td>\n",
              "      <td>no</td>\n",
              "      <td>no</td>\n",
              "      <td>telephone</td>\n",
              "      <td>may</td>\n",
              "      <td>mon</td>\n",
              "      <td>...</td>\n",
              "      <td>1</td>\n",
              "      <td>999</td>\n",
              "      <td>0</td>\n",
              "      <td>nonexistent</td>\n",
              "      <td>1.1</td>\n",
              "      <td>93.994</td>\n",
              "      <td>-36.4</td>\n",
              "      <td>4.857</td>\n",
              "      <td>5191.0</td>\n",
              "      <td>no</td>\n",
              "    </tr>\n",
              "    <tr>\n",
              "      <th>1</th>\n",
              "      <td>57</td>\n",
              "      <td>services</td>\n",
              "      <td>married</td>\n",
              "      <td>high.school</td>\n",
              "      <td>unknown</td>\n",
              "      <td>no</td>\n",
              "      <td>no</td>\n",
              "      <td>telephone</td>\n",
              "      <td>may</td>\n",
              "      <td>mon</td>\n",
              "      <td>...</td>\n",
              "      <td>1</td>\n",
              "      <td>999</td>\n",
              "      <td>0</td>\n",
              "      <td>nonexistent</td>\n",
              "      <td>1.1</td>\n",
              "      <td>93.994</td>\n",
              "      <td>-36.4</td>\n",
              "      <td>4.857</td>\n",
              "      <td>5191.0</td>\n",
              "      <td>no</td>\n",
              "    </tr>\n",
              "    <tr>\n",
              "      <th>2</th>\n",
              "      <td>37</td>\n",
              "      <td>services</td>\n",
              "      <td>married</td>\n",
              "      <td>high.school</td>\n",
              "      <td>no</td>\n",
              "      <td>yes</td>\n",
              "      <td>no</td>\n",
              "      <td>telephone</td>\n",
              "      <td>may</td>\n",
              "      <td>mon</td>\n",
              "      <td>...</td>\n",
              "      <td>1</td>\n",
              "      <td>999</td>\n",
              "      <td>0</td>\n",
              "      <td>nonexistent</td>\n",
              "      <td>1.1</td>\n",
              "      <td>93.994</td>\n",
              "      <td>-36.4</td>\n",
              "      <td>4.857</td>\n",
              "      <td>5191.0</td>\n",
              "      <td>no</td>\n",
              "    </tr>\n",
              "    <tr>\n",
              "      <th>3</th>\n",
              "      <td>40</td>\n",
              "      <td>admin.</td>\n",
              "      <td>married</td>\n",
              "      <td>basic.6y</td>\n",
              "      <td>no</td>\n",
              "      <td>no</td>\n",
              "      <td>no</td>\n",
              "      <td>telephone</td>\n",
              "      <td>may</td>\n",
              "      <td>mon</td>\n",
              "      <td>...</td>\n",
              "      <td>1</td>\n",
              "      <td>999</td>\n",
              "      <td>0</td>\n",
              "      <td>nonexistent</td>\n",
              "      <td>1.1</td>\n",
              "      <td>93.994</td>\n",
              "      <td>-36.4</td>\n",
              "      <td>4.857</td>\n",
              "      <td>5191.0</td>\n",
              "      <td>no</td>\n",
              "    </tr>\n",
              "    <tr>\n",
              "      <th>4</th>\n",
              "      <td>56</td>\n",
              "      <td>services</td>\n",
              "      <td>married</td>\n",
              "      <td>high.school</td>\n",
              "      <td>no</td>\n",
              "      <td>no</td>\n",
              "      <td>yes</td>\n",
              "      <td>telephone</td>\n",
              "      <td>may</td>\n",
              "      <td>mon</td>\n",
              "      <td>...</td>\n",
              "      <td>1</td>\n",
              "      <td>999</td>\n",
              "      <td>0</td>\n",
              "      <td>nonexistent</td>\n",
              "      <td>1.1</td>\n",
              "      <td>93.994</td>\n",
              "      <td>-36.4</td>\n",
              "      <td>4.857</td>\n",
              "      <td>5191.0</td>\n",
              "      <td>no</td>\n",
              "    </tr>\n",
              "  </tbody>\n",
              "</table>\n",
              "<p>5 rows × 21 columns</p>\n",
              "</div>\n",
              "      <button class=\"colab-df-convert\" onclick=\"convertToInteractive('df-e2f7bc82-8754-47ba-89a5-b69543ea3b50')\"\n",
              "              title=\"Convert this dataframe to an interactive table.\"\n",
              "              style=\"display:none;\">\n",
              "        \n",
              "  <svg xmlns=\"http://www.w3.org/2000/svg\" height=\"24px\"viewBox=\"0 0 24 24\"\n",
              "       width=\"24px\">\n",
              "    <path d=\"M0 0h24v24H0V0z\" fill=\"none\"/>\n",
              "    <path d=\"M18.56 5.44l.94 2.06.94-2.06 2.06-.94-2.06-.94-.94-2.06-.94 2.06-2.06.94zm-11 1L8.5 8.5l.94-2.06 2.06-.94-2.06-.94L8.5 2.5l-.94 2.06-2.06.94zm10 10l.94 2.06.94-2.06 2.06-.94-2.06-.94-.94-2.06-.94 2.06-2.06.94z\"/><path d=\"M17.41 7.96l-1.37-1.37c-.4-.4-.92-.59-1.43-.59-.52 0-1.04.2-1.43.59L10.3 9.45l-7.72 7.72c-.78.78-.78 2.05 0 2.83L4 21.41c.39.39.9.59 1.41.59.51 0 1.02-.2 1.41-.59l7.78-7.78 2.81-2.81c.8-.78.8-2.07 0-2.86zM5.41 20L4 18.59l7.72-7.72 1.47 1.35L5.41 20z\"/>\n",
              "  </svg>\n",
              "      </button>\n",
              "      \n",
              "  <style>\n",
              "    .colab-df-container {\n",
              "      display:flex;\n",
              "      flex-wrap:wrap;\n",
              "      gap: 12px;\n",
              "    }\n",
              "\n",
              "    .colab-df-convert {\n",
              "      background-color: #E8F0FE;\n",
              "      border: none;\n",
              "      border-radius: 50%;\n",
              "      cursor: pointer;\n",
              "      display: none;\n",
              "      fill: #1967D2;\n",
              "      height: 32px;\n",
              "      padding: 0 0 0 0;\n",
              "      width: 32px;\n",
              "    }\n",
              "\n",
              "    .colab-df-convert:hover {\n",
              "      background-color: #E2EBFA;\n",
              "      box-shadow: 0px 1px 2px rgba(60, 64, 67, 0.3), 0px 1px 3px 1px rgba(60, 64, 67, 0.15);\n",
              "      fill: #174EA6;\n",
              "    }\n",
              "\n",
              "    [theme=dark] .colab-df-convert {\n",
              "      background-color: #3B4455;\n",
              "      fill: #D2E3FC;\n",
              "    }\n",
              "\n",
              "    [theme=dark] .colab-df-convert:hover {\n",
              "      background-color: #434B5C;\n",
              "      box-shadow: 0px 1px 3px 1px rgba(0, 0, 0, 0.15);\n",
              "      filter: drop-shadow(0px 1px 2px rgba(0, 0, 0, 0.3));\n",
              "      fill: #FFFFFF;\n",
              "    }\n",
              "  </style>\n",
              "\n",
              "      <script>\n",
              "        const buttonEl =\n",
              "          document.querySelector('#df-e2f7bc82-8754-47ba-89a5-b69543ea3b50 button.colab-df-convert');\n",
              "        buttonEl.style.display =\n",
              "          google.colab.kernel.accessAllowed ? 'block' : 'none';\n",
              "\n",
              "        async function convertToInteractive(key) {\n",
              "          const element = document.querySelector('#df-e2f7bc82-8754-47ba-89a5-b69543ea3b50');\n",
              "          const dataTable =\n",
              "            await google.colab.kernel.invokeFunction('convertToInteractive',\n",
              "                                                     [key], {});\n",
              "          if (!dataTable) return;\n",
              "\n",
              "          const docLinkHtml = 'Like what you see? Visit the ' +\n",
              "            '<a target=\"_blank\" href=https://colab.research.google.com/notebooks/data_table.ipynb>data table notebook</a>'\n",
              "            + ' to learn more about interactive tables.';\n",
              "          element.innerHTML = '';\n",
              "          dataTable['output_type'] = 'display_data';\n",
              "          await google.colab.output.renderOutput(dataTable, element);\n",
              "          const docLink = document.createElement('div');\n",
              "          docLink.innerHTML = docLinkHtml;\n",
              "          element.appendChild(docLink);\n",
              "        }\n",
              "      </script>\n",
              "    </div>\n",
              "  </div>\n",
              "  "
            ]
          },
          "metadata": {},
          "execution_count": 14
        }
      ],
      "source": [
        "df.head()"
      ]
    },
    {
      "cell_type": "markdown",
      "metadata": {
        "id": "diGSFC65PKKf"
      },
      "source": [
        "### Problem 3: Understanding the Features\n",
        "\n",
        "\n",
        "Examine the data description below, and determine if any of the features are missing values or need to be coerced to a different data type.\n",
        "\n",
        "\n",
        "```\n",
        "Input variables:\n",
        "# bank client data:\n",
        "1 - age (numeric)\n",
        "2 - job : type of job (categorical: 'admin.','blue-collar','entrepreneur','housemaid','management','retired','self-employed','services','student','technician','unemployed','unknown')\n",
        "3 - marital : marital status (categorical: 'divorced','married','single','unknown'; note: 'divorced' means divorced or widowed)\n",
        "4 - education (categorical: 'basic.4y','basic.6y','basic.9y','high.school','illiterate','professional.course','university.degree','unknown')\n",
        "5 - default: has credit in default? (categorical: 'no','yes','unknown')\n",
        "6 - housing: has housing loan? (categorical: 'no','yes','unknown')\n",
        "7 - loan: has personal loan? (categorical: 'no','yes','unknown')\n",
        "# related with the last contact of the current campaign:\n",
        "8 - contact: contact communication type (categorical: 'cellular','telephone')\n",
        "9 - month: last contact month of year (categorical: 'jan', 'feb', 'mar', ..., 'nov', 'dec')\n",
        "10 - day_of_week: last contact day of the week (categorical: 'mon','tue','wed','thu','fri')\n",
        "11 - duration: last contact duration, in seconds (numeric). Important note: this attribute highly affects the output target (e.g., if duration=0 then y='no'). Yet, the duration is not known before a call is performed. Also, after the end of the call y is obviously known. Thus, this input should only be included for benchmark purposes and should be discarded if the intention is to have a realistic predictive model.\n",
        "# other attributes:\n",
        "12 - campaign: number of contacts performed during this campaign and for this client (numeric, includes last contact)\n",
        "13 - pdays: number of days that passed by after the client was last contacted from a previous campaign (numeric; 999 means client was not previously contacted)\n",
        "14 - previous: number of contacts performed before this campaign and for this client (numeric)\n",
        "15 - poutcome: outcome of the previous marketing campaign (categorical: 'failure','nonexistent','success')\n",
        "# social and economic context attributes\n",
        "16 - emp.var.rate: employment variation rate - quarterly indicator (numeric)\n",
        "17 - cons.price.idx: consumer price index - monthly indicator (numeric)\n",
        "18 - cons.conf.idx: consumer confidence index - monthly indicator (numeric)\n",
        "19 - euribor3m: euribor 3 month rate - daily indicator (numeric)\n",
        "20 - nr.employed: number of employees - quarterly indicator (numeric)\n",
        "\n",
        "Output variable (desired target):\n",
        "21 - y - has the client subscribed a term deposit? (binary: 'yes','no')\n",
        "```\n",
        "\n"
      ]
    },
    {
      "cell_type": "markdown",
      "metadata": {
        "id": "2YmfmyIaPKKh"
      },
      "source": [
        "-Duration should be dropped from the predictive model as we do not know duration until the call is finished.  \n",
        "-pdays needs to be coercd to categorial as not being prviously contacted can create issues"
      ]
    },
    {
      "cell_type": "markdown",
      "metadata": {
        "id": "DOa-w0uLPKKh"
      },
      "source": [
        "### Problem 4: Understanding the Task\n",
        "\n",
        "After examining the description and data, your goal now is to clearly state the *Business Objective* of the task.  State the objective below."
      ]
    },
    {
      "cell_type": "code",
      "execution_count": 15,
      "metadata": {
        "colab": {
          "base_uri": "https://localhost:8080/"
        },
        "id": "0l4DsgJYPKKh",
        "outputId": "647aa18f-373f-422e-93a1-b4d6960883a4"
      },
      "outputs": [
        {
          "output_type": "stream",
          "name": "stdout",
          "text": [
            "<class 'pandas.core.frame.DataFrame'>\n",
            "RangeIndex: 41188 entries, 0 to 41187\n",
            "Data columns (total 21 columns):\n",
            " #   Column          Non-Null Count  Dtype  \n",
            "---  ------          --------------  -----  \n",
            " 0   age             41188 non-null  int64  \n",
            " 1   job             41188 non-null  object \n",
            " 2   marital         41188 non-null  object \n",
            " 3   education       41188 non-null  object \n",
            " 4   default         41188 non-null  object \n",
            " 5   housing         41188 non-null  object \n",
            " 6   loan            41188 non-null  object \n",
            " 7   contact         41188 non-null  object \n",
            " 8   month           41188 non-null  object \n",
            " 9   day_of_week     41188 non-null  object \n",
            " 10  duration        41188 non-null  int64  \n",
            " 11  campaign        41188 non-null  int64  \n",
            " 12  pdays           41188 non-null  int64  \n",
            " 13  previous        41188 non-null  int64  \n",
            " 14  poutcome        41188 non-null  object \n",
            " 15  emp.var.rate    41188 non-null  float64\n",
            " 16  cons.price.idx  41188 non-null  float64\n",
            " 17  cons.conf.idx   41188 non-null  float64\n",
            " 18  euribor3m       41188 non-null  float64\n",
            " 19  nr.employed     41188 non-null  float64\n",
            " 20  y               41188 non-null  object \n",
            "dtypes: float64(5), int64(5), object(11)\n",
            "memory usage: 6.6+ MB\n"
          ]
        }
      ],
      "source": [
        "df.info()"
      ]
    },
    {
      "cell_type": "markdown",
      "metadata": {
        "id": "Dn6WKJhzPKKi"
      },
      "source": [
        "The goal is to develop a model that can predict the outcome of a contact, specifically whether a client will subscribe to a deposit. This model will improve campaign efficiency by identifying key characteristics that affect success, enabling better management of resources such as human effort, phone calls, and time, as well as the selection of high-quality, cost-effective potential customer; resulting in increased efficiency of directed campaigns for long-term deposit subscriptions by reducing the number of contacts to do."
      ]
    },
    {
      "cell_type": "markdown",
      "metadata": {
        "id": "ksmt37vaPKKi"
      },
      "source": [
        "### Problem 5: Engineering Features\n",
        "\n",
        "Now that you understand your business objective, we will build a basic model to get started.  Before we can do this, we must work to encode the data.  Using just the bank information features (columns 1 - 7), prepare the features and target column for modeling with appropriate encoding and transformations."
      ]
    },
    {
      "cell_type": "code",
      "execution_count": 16,
      "metadata": {
        "colab": {
          "base_uri": "https://localhost:8080/"
        },
        "id": "wY65PDMLPKKi",
        "outputId": "d62a0bd6-107f-4449-efa4-44a1709f0465"
      },
      "outputs": [
        {
          "output_type": "stream",
          "name": "stdout",
          "text": [
            "41188\n",
            "41188\n"
          ]
        }
      ],
      "source": [
        "df_clean = df.dropna() #To eliminate all rows with empty values\n",
        "print(len(df))\n",
        "print(len(df_clean))"
      ]
    },
    {
      "cell_type": "code",
      "execution_count": 17,
      "metadata": {
        "colab": {
          "base_uri": "https://localhost:8080/",
          "height": 206
        },
        "id": "XA4jrycnPKKi",
        "outputId": "3d7490fb-ef90-4a88-d9b4-5ef7f5435c66"
      },
      "outputs": [
        {
          "output_type": "execute_result",
          "data": {
            "text/plain": [
              "   age        job  marital    education  default housing loan\n",
              "0   56  housemaid  married     basic.4y       no      no   no\n",
              "1   57   services  married  high.school  unknown      no   no\n",
              "2   37   services  married  high.school       no     yes   no\n",
              "3   40     admin.  married     basic.6y       no      no   no\n",
              "4   56   services  married  high.school       no      no  yes"
            ],
            "text/html": [
              "\n",
              "  <div id=\"df-b02d6d68-916b-400f-8bb9-cf15d560fe23\">\n",
              "    <div class=\"colab-df-container\">\n",
              "      <div>\n",
              "<style scoped>\n",
              "    .dataframe tbody tr th:only-of-type {\n",
              "        vertical-align: middle;\n",
              "    }\n",
              "\n",
              "    .dataframe tbody tr th {\n",
              "        vertical-align: top;\n",
              "    }\n",
              "\n",
              "    .dataframe thead th {\n",
              "        text-align: right;\n",
              "    }\n",
              "</style>\n",
              "<table border=\"1\" class=\"dataframe\">\n",
              "  <thead>\n",
              "    <tr style=\"text-align: right;\">\n",
              "      <th></th>\n",
              "      <th>age</th>\n",
              "      <th>job</th>\n",
              "      <th>marital</th>\n",
              "      <th>education</th>\n",
              "      <th>default</th>\n",
              "      <th>housing</th>\n",
              "      <th>loan</th>\n",
              "    </tr>\n",
              "  </thead>\n",
              "  <tbody>\n",
              "    <tr>\n",
              "      <th>0</th>\n",
              "      <td>56</td>\n",
              "      <td>housemaid</td>\n",
              "      <td>married</td>\n",
              "      <td>basic.4y</td>\n",
              "      <td>no</td>\n",
              "      <td>no</td>\n",
              "      <td>no</td>\n",
              "    </tr>\n",
              "    <tr>\n",
              "      <th>1</th>\n",
              "      <td>57</td>\n",
              "      <td>services</td>\n",
              "      <td>married</td>\n",
              "      <td>high.school</td>\n",
              "      <td>unknown</td>\n",
              "      <td>no</td>\n",
              "      <td>no</td>\n",
              "    </tr>\n",
              "    <tr>\n",
              "      <th>2</th>\n",
              "      <td>37</td>\n",
              "      <td>services</td>\n",
              "      <td>married</td>\n",
              "      <td>high.school</td>\n",
              "      <td>no</td>\n",
              "      <td>yes</td>\n",
              "      <td>no</td>\n",
              "    </tr>\n",
              "    <tr>\n",
              "      <th>3</th>\n",
              "      <td>40</td>\n",
              "      <td>admin.</td>\n",
              "      <td>married</td>\n",
              "      <td>basic.6y</td>\n",
              "      <td>no</td>\n",
              "      <td>no</td>\n",
              "      <td>no</td>\n",
              "    </tr>\n",
              "    <tr>\n",
              "      <th>4</th>\n",
              "      <td>56</td>\n",
              "      <td>services</td>\n",
              "      <td>married</td>\n",
              "      <td>high.school</td>\n",
              "      <td>no</td>\n",
              "      <td>no</td>\n",
              "      <td>yes</td>\n",
              "    </tr>\n",
              "  </tbody>\n",
              "</table>\n",
              "</div>\n",
              "      <button class=\"colab-df-convert\" onclick=\"convertToInteractive('df-b02d6d68-916b-400f-8bb9-cf15d560fe23')\"\n",
              "              title=\"Convert this dataframe to an interactive table.\"\n",
              "              style=\"display:none;\">\n",
              "        \n",
              "  <svg xmlns=\"http://www.w3.org/2000/svg\" height=\"24px\"viewBox=\"0 0 24 24\"\n",
              "       width=\"24px\">\n",
              "    <path d=\"M0 0h24v24H0V0z\" fill=\"none\"/>\n",
              "    <path d=\"M18.56 5.44l.94 2.06.94-2.06 2.06-.94-2.06-.94-.94-2.06-.94 2.06-2.06.94zm-11 1L8.5 8.5l.94-2.06 2.06-.94-2.06-.94L8.5 2.5l-.94 2.06-2.06.94zm10 10l.94 2.06.94-2.06 2.06-.94-2.06-.94-.94-2.06-.94 2.06-2.06.94z\"/><path d=\"M17.41 7.96l-1.37-1.37c-.4-.4-.92-.59-1.43-.59-.52 0-1.04.2-1.43.59L10.3 9.45l-7.72 7.72c-.78.78-.78 2.05 0 2.83L4 21.41c.39.39.9.59 1.41.59.51 0 1.02-.2 1.41-.59l7.78-7.78 2.81-2.81c.8-.78.8-2.07 0-2.86zM5.41 20L4 18.59l7.72-7.72 1.47 1.35L5.41 20z\"/>\n",
              "  </svg>\n",
              "      </button>\n",
              "      \n",
              "  <style>\n",
              "    .colab-df-container {\n",
              "      display:flex;\n",
              "      flex-wrap:wrap;\n",
              "      gap: 12px;\n",
              "    }\n",
              "\n",
              "    .colab-df-convert {\n",
              "      background-color: #E8F0FE;\n",
              "      border: none;\n",
              "      border-radius: 50%;\n",
              "      cursor: pointer;\n",
              "      display: none;\n",
              "      fill: #1967D2;\n",
              "      height: 32px;\n",
              "      padding: 0 0 0 0;\n",
              "      width: 32px;\n",
              "    }\n",
              "\n",
              "    .colab-df-convert:hover {\n",
              "      background-color: #E2EBFA;\n",
              "      box-shadow: 0px 1px 2px rgba(60, 64, 67, 0.3), 0px 1px 3px 1px rgba(60, 64, 67, 0.15);\n",
              "      fill: #174EA6;\n",
              "    }\n",
              "\n",
              "    [theme=dark] .colab-df-convert {\n",
              "      background-color: #3B4455;\n",
              "      fill: #D2E3FC;\n",
              "    }\n",
              "\n",
              "    [theme=dark] .colab-df-convert:hover {\n",
              "      background-color: #434B5C;\n",
              "      box-shadow: 0px 1px 3px 1px rgba(0, 0, 0, 0.15);\n",
              "      filter: drop-shadow(0px 1px 2px rgba(0, 0, 0, 0.3));\n",
              "      fill: #FFFFFF;\n",
              "    }\n",
              "  </style>\n",
              "\n",
              "      <script>\n",
              "        const buttonEl =\n",
              "          document.querySelector('#df-b02d6d68-916b-400f-8bb9-cf15d560fe23 button.colab-df-convert');\n",
              "        buttonEl.style.display =\n",
              "          google.colab.kernel.accessAllowed ? 'block' : 'none';\n",
              "\n",
              "        async function convertToInteractive(key) {\n",
              "          const element = document.querySelector('#df-b02d6d68-916b-400f-8bb9-cf15d560fe23');\n",
              "          const dataTable =\n",
              "            await google.colab.kernel.invokeFunction('convertToInteractive',\n",
              "                                                     [key], {});\n",
              "          if (!dataTable) return;\n",
              "\n",
              "          const docLinkHtml = 'Like what you see? Visit the ' +\n",
              "            '<a target=\"_blank\" href=https://colab.research.google.com/notebooks/data_table.ipynb>data table notebook</a>'\n",
              "            + ' to learn more about interactive tables.';\n",
              "          element.innerHTML = '';\n",
              "          dataTable['output_type'] = 'display_data';\n",
              "          await google.colab.output.renderOutput(dataTable, element);\n",
              "          const docLink = document.createElement('div');\n",
              "          docLink.innerHTML = docLinkHtml;\n",
              "          element.appendChild(docLink);\n",
              "        }\n",
              "      </script>\n",
              "    </div>\n",
              "  </div>\n",
              "  "
            ]
          },
          "metadata": {},
          "execution_count": 17
        }
      ],
      "source": [
        "X=df_clean.iloc[:, 0:7]\n",
        "X.head()"
      ]
    },
    {
      "cell_type": "code",
      "execution_count": 18,
      "metadata": {
        "colab": {
          "base_uri": "https://localhost:8080/"
        },
        "id": "SlcaQG4dPKKi",
        "outputId": "839ed193-5548-4e49-b16d-fa7cd4cf4820"
      },
      "outputs": [
        {
          "output_type": "execute_result",
          "data": {
            "text/plain": [
              "0    no\n",
              "1    no\n",
              "2    no\n",
              "3    no\n",
              "4    no\n",
              "Name: y, dtype: object"
            ]
          },
          "metadata": {},
          "execution_count": 18
        }
      ],
      "source": [
        "y=df_clean.y\n",
        "y.head()"
      ]
    },
    {
      "cell_type": "markdown",
      "metadata": {
        "id": "58ddsadQPKKj"
      },
      "source": [
        "### Problem 6: Train/Test Split\n",
        "\n",
        "With your data prepared, split it into a train and test set."
      ]
    },
    {
      "cell_type": "code",
      "execution_count": 19,
      "metadata": {
        "id": "O88M_2e3PKKj"
      },
      "outputs": [],
      "source": [
        "X_train, X_test, y_train, y_test = train_test_split(X, y, stratify = df_clean.y, random_state=42)"
      ]
    },
    {
      "cell_type": "markdown",
      "metadata": {
        "id": "lQj9d2pNPKKj"
      },
      "source": [
        "### Problem 7: A Baseline Model\n",
        "\n",
        "Before we build our first model, we want to establish a baseline.  What is the baseline performance that our classifier should aim to beat?"
      ]
    },
    {
      "cell_type": "code",
      "execution_count": 20,
      "metadata": {
        "id": "3yXmZd0LPKKj"
      },
      "outputs": [],
      "source": [
        "# Create an instance of the DummyClassifier\n",
        "clf = DummyClassifier(strategy='most_frequent')"
      ]
    },
    {
      "cell_type": "code",
      "execution_count": 21,
      "metadata": {
        "colab": {
          "base_uri": "https://localhost:8080/"
        },
        "id": "VFogIRvePKKj",
        "outputId": "5f692a9d-8ee1-4385-ffc0-8870e3c954b3"
      },
      "outputs": [
        {
          "output_type": "stream",
          "name": "stdout",
          "text": [
            "Training time: 0.023268699645996094s\n"
          ]
        }
      ],
      "source": [
        "# Fit the classifier to the training data\n",
        "\n",
        "import time\n",
        "\n",
        "start = time.time()\n",
        "\n",
        "clf.fit(X_train, y_train)\n",
        "\n",
        "stop = time.time()\n",
        "time = stop - start\n",
        "print(f\"Training time: {stop - start}s\")"
      ]
    },
    {
      "cell_type": "code",
      "execution_count": 22,
      "metadata": {
        "id": "neBXjsA5PKKk"
      },
      "outputs": [],
      "source": [
        "# Make predictions on the test set\n",
        "y_pred = clf.predict(X_test)"
      ]
    },
    {
      "cell_type": "code",
      "execution_count": 23,
      "metadata": {
        "colab": {
          "base_uri": "https://localhost:8080/"
        },
        "id": "QA_JxTpEPKKk",
        "outputId": "54784a10-49cc-46a3-da83-ee8714d9f64e"
      },
      "outputs": [
        {
          "output_type": "stream",
          "name": "stdout",
          "text": [
            "baseline_test_accuracy: 0.8873458288821987\n",
            "baseline_train_accuracy: 0.8873458288821987\n"
          ]
        }
      ],
      "source": [
        "# Calculate the accuracy of the classifier\n",
        "baseline_test_accuracy = accuracy_score(y_test, clf.predict(X_test))\n",
        "baseline_train_accuracy = accuracy_score(y_train, clf.predict(X_train))\n",
        "\n",
        "print('baseline_test_accuracy:',baseline_test_accuracy)\n",
        "print('baseline_train_accuracy:',baseline_train_accuracy)"
      ]
    },
    {
      "cell_type": "code",
      "execution_count": 24,
      "metadata": {
        "colab": {
          "base_uri": "https://localhost:8080/",
          "height": 81
        },
        "id": "3jXg30tAPKKk",
        "outputId": "b74cf393-f7db-46e4-cb69-a12fc6ac7953"
      },
      "outputs": [
        {
          "output_type": "execute_result",
          "data": {
            "text/plain": [
              "      model  Train Time  Train Accuracy  Test Accuracy\n",
              "0  Baseline    0.023269        0.887346       0.887346"
            ],
            "text/html": [
              "\n",
              "  <div id=\"df-15f3c3c1-9153-42d6-ab5e-759290637524\">\n",
              "    <div class=\"colab-df-container\">\n",
              "      <div>\n",
              "<style scoped>\n",
              "    .dataframe tbody tr th:only-of-type {\n",
              "        vertical-align: middle;\n",
              "    }\n",
              "\n",
              "    .dataframe tbody tr th {\n",
              "        vertical-align: top;\n",
              "    }\n",
              "\n",
              "    .dataframe thead th {\n",
              "        text-align: right;\n",
              "    }\n",
              "</style>\n",
              "<table border=\"1\" class=\"dataframe\">\n",
              "  <thead>\n",
              "    <tr style=\"text-align: right;\">\n",
              "      <th></th>\n",
              "      <th>model</th>\n",
              "      <th>Train Time</th>\n",
              "      <th>Train Accuracy</th>\n",
              "      <th>Test Accuracy</th>\n",
              "    </tr>\n",
              "  </thead>\n",
              "  <tbody>\n",
              "    <tr>\n",
              "      <th>0</th>\n",
              "      <td>Baseline</td>\n",
              "      <td>0.023269</td>\n",
              "      <td>0.887346</td>\n",
              "      <td>0.887346</td>\n",
              "    </tr>\n",
              "  </tbody>\n",
              "</table>\n",
              "</div>\n",
              "      <button class=\"colab-df-convert\" onclick=\"convertToInteractive('df-15f3c3c1-9153-42d6-ab5e-759290637524')\"\n",
              "              title=\"Convert this dataframe to an interactive table.\"\n",
              "              style=\"display:none;\">\n",
              "        \n",
              "  <svg xmlns=\"http://www.w3.org/2000/svg\" height=\"24px\"viewBox=\"0 0 24 24\"\n",
              "       width=\"24px\">\n",
              "    <path d=\"M0 0h24v24H0V0z\" fill=\"none\"/>\n",
              "    <path d=\"M18.56 5.44l.94 2.06.94-2.06 2.06-.94-2.06-.94-.94-2.06-.94 2.06-2.06.94zm-11 1L8.5 8.5l.94-2.06 2.06-.94-2.06-.94L8.5 2.5l-.94 2.06-2.06.94zm10 10l.94 2.06.94-2.06 2.06-.94-2.06-.94-.94-2.06-.94 2.06-2.06.94z\"/><path d=\"M17.41 7.96l-1.37-1.37c-.4-.4-.92-.59-1.43-.59-.52 0-1.04.2-1.43.59L10.3 9.45l-7.72 7.72c-.78.78-.78 2.05 0 2.83L4 21.41c.39.39.9.59 1.41.59.51 0 1.02-.2 1.41-.59l7.78-7.78 2.81-2.81c.8-.78.8-2.07 0-2.86zM5.41 20L4 18.59l7.72-7.72 1.47 1.35L5.41 20z\"/>\n",
              "  </svg>\n",
              "      </button>\n",
              "      \n",
              "  <style>\n",
              "    .colab-df-container {\n",
              "      display:flex;\n",
              "      flex-wrap:wrap;\n",
              "      gap: 12px;\n",
              "    }\n",
              "\n",
              "    .colab-df-convert {\n",
              "      background-color: #E8F0FE;\n",
              "      border: none;\n",
              "      border-radius: 50%;\n",
              "      cursor: pointer;\n",
              "      display: none;\n",
              "      fill: #1967D2;\n",
              "      height: 32px;\n",
              "      padding: 0 0 0 0;\n",
              "      width: 32px;\n",
              "    }\n",
              "\n",
              "    .colab-df-convert:hover {\n",
              "      background-color: #E2EBFA;\n",
              "      box-shadow: 0px 1px 2px rgba(60, 64, 67, 0.3), 0px 1px 3px 1px rgba(60, 64, 67, 0.15);\n",
              "      fill: #174EA6;\n",
              "    }\n",
              "\n",
              "    [theme=dark] .colab-df-convert {\n",
              "      background-color: #3B4455;\n",
              "      fill: #D2E3FC;\n",
              "    }\n",
              "\n",
              "    [theme=dark] .colab-df-convert:hover {\n",
              "      background-color: #434B5C;\n",
              "      box-shadow: 0px 1px 3px 1px rgba(0, 0, 0, 0.15);\n",
              "      filter: drop-shadow(0px 1px 2px rgba(0, 0, 0, 0.3));\n",
              "      fill: #FFFFFF;\n",
              "    }\n",
              "  </style>\n",
              "\n",
              "      <script>\n",
              "        const buttonEl =\n",
              "          document.querySelector('#df-15f3c3c1-9153-42d6-ab5e-759290637524 button.colab-df-convert');\n",
              "        buttonEl.style.display =\n",
              "          google.colab.kernel.accessAllowed ? 'block' : 'none';\n",
              "\n",
              "        async function convertToInteractive(key) {\n",
              "          const element = document.querySelector('#df-15f3c3c1-9153-42d6-ab5e-759290637524');\n",
              "          const dataTable =\n",
              "            await google.colab.kernel.invokeFunction('convertToInteractive',\n",
              "                                                     [key], {});\n",
              "          if (!dataTable) return;\n",
              "\n",
              "          const docLinkHtml = 'Like what you see? Visit the ' +\n",
              "            '<a target=\"_blank\" href=https://colab.research.google.com/notebooks/data_table.ipynb>data table notebook</a>'\n",
              "            + ' to learn more about interactive tables.';\n",
              "          element.innerHTML = '';\n",
              "          dataTable['output_type'] = 'display_data';\n",
              "          await google.colab.output.renderOutput(dataTable, element);\n",
              "          const docLink = document.createElement('div');\n",
              "          docLink.innerHTML = docLinkHtml;\n",
              "          element.appendChild(docLink);\n",
              "        }\n",
              "      </script>\n",
              "    </div>\n",
              "  </div>\n",
              "  "
            ]
          },
          "metadata": {},
          "execution_count": 24
        }
      ],
      "source": [
        "# create a dictionary with the mean of each key-value pair\n",
        "baseline_results = {'model': 'Baseline','Train Time': time, 'Train Accuracy': baseline_train_accuracy, 'Test Accuracy': baseline_test_accuracy}\n",
        "baseline_results_df = pd.DataFrame(baseline_results, index=[0])\n",
        "baseline_results_df"
      ]
    },
    {
      "cell_type": "markdown",
      "metadata": {
        "id": "YQR3I9H8PKKk"
      },
      "source": [
        "### Problem 8: A Simple Model\n",
        "\n",
        "Use Logistic Regression to build a basic model on your data.  "
      ]
    },
    {
      "cell_type": "code",
      "execution_count": 25,
      "metadata": {
        "id": "NLyIRvW8PKKk"
      },
      "outputs": [],
      "source": [
        "transformer = make_column_transformer((OneHotEncoder(drop = 'if_binary'), \n",
        "                                       ['job','marital','education','default','housing','loan',]),\n",
        "                                      remainder = StandardScaler())"
      ]
    },
    {
      "cell_type": "code",
      "execution_count": 26,
      "metadata": {
        "id": "YNcQSaBAPKKk"
      },
      "outputs": [],
      "source": [
        "lgr_pipe = Pipeline([('transformer', transformer),('lr', LogisticRegression())])"
      ]
    },
    {
      "cell_type": "code",
      "execution_count": 27,
      "metadata": {
        "colab": {
          "base_uri": "https://localhost:8080/"
        },
        "id": "dpY7nHVEPKKk",
        "outputId": "cef68609-fb6b-441f-c4ec-3a9148c7d594"
      },
      "outputs": [
        {
          "output_type": "stream",
          "name": "stdout",
          "text": [
            "Training time: 0.4672985076904297s\n"
          ]
        }
      ],
      "source": [
        "import time\n",
        "\n",
        "start = time.time()\n",
        "\n",
        "lgr_pipe.fit(X_train, y_train)\n",
        "\n",
        "stop = time.time()\n",
        "time = stop - start\n",
        "print(f\"Training time: {stop - start}s\")"
      ]
    },
    {
      "cell_type": "markdown",
      "metadata": {
        "id": "B0klkUn-PKKl"
      },
      "source": [
        "#### Problem 9: Score the Model\n",
        "\n",
        "What is the accuracy of your model?"
      ]
    },
    {
      "cell_type": "code",
      "execution_count": 28,
      "metadata": {
        "colab": {
          "base_uri": "https://localhost:8080/"
        },
        "id": "pIXKStr1PKKl",
        "outputId": "a61ce21a-ad5d-4b7f-dcb6-19b27fc65b50"
      },
      "outputs": [
        {
          "output_type": "stream",
          "name": "stdout",
          "text": [
            "lgr_test_accuracy: 0.8873458288821987\n",
            "lgr_train_accuracy: 0.8873458288821987\n"
          ]
        }
      ],
      "source": [
        "lgr_test_accuracy = accuracy_score(y_test, lgr_pipe.predict(X_test))\n",
        "lgr_train_accuracy = accuracy_score(y_train, lgr_pipe.predict(X_train))\n",
        "\n",
        "print('lgr_test_accuracy:',lgr_test_accuracy)\n",
        "print('lgr_train_accuracy:',lgr_train_accuracy)"
      ]
    },
    {
      "cell_type": "code",
      "execution_count": 29,
      "metadata": {
        "colab": {
          "base_uri": "https://localhost:8080/",
          "height": 81
        },
        "id": "rFEsImFrPKKl",
        "outputId": "68be4614-e065-439d-8a06-f765f60def7e"
      },
      "outputs": [
        {
          "output_type": "execute_result",
          "data": {
            "text/plain": [
              "                 model  Train Time  Train Accuracy  Test Accuracy\n",
              "0  Logistic Regression    0.467299        0.887346       0.887346"
            ],
            "text/html": [
              "\n",
              "  <div id=\"df-1a838743-be48-4774-9907-284c58f67f6e\">\n",
              "    <div class=\"colab-df-container\">\n",
              "      <div>\n",
              "<style scoped>\n",
              "    .dataframe tbody tr th:only-of-type {\n",
              "        vertical-align: middle;\n",
              "    }\n",
              "\n",
              "    .dataframe tbody tr th {\n",
              "        vertical-align: top;\n",
              "    }\n",
              "\n",
              "    .dataframe thead th {\n",
              "        text-align: right;\n",
              "    }\n",
              "</style>\n",
              "<table border=\"1\" class=\"dataframe\">\n",
              "  <thead>\n",
              "    <tr style=\"text-align: right;\">\n",
              "      <th></th>\n",
              "      <th>model</th>\n",
              "      <th>Train Time</th>\n",
              "      <th>Train Accuracy</th>\n",
              "      <th>Test Accuracy</th>\n",
              "    </tr>\n",
              "  </thead>\n",
              "  <tbody>\n",
              "    <tr>\n",
              "      <th>0</th>\n",
              "      <td>Logistic Regression</td>\n",
              "      <td>0.467299</td>\n",
              "      <td>0.887346</td>\n",
              "      <td>0.887346</td>\n",
              "    </tr>\n",
              "  </tbody>\n",
              "</table>\n",
              "</div>\n",
              "      <button class=\"colab-df-convert\" onclick=\"convertToInteractive('df-1a838743-be48-4774-9907-284c58f67f6e')\"\n",
              "              title=\"Convert this dataframe to an interactive table.\"\n",
              "              style=\"display:none;\">\n",
              "        \n",
              "  <svg xmlns=\"http://www.w3.org/2000/svg\" height=\"24px\"viewBox=\"0 0 24 24\"\n",
              "       width=\"24px\">\n",
              "    <path d=\"M0 0h24v24H0V0z\" fill=\"none\"/>\n",
              "    <path d=\"M18.56 5.44l.94 2.06.94-2.06 2.06-.94-2.06-.94-.94-2.06-.94 2.06-2.06.94zm-11 1L8.5 8.5l.94-2.06 2.06-.94-2.06-.94L8.5 2.5l-.94 2.06-2.06.94zm10 10l.94 2.06.94-2.06 2.06-.94-2.06-.94-.94-2.06-.94 2.06-2.06.94z\"/><path d=\"M17.41 7.96l-1.37-1.37c-.4-.4-.92-.59-1.43-.59-.52 0-1.04.2-1.43.59L10.3 9.45l-7.72 7.72c-.78.78-.78 2.05 0 2.83L4 21.41c.39.39.9.59 1.41.59.51 0 1.02-.2 1.41-.59l7.78-7.78 2.81-2.81c.8-.78.8-2.07 0-2.86zM5.41 20L4 18.59l7.72-7.72 1.47 1.35L5.41 20z\"/>\n",
              "  </svg>\n",
              "      </button>\n",
              "      \n",
              "  <style>\n",
              "    .colab-df-container {\n",
              "      display:flex;\n",
              "      flex-wrap:wrap;\n",
              "      gap: 12px;\n",
              "    }\n",
              "\n",
              "    .colab-df-convert {\n",
              "      background-color: #E8F0FE;\n",
              "      border: none;\n",
              "      border-radius: 50%;\n",
              "      cursor: pointer;\n",
              "      display: none;\n",
              "      fill: #1967D2;\n",
              "      height: 32px;\n",
              "      padding: 0 0 0 0;\n",
              "      width: 32px;\n",
              "    }\n",
              "\n",
              "    .colab-df-convert:hover {\n",
              "      background-color: #E2EBFA;\n",
              "      box-shadow: 0px 1px 2px rgba(60, 64, 67, 0.3), 0px 1px 3px 1px rgba(60, 64, 67, 0.15);\n",
              "      fill: #174EA6;\n",
              "    }\n",
              "\n",
              "    [theme=dark] .colab-df-convert {\n",
              "      background-color: #3B4455;\n",
              "      fill: #D2E3FC;\n",
              "    }\n",
              "\n",
              "    [theme=dark] .colab-df-convert:hover {\n",
              "      background-color: #434B5C;\n",
              "      box-shadow: 0px 1px 3px 1px rgba(0, 0, 0, 0.15);\n",
              "      filter: drop-shadow(0px 1px 2px rgba(0, 0, 0, 0.3));\n",
              "      fill: #FFFFFF;\n",
              "    }\n",
              "  </style>\n",
              "\n",
              "      <script>\n",
              "        const buttonEl =\n",
              "          document.querySelector('#df-1a838743-be48-4774-9907-284c58f67f6e button.colab-df-convert');\n",
              "        buttonEl.style.display =\n",
              "          google.colab.kernel.accessAllowed ? 'block' : 'none';\n",
              "\n",
              "        async function convertToInteractive(key) {\n",
              "          const element = document.querySelector('#df-1a838743-be48-4774-9907-284c58f67f6e');\n",
              "          const dataTable =\n",
              "            await google.colab.kernel.invokeFunction('convertToInteractive',\n",
              "                                                     [key], {});\n",
              "          if (!dataTable) return;\n",
              "\n",
              "          const docLinkHtml = 'Like what you see? Visit the ' +\n",
              "            '<a target=\"_blank\" href=https://colab.research.google.com/notebooks/data_table.ipynb>data table notebook</a>'\n",
              "            + ' to learn more about interactive tables.';\n",
              "          element.innerHTML = '';\n",
              "          dataTable['output_type'] = 'display_data';\n",
              "          await google.colab.output.renderOutput(dataTable, element);\n",
              "          const docLink = document.createElement('div');\n",
              "          docLink.innerHTML = docLinkHtml;\n",
              "          element.appendChild(docLink);\n",
              "        }\n",
              "      </script>\n",
              "    </div>\n",
              "  </div>\n",
              "  "
            ]
          },
          "metadata": {},
          "execution_count": 29
        }
      ],
      "source": [
        "# create a dictionary with the mean of each key-value pair\n",
        "lgr_results = {'model': 'Logistic Regression','Train Time': time, 'Train Accuracy': lgr_train_accuracy, 'Test Accuracy': lgr_test_accuracy}\n",
        "lgr_results_df = pd.DataFrame(lgr_results, index=[0])\n",
        "lgr_results_df"
      ]
    },
    {
      "cell_type": "markdown",
      "metadata": {
        "id": "7r98BKfWPKKl"
      },
      "source": [
        "### Problem 10: Model Comparisons\n",
        "\n",
        "Now, we aim to compare the performance of the Logistic Regression model to our KNN algorithm, Decision Tree, and SVM models.  Using the default settings for each of the models, fit and score each.  Also, be sure to compare the fit time of each of the models.  Present your findings in a `DataFrame` similar to that below:\n",
        "\n",
        "| Model | Train Time | Train Accuracy | Test Accuracy |\n",
        "| ----- | ---------- | -------------  | -----------   |\n",
        "|     |    |.     |.     |"
      ]
    },
    {
      "cell_type": "markdown",
      "metadata": {
        "id": "pz9Mae7vPKKl"
      },
      "source": [
        "#### KNN algorithm"
      ]
    },
    {
      "cell_type": "code",
      "execution_count": 30,
      "metadata": {
        "id": "Fei7upZfPKKm"
      },
      "outputs": [],
      "source": [
        "transformer = make_column_transformer((OneHotEncoder(drop = 'if_binary'), ['job','marital','education','default','housing','loan',]),\n",
        "                                     remainder = StandardScaler())"
      ]
    },
    {
      "cell_type": "code",
      "execution_count": 31,
      "metadata": {
        "id": "U0_Hn7DlPKKm"
      },
      "outputs": [],
      "source": [
        "knn_pipe = Pipeline([('transformer', transformer),('knn', KNeighborsClassifier())])"
      ]
    },
    {
      "cell_type": "code",
      "execution_count": 32,
      "metadata": {
        "colab": {
          "base_uri": "https://localhost:8080/"
        },
        "id": "VkDklntVPKKm",
        "outputId": "9caa44e6-f510-4a5a-fe8c-ec063b793e95"
      },
      "outputs": [
        {
          "output_type": "stream",
          "name": "stdout",
          "text": [
            "Training time: 0.12270665168762207s\n"
          ]
        }
      ],
      "source": [
        "import time\n",
        "\n",
        "start = time.time()\n",
        "\n",
        "knn_pipe.fit(X_train, y_train)\n",
        "\n",
        "stop = time.time()\n",
        "time_knn = stop - start\n",
        "print(f\"Training time: {stop - start}s\")"
      ]
    },
    {
      "cell_type": "code",
      "execution_count": 33,
      "metadata": {
        "colab": {
          "base_uri": "https://localhost:8080/"
        },
        "id": "x1vPJ_m2PKKm",
        "outputId": "27fa8ba1-a94d-473b-ce97-cbd855677f91"
      },
      "outputs": [
        {
          "output_type": "stream",
          "name": "stdout",
          "text": [
            "knn_test_accuracy: 0.8772457997474993\n",
            "knn_train_accuracy: 0.8910685960312065\n"
          ]
        }
      ],
      "source": [
        "knn_test_accuracy = accuracy_score(y_test, knn_pipe.predict(X_test))\n",
        "knn_train_accuracy = accuracy_score(y_train, knn_pipe.predict(X_train))\n",
        "\n",
        "print('knn_test_accuracy:',knn_test_accuracy)\n",
        "print('knn_train_accuracy:',knn_train_accuracy)"
      ]
    },
    {
      "cell_type": "code",
      "execution_count": 34,
      "metadata": {
        "colab": {
          "base_uri": "https://localhost:8080/",
          "height": 81
        },
        "id": "RZZB0OyfPKKm",
        "outputId": "dcddf126-59d1-4b4d-cb17-836138695397"
      },
      "outputs": [
        {
          "output_type": "execute_result",
          "data": {
            "text/plain": [
              "  model  Train Time  Train Accuracy  Test Accuracy\n",
              "0   KNN    0.122707        0.891069       0.877246"
            ],
            "text/html": [
              "\n",
              "  <div id=\"df-f05bf563-db74-4e25-912c-9215986afef8\">\n",
              "    <div class=\"colab-df-container\">\n",
              "      <div>\n",
              "<style scoped>\n",
              "    .dataframe tbody tr th:only-of-type {\n",
              "        vertical-align: middle;\n",
              "    }\n",
              "\n",
              "    .dataframe tbody tr th {\n",
              "        vertical-align: top;\n",
              "    }\n",
              "\n",
              "    .dataframe thead th {\n",
              "        text-align: right;\n",
              "    }\n",
              "</style>\n",
              "<table border=\"1\" class=\"dataframe\">\n",
              "  <thead>\n",
              "    <tr style=\"text-align: right;\">\n",
              "      <th></th>\n",
              "      <th>model</th>\n",
              "      <th>Train Time</th>\n",
              "      <th>Train Accuracy</th>\n",
              "      <th>Test Accuracy</th>\n",
              "    </tr>\n",
              "  </thead>\n",
              "  <tbody>\n",
              "    <tr>\n",
              "      <th>0</th>\n",
              "      <td>KNN</td>\n",
              "      <td>0.122707</td>\n",
              "      <td>0.891069</td>\n",
              "      <td>0.877246</td>\n",
              "    </tr>\n",
              "  </tbody>\n",
              "</table>\n",
              "</div>\n",
              "      <button class=\"colab-df-convert\" onclick=\"convertToInteractive('df-f05bf563-db74-4e25-912c-9215986afef8')\"\n",
              "              title=\"Convert this dataframe to an interactive table.\"\n",
              "              style=\"display:none;\">\n",
              "        \n",
              "  <svg xmlns=\"http://www.w3.org/2000/svg\" height=\"24px\"viewBox=\"0 0 24 24\"\n",
              "       width=\"24px\">\n",
              "    <path d=\"M0 0h24v24H0V0z\" fill=\"none\"/>\n",
              "    <path d=\"M18.56 5.44l.94 2.06.94-2.06 2.06-.94-2.06-.94-.94-2.06-.94 2.06-2.06.94zm-11 1L8.5 8.5l.94-2.06 2.06-.94-2.06-.94L8.5 2.5l-.94 2.06-2.06.94zm10 10l.94 2.06.94-2.06 2.06-.94-2.06-.94-.94-2.06-.94 2.06-2.06.94z\"/><path d=\"M17.41 7.96l-1.37-1.37c-.4-.4-.92-.59-1.43-.59-.52 0-1.04.2-1.43.59L10.3 9.45l-7.72 7.72c-.78.78-.78 2.05 0 2.83L4 21.41c.39.39.9.59 1.41.59.51 0 1.02-.2 1.41-.59l7.78-7.78 2.81-2.81c.8-.78.8-2.07 0-2.86zM5.41 20L4 18.59l7.72-7.72 1.47 1.35L5.41 20z\"/>\n",
              "  </svg>\n",
              "      </button>\n",
              "      \n",
              "  <style>\n",
              "    .colab-df-container {\n",
              "      display:flex;\n",
              "      flex-wrap:wrap;\n",
              "      gap: 12px;\n",
              "    }\n",
              "\n",
              "    .colab-df-convert {\n",
              "      background-color: #E8F0FE;\n",
              "      border: none;\n",
              "      border-radius: 50%;\n",
              "      cursor: pointer;\n",
              "      display: none;\n",
              "      fill: #1967D2;\n",
              "      height: 32px;\n",
              "      padding: 0 0 0 0;\n",
              "      width: 32px;\n",
              "    }\n",
              "\n",
              "    .colab-df-convert:hover {\n",
              "      background-color: #E2EBFA;\n",
              "      box-shadow: 0px 1px 2px rgba(60, 64, 67, 0.3), 0px 1px 3px 1px rgba(60, 64, 67, 0.15);\n",
              "      fill: #174EA6;\n",
              "    }\n",
              "\n",
              "    [theme=dark] .colab-df-convert {\n",
              "      background-color: #3B4455;\n",
              "      fill: #D2E3FC;\n",
              "    }\n",
              "\n",
              "    [theme=dark] .colab-df-convert:hover {\n",
              "      background-color: #434B5C;\n",
              "      box-shadow: 0px 1px 3px 1px rgba(0, 0, 0, 0.15);\n",
              "      filter: drop-shadow(0px 1px 2px rgba(0, 0, 0, 0.3));\n",
              "      fill: #FFFFFF;\n",
              "    }\n",
              "  </style>\n",
              "\n",
              "      <script>\n",
              "        const buttonEl =\n",
              "          document.querySelector('#df-f05bf563-db74-4e25-912c-9215986afef8 button.colab-df-convert');\n",
              "        buttonEl.style.display =\n",
              "          google.colab.kernel.accessAllowed ? 'block' : 'none';\n",
              "\n",
              "        async function convertToInteractive(key) {\n",
              "          const element = document.querySelector('#df-f05bf563-db74-4e25-912c-9215986afef8');\n",
              "          const dataTable =\n",
              "            await google.colab.kernel.invokeFunction('convertToInteractive',\n",
              "                                                     [key], {});\n",
              "          if (!dataTable) return;\n",
              "\n",
              "          const docLinkHtml = 'Like what you see? Visit the ' +\n",
              "            '<a target=\"_blank\" href=https://colab.research.google.com/notebooks/data_table.ipynb>data table notebook</a>'\n",
              "            + ' to learn more about interactive tables.';\n",
              "          element.innerHTML = '';\n",
              "          dataTable['output_type'] = 'display_data';\n",
              "          await google.colab.output.renderOutput(dataTable, element);\n",
              "          const docLink = document.createElement('div');\n",
              "          docLink.innerHTML = docLinkHtml;\n",
              "          element.appendChild(docLink);\n",
              "        }\n",
              "      </script>\n",
              "    </div>\n",
              "  </div>\n",
              "  "
            ]
          },
          "metadata": {},
          "execution_count": 34
        }
      ],
      "source": [
        "# create a dictionary with the mean of each key-value pair\n",
        "knn_results = {'model': 'KNN','Train Time': time_knn, 'Train Accuracy': knn_train_accuracy, 'Test Accuracy': knn_test_accuracy}\n",
        "knn_results_df = pd.DataFrame(knn_results, index=[0])\n",
        "knn_results_df"
      ]
    },
    {
      "cell_type": "markdown",
      "metadata": {
        "id": "0ZgToSNnPKKm"
      },
      "source": [
        "#### Decision Tree"
      ]
    },
    {
      "cell_type": "code",
      "execution_count": 35,
      "metadata": {
        "id": "wzIchqjlPKKm"
      },
      "outputs": [],
      "source": [
        "transformer = make_column_transformer((OneHotEncoder(drop = 'if_binary'), ['job','marital','education','default','housing','loan',]),\n",
        "                                     remainder = StandardScaler())"
      ]
    },
    {
      "cell_type": "code",
      "execution_count": 36,
      "metadata": {
        "id": "xiR1IK3gPKKm"
      },
      "outputs": [],
      "source": [
        "DT_pipe = Pipeline([('transformer', transformer),('DT', DecisionTreeClassifier())])"
      ]
    },
    {
      "cell_type": "code",
      "execution_count": 37,
      "metadata": {
        "colab": {
          "base_uri": "https://localhost:8080/"
        },
        "id": "-HUp9p6cPKKn",
        "outputId": "17158314-7e41-43f4-9c48-737573bce599"
      },
      "outputs": [
        {
          "output_type": "stream",
          "name": "stdout",
          "text": [
            "Training time: 0.7726826667785645s\n"
          ]
        }
      ],
      "source": [
        "import time\n",
        "start = time.time()\n",
        "\n",
        "DT_pipe.fit(X_train, y_train)\n",
        "\n",
        "stop = time.time()\n",
        "time = stop - start\n",
        "print(f\"Training time: {stop - start}s\")"
      ]
    },
    {
      "cell_type": "code",
      "execution_count": 38,
      "metadata": {
        "colab": {
          "base_uri": "https://localhost:8080/"
        },
        "id": "MQfac-84PKKn",
        "outputId": "cb397d09-856d-49a1-95cd-3cbc7d1a53ce"
      },
      "outputs": [
        {
          "output_type": "stream",
          "name": "stdout",
          "text": [
            "DT_train_accuracy: 0.9177754038393059\n",
            "DT_test_accuracy: 0.8657861513062057\n"
          ]
        }
      ],
      "source": [
        "DT_test_accuracy = accuracy_score(y_test, DT_pipe.predict(X_test))\n",
        "DT_train_accuracy = accuracy_score(y_train, DT_pipe.predict(X_train))\n",
        "\n",
        "print('DT_train_accuracy:',DT_train_accuracy)\n",
        "print('DT_test_accuracy:',DT_test_accuracy)"
      ]
    },
    {
      "cell_type": "code",
      "execution_count": 39,
      "metadata": {
        "colab": {
          "base_uri": "https://localhost:8080/",
          "height": 81
        },
        "id": "dxgcQhzvPKKn",
        "outputId": "27bda3ee-b0fe-400b-8ba8-b4ea2aceeb89"
      },
      "outputs": [
        {
          "output_type": "execute_result",
          "data": {
            "text/plain": [
              "           model  Train Time  Train Accuracy  Test Accuracy\n",
              "0  Decision Tree    0.772683        0.917775       0.865786"
            ],
            "text/html": [
              "\n",
              "  <div id=\"df-e3c9be97-74a7-47e3-9125-7834061ffcef\">\n",
              "    <div class=\"colab-df-container\">\n",
              "      <div>\n",
              "<style scoped>\n",
              "    .dataframe tbody tr th:only-of-type {\n",
              "        vertical-align: middle;\n",
              "    }\n",
              "\n",
              "    .dataframe tbody tr th {\n",
              "        vertical-align: top;\n",
              "    }\n",
              "\n",
              "    .dataframe thead th {\n",
              "        text-align: right;\n",
              "    }\n",
              "</style>\n",
              "<table border=\"1\" class=\"dataframe\">\n",
              "  <thead>\n",
              "    <tr style=\"text-align: right;\">\n",
              "      <th></th>\n",
              "      <th>model</th>\n",
              "      <th>Train Time</th>\n",
              "      <th>Train Accuracy</th>\n",
              "      <th>Test Accuracy</th>\n",
              "    </tr>\n",
              "  </thead>\n",
              "  <tbody>\n",
              "    <tr>\n",
              "      <th>0</th>\n",
              "      <td>Decision Tree</td>\n",
              "      <td>0.772683</td>\n",
              "      <td>0.917775</td>\n",
              "      <td>0.865786</td>\n",
              "    </tr>\n",
              "  </tbody>\n",
              "</table>\n",
              "</div>\n",
              "      <button class=\"colab-df-convert\" onclick=\"convertToInteractive('df-e3c9be97-74a7-47e3-9125-7834061ffcef')\"\n",
              "              title=\"Convert this dataframe to an interactive table.\"\n",
              "              style=\"display:none;\">\n",
              "        \n",
              "  <svg xmlns=\"http://www.w3.org/2000/svg\" height=\"24px\"viewBox=\"0 0 24 24\"\n",
              "       width=\"24px\">\n",
              "    <path d=\"M0 0h24v24H0V0z\" fill=\"none\"/>\n",
              "    <path d=\"M18.56 5.44l.94 2.06.94-2.06 2.06-.94-2.06-.94-.94-2.06-.94 2.06-2.06.94zm-11 1L8.5 8.5l.94-2.06 2.06-.94-2.06-.94L8.5 2.5l-.94 2.06-2.06.94zm10 10l.94 2.06.94-2.06 2.06-.94-2.06-.94-.94-2.06-.94 2.06-2.06.94z\"/><path d=\"M17.41 7.96l-1.37-1.37c-.4-.4-.92-.59-1.43-.59-.52 0-1.04.2-1.43.59L10.3 9.45l-7.72 7.72c-.78.78-.78 2.05 0 2.83L4 21.41c.39.39.9.59 1.41.59.51 0 1.02-.2 1.41-.59l7.78-7.78 2.81-2.81c.8-.78.8-2.07 0-2.86zM5.41 20L4 18.59l7.72-7.72 1.47 1.35L5.41 20z\"/>\n",
              "  </svg>\n",
              "      </button>\n",
              "      \n",
              "  <style>\n",
              "    .colab-df-container {\n",
              "      display:flex;\n",
              "      flex-wrap:wrap;\n",
              "      gap: 12px;\n",
              "    }\n",
              "\n",
              "    .colab-df-convert {\n",
              "      background-color: #E8F0FE;\n",
              "      border: none;\n",
              "      border-radius: 50%;\n",
              "      cursor: pointer;\n",
              "      display: none;\n",
              "      fill: #1967D2;\n",
              "      height: 32px;\n",
              "      padding: 0 0 0 0;\n",
              "      width: 32px;\n",
              "    }\n",
              "\n",
              "    .colab-df-convert:hover {\n",
              "      background-color: #E2EBFA;\n",
              "      box-shadow: 0px 1px 2px rgba(60, 64, 67, 0.3), 0px 1px 3px 1px rgba(60, 64, 67, 0.15);\n",
              "      fill: #174EA6;\n",
              "    }\n",
              "\n",
              "    [theme=dark] .colab-df-convert {\n",
              "      background-color: #3B4455;\n",
              "      fill: #D2E3FC;\n",
              "    }\n",
              "\n",
              "    [theme=dark] .colab-df-convert:hover {\n",
              "      background-color: #434B5C;\n",
              "      box-shadow: 0px 1px 3px 1px rgba(0, 0, 0, 0.15);\n",
              "      filter: drop-shadow(0px 1px 2px rgba(0, 0, 0, 0.3));\n",
              "      fill: #FFFFFF;\n",
              "    }\n",
              "  </style>\n",
              "\n",
              "      <script>\n",
              "        const buttonEl =\n",
              "          document.querySelector('#df-e3c9be97-74a7-47e3-9125-7834061ffcef button.colab-df-convert');\n",
              "        buttonEl.style.display =\n",
              "          google.colab.kernel.accessAllowed ? 'block' : 'none';\n",
              "\n",
              "        async function convertToInteractive(key) {\n",
              "          const element = document.querySelector('#df-e3c9be97-74a7-47e3-9125-7834061ffcef');\n",
              "          const dataTable =\n",
              "            await google.colab.kernel.invokeFunction('convertToInteractive',\n",
              "                                                     [key], {});\n",
              "          if (!dataTable) return;\n",
              "\n",
              "          const docLinkHtml = 'Like what you see? Visit the ' +\n",
              "            '<a target=\"_blank\" href=https://colab.research.google.com/notebooks/data_table.ipynb>data table notebook</a>'\n",
              "            + ' to learn more about interactive tables.';\n",
              "          element.innerHTML = '';\n",
              "          dataTable['output_type'] = 'display_data';\n",
              "          await google.colab.output.renderOutput(dataTable, element);\n",
              "          const docLink = document.createElement('div');\n",
              "          docLink.innerHTML = docLinkHtml;\n",
              "          element.appendChild(docLink);\n",
              "        }\n",
              "      </script>\n",
              "    </div>\n",
              "  </div>\n",
              "  "
            ]
          },
          "metadata": {},
          "execution_count": 39
        }
      ],
      "source": [
        "# create a dictionary with the mean of each key-value pair\n",
        "DT_results = {'model': 'Decision Tree','Train Time': time, 'Train Accuracy': DT_train_accuracy, 'Test Accuracy': DT_test_accuracy}\n",
        "DT_results_df = pd.DataFrame(DT_results, index=[0])\n",
        "DT_results_df"
      ]
    },
    {
      "cell_type": "markdown",
      "metadata": {
        "id": "LOhrF-dOPKKn"
      },
      "source": [
        "#### SVM"
      ]
    },
    {
      "cell_type": "code",
      "execution_count": 40,
      "metadata": {
        "id": "ooum5MTYPKKn"
      },
      "outputs": [],
      "source": [
        "transformer = make_column_transformer((OneHotEncoder(drop = 'if_binary'), ['job','marital','education','default','housing','loan',]),\n",
        "                                     remainder = StandardScaler())"
      ]
    },
    {
      "cell_type": "code",
      "execution_count": 41,
      "metadata": {
        "id": "Ydm6Frh4PKKn"
      },
      "outputs": [],
      "source": [
        "SVC_pipe = Pipeline([('transformer', transformer),('svc', SVC())])"
      ]
    },
    {
      "cell_type": "code",
      "execution_count": 42,
      "metadata": {
        "colab": {
          "base_uri": "https://localhost:8080/"
        },
        "id": "WEiny7IzPKKo",
        "outputId": "a49964b6-be1e-4b1a-d57d-46eb16e8b79c"
      },
      "outputs": [
        {
          "output_type": "stream",
          "name": "stdout",
          "text": [
            "Training time: 77.44152045249939s\n"
          ]
        }
      ],
      "source": [
        "import time\n",
        "start = time.time()\n",
        "\n",
        "SVC_pipe.fit(X_train, y_train)\n",
        "\n",
        "stop = time.time()\n",
        "time = stop - start\n",
        "print(f\"Training time: {stop - start}s\")"
      ]
    },
    {
      "cell_type": "code",
      "execution_count": 43,
      "metadata": {
        "colab": {
          "base_uri": "https://localhost:8080/"
        },
        "id": "0OmDYEhXPKKo",
        "outputId": "8df00b62-2d73-41bf-fa10-9f6198a1cc36"
      },
      "outputs": [
        {
          "output_type": "stream",
          "name": "stdout",
          "text": [
            "SVC_train_accuracy: 0.8880903823120002\n",
            "SVC_test_accuracy: 0.8864717878993882\n"
          ]
        }
      ],
      "source": [
        "SVC_test_accuracy = accuracy_score(y_test, SVC_pipe.predict(X_test))\n",
        "SVC_train_accuracy = accuracy_score(y_train, SVC_pipe.predict(X_train))\n",
        "\n",
        "print('SVC_train_accuracy:',SVC_train_accuracy)\n",
        "print('SVC_test_accuracy:',SVC_test_accuracy)"
      ]
    },
    {
      "cell_type": "code",
      "execution_count": 44,
      "metadata": {
        "colab": {
          "base_uri": "https://localhost:8080/",
          "height": 81
        },
        "id": "mpKHYBrvPKKo",
        "outputId": "d57650e0-5951-4a61-d273-fe7d4f9ba389"
      },
      "outputs": [
        {
          "output_type": "execute_result",
          "data": {
            "text/plain": [
              "  model  Train Time  Train Accuracy  Test Accuracy\n",
              "0   SVM    77.44152         0.88809       0.886472"
            ],
            "text/html": [
              "\n",
              "  <div id=\"df-3153093f-58e7-4012-bb07-7f1d649a5211\">\n",
              "    <div class=\"colab-df-container\">\n",
              "      <div>\n",
              "<style scoped>\n",
              "    .dataframe tbody tr th:only-of-type {\n",
              "        vertical-align: middle;\n",
              "    }\n",
              "\n",
              "    .dataframe tbody tr th {\n",
              "        vertical-align: top;\n",
              "    }\n",
              "\n",
              "    .dataframe thead th {\n",
              "        text-align: right;\n",
              "    }\n",
              "</style>\n",
              "<table border=\"1\" class=\"dataframe\">\n",
              "  <thead>\n",
              "    <tr style=\"text-align: right;\">\n",
              "      <th></th>\n",
              "      <th>model</th>\n",
              "      <th>Train Time</th>\n",
              "      <th>Train Accuracy</th>\n",
              "      <th>Test Accuracy</th>\n",
              "    </tr>\n",
              "  </thead>\n",
              "  <tbody>\n",
              "    <tr>\n",
              "      <th>0</th>\n",
              "      <td>SVM</td>\n",
              "      <td>77.44152</td>\n",
              "      <td>0.88809</td>\n",
              "      <td>0.886472</td>\n",
              "    </tr>\n",
              "  </tbody>\n",
              "</table>\n",
              "</div>\n",
              "      <button class=\"colab-df-convert\" onclick=\"convertToInteractive('df-3153093f-58e7-4012-bb07-7f1d649a5211')\"\n",
              "              title=\"Convert this dataframe to an interactive table.\"\n",
              "              style=\"display:none;\">\n",
              "        \n",
              "  <svg xmlns=\"http://www.w3.org/2000/svg\" height=\"24px\"viewBox=\"0 0 24 24\"\n",
              "       width=\"24px\">\n",
              "    <path d=\"M0 0h24v24H0V0z\" fill=\"none\"/>\n",
              "    <path d=\"M18.56 5.44l.94 2.06.94-2.06 2.06-.94-2.06-.94-.94-2.06-.94 2.06-2.06.94zm-11 1L8.5 8.5l.94-2.06 2.06-.94-2.06-.94L8.5 2.5l-.94 2.06-2.06.94zm10 10l.94 2.06.94-2.06 2.06-.94-2.06-.94-.94-2.06-.94 2.06-2.06.94z\"/><path d=\"M17.41 7.96l-1.37-1.37c-.4-.4-.92-.59-1.43-.59-.52 0-1.04.2-1.43.59L10.3 9.45l-7.72 7.72c-.78.78-.78 2.05 0 2.83L4 21.41c.39.39.9.59 1.41.59.51 0 1.02-.2 1.41-.59l7.78-7.78 2.81-2.81c.8-.78.8-2.07 0-2.86zM5.41 20L4 18.59l7.72-7.72 1.47 1.35L5.41 20z\"/>\n",
              "  </svg>\n",
              "      </button>\n",
              "      \n",
              "  <style>\n",
              "    .colab-df-container {\n",
              "      display:flex;\n",
              "      flex-wrap:wrap;\n",
              "      gap: 12px;\n",
              "    }\n",
              "\n",
              "    .colab-df-convert {\n",
              "      background-color: #E8F0FE;\n",
              "      border: none;\n",
              "      border-radius: 50%;\n",
              "      cursor: pointer;\n",
              "      display: none;\n",
              "      fill: #1967D2;\n",
              "      height: 32px;\n",
              "      padding: 0 0 0 0;\n",
              "      width: 32px;\n",
              "    }\n",
              "\n",
              "    .colab-df-convert:hover {\n",
              "      background-color: #E2EBFA;\n",
              "      box-shadow: 0px 1px 2px rgba(60, 64, 67, 0.3), 0px 1px 3px 1px rgba(60, 64, 67, 0.15);\n",
              "      fill: #174EA6;\n",
              "    }\n",
              "\n",
              "    [theme=dark] .colab-df-convert {\n",
              "      background-color: #3B4455;\n",
              "      fill: #D2E3FC;\n",
              "    }\n",
              "\n",
              "    [theme=dark] .colab-df-convert:hover {\n",
              "      background-color: #434B5C;\n",
              "      box-shadow: 0px 1px 3px 1px rgba(0, 0, 0, 0.15);\n",
              "      filter: drop-shadow(0px 1px 2px rgba(0, 0, 0, 0.3));\n",
              "      fill: #FFFFFF;\n",
              "    }\n",
              "  </style>\n",
              "\n",
              "      <script>\n",
              "        const buttonEl =\n",
              "          document.querySelector('#df-3153093f-58e7-4012-bb07-7f1d649a5211 button.colab-df-convert');\n",
              "        buttonEl.style.display =\n",
              "          google.colab.kernel.accessAllowed ? 'block' : 'none';\n",
              "\n",
              "        async function convertToInteractive(key) {\n",
              "          const element = document.querySelector('#df-3153093f-58e7-4012-bb07-7f1d649a5211');\n",
              "          const dataTable =\n",
              "            await google.colab.kernel.invokeFunction('convertToInteractive',\n",
              "                                                     [key], {});\n",
              "          if (!dataTable) return;\n",
              "\n",
              "          const docLinkHtml = 'Like what you see? Visit the ' +\n",
              "            '<a target=\"_blank\" href=https://colab.research.google.com/notebooks/data_table.ipynb>data table notebook</a>'\n",
              "            + ' to learn more about interactive tables.';\n",
              "          element.innerHTML = '';\n",
              "          dataTable['output_type'] = 'display_data';\n",
              "          await google.colab.output.renderOutput(dataTable, element);\n",
              "          const docLink = document.createElement('div');\n",
              "          docLink.innerHTML = docLinkHtml;\n",
              "          element.appendChild(docLink);\n",
              "        }\n",
              "      </script>\n",
              "    </div>\n",
              "  </div>\n",
              "  "
            ]
          },
          "metadata": {},
          "execution_count": 44
        }
      ],
      "source": [
        "SVC_results = {'model': 'SVM','Train Time': time, 'Train Accuracy': SVC_train_accuracy, 'Test Accuracy': SVC_test_accuracy}\n",
        "SVC_results_df = pd.DataFrame(SVC_results, index=[0])\n",
        "SVC_results_df"
      ]
    },
    {
      "cell_type": "markdown",
      "metadata": {
        "id": "mVXgxbCjPKKp"
      },
      "source": [
        "#### Findings"
      ]
    },
    {
      "cell_type": "code",
      "execution_count": 45,
      "metadata": {
        "colab": {
          "base_uri": "https://localhost:8080/",
          "height": 269
        },
        "id": "CgLxj3faPKKp",
        "outputId": "9811720e-346c-478f-89ff-4c6c28e0e7cd"
      },
      "outputs": [
        {
          "output_type": "execute_result",
          "data": {
            "text/plain": [
              "                 model  Train Time  Train Accuracy  Test Accuracy\n",
              "0             Baseline    0.023269        0.887346       0.887346\n",
              "0  Logistic Regression    0.467299        0.887346       0.887346\n",
              "0                  SVM   77.441520        0.888090       0.886472\n",
              "0                  KNN    0.122707        0.891069       0.877246\n",
              "0        Decision Tree    0.772683        0.917775       0.865786"
            ],
            "text/html": [
              "\n",
              "  <div id=\"df-f68345c6-5519-44b6-a891-dd54ec66ed01\">\n",
              "    <div class=\"colab-df-container\">\n",
              "      <div>\n",
              "<style scoped>\n",
              "    .dataframe tbody tr th:only-of-type {\n",
              "        vertical-align: middle;\n",
              "    }\n",
              "\n",
              "    .dataframe tbody tr th {\n",
              "        vertical-align: top;\n",
              "    }\n",
              "\n",
              "    .dataframe thead th {\n",
              "        text-align: right;\n",
              "    }\n",
              "</style>\n",
              "<table border=\"1\" class=\"dataframe\">\n",
              "  <thead>\n",
              "    <tr style=\"text-align: right;\">\n",
              "      <th></th>\n",
              "      <th>model</th>\n",
              "      <th>Train Time</th>\n",
              "      <th>Train Accuracy</th>\n",
              "      <th>Test Accuracy</th>\n",
              "    </tr>\n",
              "  </thead>\n",
              "  <tbody>\n",
              "    <tr>\n",
              "      <th>0</th>\n",
              "      <td>Baseline</td>\n",
              "      <td>0.023269</td>\n",
              "      <td>0.887346</td>\n",
              "      <td>0.887346</td>\n",
              "    </tr>\n",
              "    <tr>\n",
              "      <th>0</th>\n",
              "      <td>Logistic Regression</td>\n",
              "      <td>0.467299</td>\n",
              "      <td>0.887346</td>\n",
              "      <td>0.887346</td>\n",
              "    </tr>\n",
              "    <tr>\n",
              "      <th>0</th>\n",
              "      <td>SVM</td>\n",
              "      <td>77.441520</td>\n",
              "      <td>0.888090</td>\n",
              "      <td>0.886472</td>\n",
              "    </tr>\n",
              "    <tr>\n",
              "      <th>0</th>\n",
              "      <td>KNN</td>\n",
              "      <td>0.122707</td>\n",
              "      <td>0.891069</td>\n",
              "      <td>0.877246</td>\n",
              "    </tr>\n",
              "    <tr>\n",
              "      <th>0</th>\n",
              "      <td>Decision Tree</td>\n",
              "      <td>0.772683</td>\n",
              "      <td>0.917775</td>\n",
              "      <td>0.865786</td>\n",
              "    </tr>\n",
              "  </tbody>\n",
              "</table>\n",
              "</div>\n",
              "      <button class=\"colab-df-convert\" onclick=\"convertToInteractive('df-f68345c6-5519-44b6-a891-dd54ec66ed01')\"\n",
              "              title=\"Convert this dataframe to an interactive table.\"\n",
              "              style=\"display:none;\">\n",
              "        \n",
              "  <svg xmlns=\"http://www.w3.org/2000/svg\" height=\"24px\"viewBox=\"0 0 24 24\"\n",
              "       width=\"24px\">\n",
              "    <path d=\"M0 0h24v24H0V0z\" fill=\"none\"/>\n",
              "    <path d=\"M18.56 5.44l.94 2.06.94-2.06 2.06-.94-2.06-.94-.94-2.06-.94 2.06-2.06.94zm-11 1L8.5 8.5l.94-2.06 2.06-.94-2.06-.94L8.5 2.5l-.94 2.06-2.06.94zm10 10l.94 2.06.94-2.06 2.06-.94-2.06-.94-.94-2.06-.94 2.06-2.06.94z\"/><path d=\"M17.41 7.96l-1.37-1.37c-.4-.4-.92-.59-1.43-.59-.52 0-1.04.2-1.43.59L10.3 9.45l-7.72 7.72c-.78.78-.78 2.05 0 2.83L4 21.41c.39.39.9.59 1.41.59.51 0 1.02-.2 1.41-.59l7.78-7.78 2.81-2.81c.8-.78.8-2.07 0-2.86zM5.41 20L4 18.59l7.72-7.72 1.47 1.35L5.41 20z\"/>\n",
              "  </svg>\n",
              "      </button>\n",
              "      \n",
              "  <style>\n",
              "    .colab-df-container {\n",
              "      display:flex;\n",
              "      flex-wrap:wrap;\n",
              "      gap: 12px;\n",
              "    }\n",
              "\n",
              "    .colab-df-convert {\n",
              "      background-color: #E8F0FE;\n",
              "      border: none;\n",
              "      border-radius: 50%;\n",
              "      cursor: pointer;\n",
              "      display: none;\n",
              "      fill: #1967D2;\n",
              "      height: 32px;\n",
              "      padding: 0 0 0 0;\n",
              "      width: 32px;\n",
              "    }\n",
              "\n",
              "    .colab-df-convert:hover {\n",
              "      background-color: #E2EBFA;\n",
              "      box-shadow: 0px 1px 2px rgba(60, 64, 67, 0.3), 0px 1px 3px 1px rgba(60, 64, 67, 0.15);\n",
              "      fill: #174EA6;\n",
              "    }\n",
              "\n",
              "    [theme=dark] .colab-df-convert {\n",
              "      background-color: #3B4455;\n",
              "      fill: #D2E3FC;\n",
              "    }\n",
              "\n",
              "    [theme=dark] .colab-df-convert:hover {\n",
              "      background-color: #434B5C;\n",
              "      box-shadow: 0px 1px 3px 1px rgba(0, 0, 0, 0.15);\n",
              "      filter: drop-shadow(0px 1px 2px rgba(0, 0, 0, 0.3));\n",
              "      fill: #FFFFFF;\n",
              "    }\n",
              "  </style>\n",
              "\n",
              "      <script>\n",
              "        const buttonEl =\n",
              "          document.querySelector('#df-f68345c6-5519-44b6-a891-dd54ec66ed01 button.colab-df-convert');\n",
              "        buttonEl.style.display =\n",
              "          google.colab.kernel.accessAllowed ? 'block' : 'none';\n",
              "\n",
              "        async function convertToInteractive(key) {\n",
              "          const element = document.querySelector('#df-f68345c6-5519-44b6-a891-dd54ec66ed01');\n",
              "          const dataTable =\n",
              "            await google.colab.kernel.invokeFunction('convertToInteractive',\n",
              "                                                     [key], {});\n",
              "          if (!dataTable) return;\n",
              "\n",
              "          const docLinkHtml = 'Like what you see? Visit the ' +\n",
              "            '<a target=\"_blank\" href=https://colab.research.google.com/notebooks/data_table.ipynb>data table notebook</a>'\n",
              "            + ' to learn more about interactive tables.';\n",
              "          element.innerHTML = '';\n",
              "          dataTable['output_type'] = 'display_data';\n",
              "          await google.colab.output.renderOutput(dataTable, element);\n",
              "          const docLink = document.createElement('div');\n",
              "          docLink.innerHTML = docLinkHtml;\n",
              "          element.appendChild(docLink);\n",
              "        }\n",
              "      </script>\n",
              "    </div>\n",
              "  </div>\n",
              "  "
            ]
          },
          "metadata": {},
          "execution_count": 45
        },
        {
          "output_type": "stream",
          "name": "stdout",
          "text": [
            "Error: Runtime no longer has a reference to this dataframe, please re-run this cell and try again.\n"
          ]
        }
      ],
      "source": [
        "final_results = pd.concat([baseline_results_df, lgr_results_df, knn_results_df, DT_results_df, SVC_results_df ], axis=0)\n",
        "final_results = final_results.sort_values(by='Test Accuracy', ascending=False)\n",
        "final_results"
      ]
    },
    {
      "cell_type": "markdown",
      "metadata": {
        "id": "-eZ2gMBPPKKp"
      },
      "source": [
        "### Problem 11: Improving the Model\n",
        "\n",
        "Now that we have some basic models on the board, we want to try to improve these.  Below, we list a few things to explore in this pursuit.\n",
        "\n",
        "- More feature engineering and exploration.  For example, should we keep the gender feature?  Why or why not?\n",
        "- Hyperparameter tuning and grid search.  All of our models have additional hyperparameters to tune and explore.  For example the number of neighbors in KNN or the maximum depth of a Decision Tree.  \n",
        "- Adjust your performance metric"
      ]
    },
    {
      "cell_type": "markdown",
      "metadata": {
        "id": "ARtlh2XsPKKp"
      },
      "source": [
        "#### Logistic Regression"
      ]
    },
    {
      "cell_type": "code",
      "execution_count": 46,
      "metadata": {
        "id": "0NCKO3o6PKKp"
      },
      "outputs": [],
      "source": [
        "lgr_params = {'lr__C': [0.1, 1, 10, 100, 1000],\n",
        "              'lr__penalty': ['l1', 'l2'],\n",
        "              'lr__solver': ['newton-cg', 'lbfgs', 'liblinear']}"
      ]
    },
    {
      "cell_type": "code",
      "execution_count": 47,
      "metadata": {
        "id": "YvrmrbrJPKKp"
      },
      "outputs": [],
      "source": [
        "logreg_cv=GridSearchCV(lgr_pipe, param_grid=lgr_params, cv=3, verbose=2)"
      ]
    },
    {
      "cell_type": "code",
      "execution_count": 48,
      "metadata": {
        "colab": {
          "base_uri": "https://localhost:8080/"
        },
        "id": "v94VbB61PKKp",
        "outputId": "dfb3fd31-fd83-4a82-d624-8d0f5d1dc09d"
      },
      "outputs": [
        {
          "output_type": "stream",
          "name": "stdout",
          "text": [
            "Fitting 3 folds for each of 30 candidates, totalling 90 fits\n",
            "[CV] END ....lr__C=0.1, lr__penalty=l1, lr__solver=newton-cg; total time=   0.1s\n",
            "[CV] END ....lr__C=0.1, lr__penalty=l1, lr__solver=newton-cg; total time=   0.1s\n",
            "[CV] END ....lr__C=0.1, lr__penalty=l1, lr__solver=newton-cg; total time=   0.1s\n",
            "[CV] END ........lr__C=0.1, lr__penalty=l1, lr__solver=lbfgs; total time=   0.1s\n",
            "[CV] END ........lr__C=0.1, lr__penalty=l1, lr__solver=lbfgs; total time=   0.1s\n",
            "[CV] END ........lr__C=0.1, lr__penalty=l1, lr__solver=lbfgs; total time=   0.1s\n",
            "[CV] END ....lr__C=0.1, lr__penalty=l1, lr__solver=liblinear; total time=   0.3s\n",
            "[CV] END ....lr__C=0.1, lr__penalty=l1, lr__solver=liblinear; total time=   0.3s\n",
            "[CV] END ....lr__C=0.1, lr__penalty=l1, lr__solver=liblinear; total time=   0.3s\n",
            "[CV] END ....lr__C=0.1, lr__penalty=l2, lr__solver=newton-cg; total time=   0.3s\n",
            "[CV] END ....lr__C=0.1, lr__penalty=l2, lr__solver=newton-cg; total time=   0.4s\n",
            "[CV] END ....lr__C=0.1, lr__penalty=l2, lr__solver=newton-cg; total time=   0.3s\n",
            "[CV] END ........lr__C=0.1, lr__penalty=l2, lr__solver=lbfgs; total time=   0.3s\n",
            "[CV] END ........lr__C=0.1, lr__penalty=l2, lr__solver=lbfgs; total time=   0.3s\n",
            "[CV] END ........lr__C=0.1, lr__penalty=l2, lr__solver=lbfgs; total time=   0.3s\n",
            "[CV] END ....lr__C=0.1, lr__penalty=l2, lr__solver=liblinear; total time=   0.2s\n",
            "[CV] END ....lr__C=0.1, lr__penalty=l2, lr__solver=liblinear; total time=   0.2s\n",
            "[CV] END ....lr__C=0.1, lr__penalty=l2, lr__solver=liblinear; total time=   0.2s\n",
            "[CV] END ......lr__C=1, lr__penalty=l1, lr__solver=newton-cg; total time=   0.1s\n",
            "[CV] END ......lr__C=1, lr__penalty=l1, lr__solver=newton-cg; total time=   0.1s\n",
            "[CV] END ......lr__C=1, lr__penalty=l1, lr__solver=newton-cg; total time=   0.1s\n",
            "[CV] END ..........lr__C=1, lr__penalty=l1, lr__solver=lbfgs; total time=   0.1s\n",
            "[CV] END ..........lr__C=1, lr__penalty=l1, lr__solver=lbfgs; total time=   0.1s\n",
            "[CV] END ..........lr__C=1, lr__penalty=l1, lr__solver=lbfgs; total time=   0.1s\n",
            "[CV] END ......lr__C=1, lr__penalty=l1, lr__solver=liblinear; total time=   0.5s\n",
            "[CV] END ......lr__C=1, lr__penalty=l1, lr__solver=liblinear; total time=   1.2s\n",
            "[CV] END ......lr__C=1, lr__penalty=l1, lr__solver=liblinear; total time=   2.4s\n",
            "[CV] END ......lr__C=1, lr__penalty=l2, lr__solver=newton-cg; total time=   0.4s\n",
            "[CV] END ......lr__C=1, lr__penalty=l2, lr__solver=newton-cg; total time=   0.4s\n",
            "[CV] END ......lr__C=1, lr__penalty=l2, lr__solver=newton-cg; total time=   0.4s\n",
            "[CV] END ..........lr__C=1, lr__penalty=l2, lr__solver=lbfgs; total time=   0.3s\n",
            "[CV] END ..........lr__C=1, lr__penalty=l2, lr__solver=lbfgs; total time=   0.3s\n",
            "[CV] END ..........lr__C=1, lr__penalty=l2, lr__solver=lbfgs; total time=   0.3s\n",
            "[CV] END ......lr__C=1, lr__penalty=l2, lr__solver=liblinear; total time=   0.2s\n",
            "[CV] END ......lr__C=1, lr__penalty=l2, lr__solver=liblinear; total time=   0.2s\n",
            "[CV] END ......lr__C=1, lr__penalty=l2, lr__solver=liblinear; total time=   0.2s\n",
            "[CV] END .....lr__C=10, lr__penalty=l1, lr__solver=newton-cg; total time=   0.1s\n",
            "[CV] END .....lr__C=10, lr__penalty=l1, lr__solver=newton-cg; total time=   0.1s\n",
            "[CV] END .....lr__C=10, lr__penalty=l1, lr__solver=newton-cg; total time=   0.1s\n",
            "[CV] END .........lr__C=10, lr__penalty=l1, lr__solver=lbfgs; total time=   0.1s\n",
            "[CV] END .........lr__C=10, lr__penalty=l1, lr__solver=lbfgs; total time=   0.1s\n",
            "[CV] END .........lr__C=10, lr__penalty=l1, lr__solver=lbfgs; total time=   0.1s\n",
            "[CV] END .....lr__C=10, lr__penalty=l1, lr__solver=liblinear; total time=   2.7s\n",
            "[CV] END .....lr__C=10, lr__penalty=l1, lr__solver=liblinear; total time=   1.3s\n",
            "[CV] END .....lr__C=10, lr__penalty=l1, lr__solver=liblinear; total time=   1.2s\n",
            "[CV] END .....lr__C=10, lr__penalty=l2, lr__solver=newton-cg; total time=   0.4s\n",
            "[CV] END .....lr__C=10, lr__penalty=l2, lr__solver=newton-cg; total time=   0.3s\n",
            "[CV] END .....lr__C=10, lr__penalty=l2, lr__solver=newton-cg; total time=   0.4s\n",
            "[CV] END .........lr__C=10, lr__penalty=l2, lr__solver=lbfgs; total time=   0.3s\n",
            "[CV] END .........lr__C=10, lr__penalty=l2, lr__solver=lbfgs; total time=   0.5s\n",
            "[CV] END .........lr__C=10, lr__penalty=l2, lr__solver=lbfgs; total time=   0.5s\n",
            "[CV] END .....lr__C=10, lr__penalty=l2, lr__solver=liblinear; total time=   0.3s\n",
            "[CV] END .....lr__C=10, lr__penalty=l2, lr__solver=liblinear; total time=   0.3s\n",
            "[CV] END .....lr__C=10, lr__penalty=l2, lr__solver=liblinear; total time=   0.3s\n",
            "[CV] END ....lr__C=100, lr__penalty=l1, lr__solver=newton-cg; total time=   0.1s\n",
            "[CV] END ....lr__C=100, lr__penalty=l1, lr__solver=newton-cg; total time=   0.1s\n",
            "[CV] END ....lr__C=100, lr__penalty=l1, lr__solver=newton-cg; total time=   0.1s\n",
            "[CV] END ........lr__C=100, lr__penalty=l1, lr__solver=lbfgs; total time=   0.1s\n",
            "[CV] END ........lr__C=100, lr__penalty=l1, lr__solver=lbfgs; total time=   0.1s\n",
            "[CV] END ........lr__C=100, lr__penalty=l1, lr__solver=lbfgs; total time=   0.1s\n",
            "[CV] END ....lr__C=100, lr__penalty=l1, lr__solver=liblinear; total time=   0.3s\n",
            "[CV] END ....lr__C=100, lr__penalty=l1, lr__solver=liblinear; total time=   0.3s\n",
            "[CV] END ....lr__C=100, lr__penalty=l1, lr__solver=liblinear; total time=   0.3s\n",
            "[CV] END ....lr__C=100, lr__penalty=l2, lr__solver=newton-cg; total time=   0.6s\n",
            "[CV] END ....lr__C=100, lr__penalty=l2, lr__solver=newton-cg; total time=   0.6s\n",
            "[CV] END ....lr__C=100, lr__penalty=l2, lr__solver=newton-cg; total time=   0.4s\n",
            "[CV] END ........lr__C=100, lr__penalty=l2, lr__solver=lbfgs; total time=   0.3s\n",
            "[CV] END ........lr__C=100, lr__penalty=l2, lr__solver=lbfgs; total time=   0.4s\n",
            "[CV] END ........lr__C=100, lr__penalty=l2, lr__solver=lbfgs; total time=   0.3s\n",
            "[CV] END ....lr__C=100, lr__penalty=l2, lr__solver=liblinear; total time=   0.2s\n",
            "[CV] END ....lr__C=100, lr__penalty=l2, lr__solver=liblinear; total time=   0.2s\n",
            "[CV] END ....lr__C=100, lr__penalty=l2, lr__solver=liblinear; total time=   0.2s\n",
            "[CV] END ...lr__C=1000, lr__penalty=l1, lr__solver=newton-cg; total time=   0.1s\n",
            "[CV] END ...lr__C=1000, lr__penalty=l1, lr__solver=newton-cg; total time=   0.1s\n",
            "[CV] END ...lr__C=1000, lr__penalty=l1, lr__solver=newton-cg; total time=   0.1s\n",
            "[CV] END .......lr__C=1000, lr__penalty=l1, lr__solver=lbfgs; total time=   0.1s\n",
            "[CV] END .......lr__C=1000, lr__penalty=l1, lr__solver=lbfgs; total time=   0.1s\n",
            "[CV] END .......lr__C=1000, lr__penalty=l1, lr__solver=lbfgs; total time=   0.1s\n",
            "[CV] END ...lr__C=1000, lr__penalty=l1, lr__solver=liblinear; total time=   0.1s\n",
            "[CV] END ...lr__C=1000, lr__penalty=l1, lr__solver=liblinear; total time=   0.2s\n",
            "[CV] END ...lr__C=1000, lr__penalty=l1, lr__solver=liblinear; total time=   0.2s\n",
            "[CV] END ...lr__C=1000, lr__penalty=l2, lr__solver=newton-cg; total time=   0.5s\n",
            "[CV] END ...lr__C=1000, lr__penalty=l2, lr__solver=newton-cg; total time=   0.4s\n",
            "[CV] END ...lr__C=1000, lr__penalty=l2, lr__solver=newton-cg; total time=   0.4s\n",
            "[CV] END .......lr__C=1000, lr__penalty=l2, lr__solver=lbfgs; total time=   0.3s\n",
            "[CV] END .......lr__C=1000, lr__penalty=l2, lr__solver=lbfgs; total time=   0.3s\n",
            "[CV] END .......lr__C=1000, lr__penalty=l2, lr__solver=lbfgs; total time=   0.3s\n",
            "[CV] END ...lr__C=1000, lr__penalty=l2, lr__solver=liblinear; total time=   0.2s\n",
            "[CV] END ...lr__C=1000, lr__penalty=l2, lr__solver=liblinear; total time=   0.2s\n",
            "[CV] END ...lr__C=1000, lr__penalty=l2, lr__solver=liblinear; total time=   0.2s\n",
            "Training time: 29.243605136871338s\n"
          ]
        }
      ],
      "source": [
        "import time\n",
        "start = time.time()\n",
        "\n",
        "logreg_cv.fit(X_train,y_train)\n",
        "\n",
        "stop = time.time()\n",
        "print(f\"Training time: {stop - start}s\")"
      ]
    },
    {
      "cell_type": "code",
      "execution_count": 49,
      "metadata": {
        "colab": {
          "base_uri": "https://localhost:8080/"
        },
        "id": "qllkBgfNPKKp",
        "outputId": "d3d5bc28-bbd4-4134-d032-2ea2cd4654b1"
      },
      "outputs": [
        {
          "output_type": "stream",
          "name": "stdout",
          "text": [
            "tuned hpyerparameters :(best parameters)  {'lr__C': 0.1, 'lr__penalty': 'l1', 'lr__solver': 'liblinear'}\n",
            "accuracy : 0.8873458288821987\n"
          ]
        }
      ],
      "source": [
        "print(\"tuned hpyerparameters :(best parameters) \",logreg_cv.best_params_)\n",
        "print(\"accuracy :\",logreg_cv.best_score_)"
      ]
    },
    {
      "cell_type": "code",
      "execution_count": 50,
      "metadata": {
        "id": "80BmAmHOPKKq"
      },
      "outputs": [],
      "source": [
        "mean_fit_time= logreg_cv.cv_results_['mean_fit_time']\n",
        "mean_score_time= logreg_cv.cv_results_['mean_score_time']\n",
        "n_splits  = logreg_cv.n_splits_ #number of splits of training data\n",
        "n_iter = pd.DataFrame(logreg_cv.cv_results_).shape[0] #Iterations per split"
      ]
    },
    {
      "cell_type": "code",
      "execution_count": 51,
      "metadata": {
        "colab": {
          "base_uri": "https://localhost:8080/",
          "height": 81
        },
        "id": "hYpQHt23PKKq",
        "outputId": "c6d41bbc-6b0f-46be-c17f-805b622be205"
      },
      "outputs": [
        {
          "output_type": "execute_result",
          "data": {
            "text/plain": [
              "                            model  Accuracy       Time\n",
              "0  GridSearch Logistic Regression  0.887346  28.510493"
            ],
            "text/html": [
              "\n",
              "  <div id=\"df-8e2ce6fc-a10c-47ca-85de-2439afeda24e\">\n",
              "    <div class=\"colab-df-container\">\n",
              "      <div>\n",
              "<style scoped>\n",
              "    .dataframe tbody tr th:only-of-type {\n",
              "        vertical-align: middle;\n",
              "    }\n",
              "\n",
              "    .dataframe tbody tr th {\n",
              "        vertical-align: top;\n",
              "    }\n",
              "\n",
              "    .dataframe thead th {\n",
              "        text-align: right;\n",
              "    }\n",
              "</style>\n",
              "<table border=\"1\" class=\"dataframe\">\n",
              "  <thead>\n",
              "    <tr style=\"text-align: right;\">\n",
              "      <th></th>\n",
              "      <th>model</th>\n",
              "      <th>Accuracy</th>\n",
              "      <th>Time</th>\n",
              "    </tr>\n",
              "  </thead>\n",
              "  <tbody>\n",
              "    <tr>\n",
              "      <th>0</th>\n",
              "      <td>GridSearch Logistic Regression</td>\n",
              "      <td>0.887346</td>\n",
              "      <td>28.510493</td>\n",
              "    </tr>\n",
              "  </tbody>\n",
              "</table>\n",
              "</div>\n",
              "      <button class=\"colab-df-convert\" onclick=\"convertToInteractive('df-8e2ce6fc-a10c-47ca-85de-2439afeda24e')\"\n",
              "              title=\"Convert this dataframe to an interactive table.\"\n",
              "              style=\"display:none;\">\n",
              "        \n",
              "  <svg xmlns=\"http://www.w3.org/2000/svg\" height=\"24px\"viewBox=\"0 0 24 24\"\n",
              "       width=\"24px\">\n",
              "    <path d=\"M0 0h24v24H0V0z\" fill=\"none\"/>\n",
              "    <path d=\"M18.56 5.44l.94 2.06.94-2.06 2.06-.94-2.06-.94-.94-2.06-.94 2.06-2.06.94zm-11 1L8.5 8.5l.94-2.06 2.06-.94-2.06-.94L8.5 2.5l-.94 2.06-2.06.94zm10 10l.94 2.06.94-2.06 2.06-.94-2.06-.94-.94-2.06-.94 2.06-2.06.94z\"/><path d=\"M17.41 7.96l-1.37-1.37c-.4-.4-.92-.59-1.43-.59-.52 0-1.04.2-1.43.59L10.3 9.45l-7.72 7.72c-.78.78-.78 2.05 0 2.83L4 21.41c.39.39.9.59 1.41.59.51 0 1.02-.2 1.41-.59l7.78-7.78 2.81-2.81c.8-.78.8-2.07 0-2.86zM5.41 20L4 18.59l7.72-7.72 1.47 1.35L5.41 20z\"/>\n",
              "  </svg>\n",
              "      </button>\n",
              "      \n",
              "  <style>\n",
              "    .colab-df-container {\n",
              "      display:flex;\n",
              "      flex-wrap:wrap;\n",
              "      gap: 12px;\n",
              "    }\n",
              "\n",
              "    .colab-df-convert {\n",
              "      background-color: #E8F0FE;\n",
              "      border: none;\n",
              "      border-radius: 50%;\n",
              "      cursor: pointer;\n",
              "      display: none;\n",
              "      fill: #1967D2;\n",
              "      height: 32px;\n",
              "      padding: 0 0 0 0;\n",
              "      width: 32px;\n",
              "    }\n",
              "\n",
              "    .colab-df-convert:hover {\n",
              "      background-color: #E2EBFA;\n",
              "      box-shadow: 0px 1px 2px rgba(60, 64, 67, 0.3), 0px 1px 3px 1px rgba(60, 64, 67, 0.15);\n",
              "      fill: #174EA6;\n",
              "    }\n",
              "\n",
              "    [theme=dark] .colab-df-convert {\n",
              "      background-color: #3B4455;\n",
              "      fill: #D2E3FC;\n",
              "    }\n",
              "\n",
              "    [theme=dark] .colab-df-convert:hover {\n",
              "      background-color: #434B5C;\n",
              "      box-shadow: 0px 1px 3px 1px rgba(0, 0, 0, 0.15);\n",
              "      filter: drop-shadow(0px 1px 2px rgba(0, 0, 0, 0.3));\n",
              "      fill: #FFFFFF;\n",
              "    }\n",
              "  </style>\n",
              "\n",
              "      <script>\n",
              "        const buttonEl =\n",
              "          document.querySelector('#df-8e2ce6fc-a10c-47ca-85de-2439afeda24e button.colab-df-convert');\n",
              "        buttonEl.style.display =\n",
              "          google.colab.kernel.accessAllowed ? 'block' : 'none';\n",
              "\n",
              "        async function convertToInteractive(key) {\n",
              "          const element = document.querySelector('#df-8e2ce6fc-a10c-47ca-85de-2439afeda24e');\n",
              "          const dataTable =\n",
              "            await google.colab.kernel.invokeFunction('convertToInteractive',\n",
              "                                                     [key], {});\n",
              "          if (!dataTable) return;\n",
              "\n",
              "          const docLinkHtml = 'Like what you see? Visit the ' +\n",
              "            '<a target=\"_blank\" href=https://colab.research.google.com/notebooks/data_table.ipynb>data table notebook</a>'\n",
              "            + ' to learn more about interactive tables.';\n",
              "          element.innerHTML = '';\n",
              "          dataTable['output_type'] = 'display_data';\n",
              "          await google.colab.output.renderOutput(dataTable, element);\n",
              "          const docLink = document.createElement('div');\n",
              "          docLink.innerHTML = docLinkHtml;\n",
              "          element.appendChild(docLink);\n",
              "        }\n",
              "      </script>\n",
              "    </div>\n",
              "  </div>\n",
              "  "
            ]
          },
          "metadata": {},
          "execution_count": 51
        }
      ],
      "source": [
        "CV_lgr_results = {'model': 'GridSearch Logistic Regression','Accuracy': logreg_cv.best_score_, 'Time':[np.mean(mean_fit_time + mean_score_time) * n_splits * n_iter]}\n",
        "CV_lgr_results = pd.DataFrame(CV_lgr_results, index=[0])\n",
        "CV_lgr_results"
      ]
    },
    {
      "cell_type": "markdown",
      "metadata": {
        "id": "8PrugMiSPKKq"
      },
      "source": [
        "#### KNN algorithm"
      ]
    },
    {
      "cell_type": "code",
      "execution_count": 52,
      "metadata": {
        "id": "4iYiQBonPKKq"
      },
      "outputs": [],
      "source": [
        "knn_params = {'knn__n_neighbors': range(1,50,5),\n",
        "          'knn__weights': ['uniform', 'distance'],\n",
        "          'knn__p': [1,2]}"
      ]
    },
    {
      "cell_type": "code",
      "execution_count": 53,
      "metadata": {
        "id": "pqieK-3pPKKq"
      },
      "outputs": [],
      "source": [
        "knn_grid = GridSearchCV(knn_pipe, param_grid = knn_params, cv=3,verbose=2)"
      ]
    },
    {
      "cell_type": "code",
      "execution_count": 54,
      "metadata": {
        "colab": {
          "base_uri": "https://localhost:8080/"
        },
        "id": "jwwZ810tPKKq",
        "outputId": "6d7c0a19-15cf-474c-a95b-6ed14e56b1df"
      },
      "outputs": [
        {
          "output_type": "stream",
          "name": "stdout",
          "text": [
            "Fitting 3 folds for each of 40 candidates, totalling 120 fits\n",
            "[CV] END .knn__n_neighbors=1, knn__p=1, knn__weights=uniform; total time=  10.9s\n",
            "[CV] END .knn__n_neighbors=1, knn__p=1, knn__weights=uniform; total time=  10.1s\n",
            "[CV] END .knn__n_neighbors=1, knn__p=1, knn__weights=uniform; total time=   9.7s\n",
            "[CV] END knn__n_neighbors=1, knn__p=1, knn__weights=distance; total time=  10.7s\n",
            "[CV] END knn__n_neighbors=1, knn__p=1, knn__weights=distance; total time=  10.5s\n",
            "[CV] END knn__n_neighbors=1, knn__p=1, knn__weights=distance; total time=   8.7s\n",
            "[CV] END .knn__n_neighbors=1, knn__p=2, knn__weights=uniform; total time=  11.6s\n",
            "[CV] END .knn__n_neighbors=1, knn__p=2, knn__weights=uniform; total time=  12.5s\n",
            "[CV] END .knn__n_neighbors=1, knn__p=2, knn__weights=uniform; total time=  11.5s\n",
            "[CV] END knn__n_neighbors=1, knn__p=2, knn__weights=distance; total time=  11.0s\n",
            "[CV] END knn__n_neighbors=1, knn__p=2, knn__weights=distance; total time=  10.5s\n",
            "[CV] END knn__n_neighbors=1, knn__p=2, knn__weights=distance; total time=  11.2s\n",
            "[CV] END .knn__n_neighbors=6, knn__p=1, knn__weights=uniform; total time=  12.2s\n",
            "[CV] END .knn__n_neighbors=6, knn__p=1, knn__weights=uniform; total time=  12.9s\n",
            "[CV] END .knn__n_neighbors=6, knn__p=1, knn__weights=uniform; total time=  13.0s\n",
            "[CV] END knn__n_neighbors=6, knn__p=1, knn__weights=distance; total time=  11.1s\n",
            "[CV] END knn__n_neighbors=6, knn__p=1, knn__weights=distance; total time=  12.3s\n",
            "[CV] END knn__n_neighbors=6, knn__p=1, knn__weights=distance; total time=  13.0s\n",
            "[CV] END .knn__n_neighbors=6, knn__p=2, knn__weights=uniform; total time=  13.5s\n",
            "[CV] END .knn__n_neighbors=6, knn__p=2, knn__weights=uniform; total time=  13.7s\n",
            "[CV] END .knn__n_neighbors=6, knn__p=2, knn__weights=uniform; total time=  13.9s\n",
            "[CV] END knn__n_neighbors=6, knn__p=2, knn__weights=distance; total time=  14.0s\n",
            "[CV] END knn__n_neighbors=6, knn__p=2, knn__weights=distance; total time=  16.8s\n",
            "[CV] END knn__n_neighbors=6, knn__p=2, knn__weights=distance; total time=  14.9s\n",
            "[CV] END knn__n_neighbors=11, knn__p=1, knn__weights=uniform; total time=  13.0s\n",
            "[CV] END knn__n_neighbors=11, knn__p=1, knn__weights=uniform; total time=  12.9s\n",
            "[CV] END knn__n_neighbors=11, knn__p=1, knn__weights=uniform; total time=  12.7s\n",
            "[CV] END knn__n_neighbors=11, knn__p=1, knn__weights=distance; total time=  12.5s\n",
            "[CV] END knn__n_neighbors=11, knn__p=1, knn__weights=distance; total time=  12.1s\n",
            "[CV] END knn__n_neighbors=11, knn__p=1, knn__weights=distance; total time=  11.7s\n",
            "[CV] END knn__n_neighbors=11, knn__p=2, knn__weights=uniform; total time=  13.3s\n",
            "[CV] END knn__n_neighbors=11, knn__p=2, knn__weights=uniform; total time=  13.6s\n",
            "[CV] END knn__n_neighbors=11, knn__p=2, knn__weights=uniform; total time=  14.0s\n",
            "[CV] END knn__n_neighbors=11, knn__p=2, knn__weights=distance; total time=  13.2s\n",
            "[CV] END knn__n_neighbors=11, knn__p=2, knn__weights=distance; total time=  13.6s\n",
            "[CV] END knn__n_neighbors=11, knn__p=2, knn__weights=distance; total time=  14.9s\n",
            "[CV] END knn__n_neighbors=16, knn__p=1, knn__weights=uniform; total time=  12.3s\n",
            "[CV] END knn__n_neighbors=16, knn__p=1, knn__weights=uniform; total time=  13.0s\n",
            "[CV] END knn__n_neighbors=16, knn__p=1, knn__weights=uniform; total time=  12.8s\n",
            "[CV] END knn__n_neighbors=16, knn__p=1, knn__weights=distance; total time=  11.1s\n",
            "[CV] END knn__n_neighbors=16, knn__p=1, knn__weights=distance; total time=  12.4s\n",
            "[CV] END knn__n_neighbors=16, knn__p=1, knn__weights=distance; total time=  13.2s\n",
            "[CV] END knn__n_neighbors=16, knn__p=2, knn__weights=uniform; total time=  13.6s\n",
            "[CV] END knn__n_neighbors=16, knn__p=2, knn__weights=uniform; total time=  13.8s\n",
            "[CV] END knn__n_neighbors=16, knn__p=2, knn__weights=uniform; total time=  14.1s\n",
            "[CV] END knn__n_neighbors=16, knn__p=2, knn__weights=distance; total time=  13.3s\n",
            "[CV] END knn__n_neighbors=16, knn__p=2, knn__weights=distance; total time=  14.1s\n",
            "[CV] END knn__n_neighbors=16, knn__p=2, knn__weights=distance; total time=  14.5s\n",
            "[CV] END knn__n_neighbors=21, knn__p=1, knn__weights=uniform; total time=  12.9s\n",
            "[CV] END knn__n_neighbors=21, knn__p=1, knn__weights=uniform; total time=  13.9s\n",
            "[CV] END knn__n_neighbors=21, knn__p=1, knn__weights=uniform; total time=  13.0s\n",
            "[CV] END knn__n_neighbors=21, knn__p=1, knn__weights=distance; total time=  13.0s\n",
            "[CV] END knn__n_neighbors=21, knn__p=1, knn__weights=distance; total time=  12.4s\n",
            "[CV] END knn__n_neighbors=21, knn__p=1, knn__weights=distance; total time=  12.1s\n",
            "[CV] END knn__n_neighbors=21, knn__p=2, knn__weights=uniform; total time=  13.8s\n",
            "[CV] END knn__n_neighbors=21, knn__p=2, knn__weights=uniform; total time=  14.3s\n",
            "[CV] END knn__n_neighbors=21, knn__p=2, knn__weights=uniform; total time=  15.0s\n",
            "[CV] END knn__n_neighbors=21, knn__p=2, knn__weights=distance; total time=  13.6s\n",
            "[CV] END knn__n_neighbors=21, knn__p=2, knn__weights=distance; total time=  14.1s\n",
            "[CV] END knn__n_neighbors=21, knn__p=2, knn__weights=distance; total time=  14.1s\n",
            "[CV] END knn__n_neighbors=26, knn__p=1, knn__weights=uniform; total time=  12.9s\n",
            "[CV] END knn__n_neighbors=26, knn__p=1, knn__weights=uniform; total time=  13.8s\n",
            "[CV] END knn__n_neighbors=26, knn__p=1, knn__weights=uniform; total time=  16.1s\n",
            "[CV] END knn__n_neighbors=26, knn__p=1, knn__weights=distance; total time=  12.6s\n",
            "[CV] END knn__n_neighbors=26, knn__p=1, knn__weights=distance; total time=  12.2s\n",
            "[CV] END knn__n_neighbors=26, knn__p=1, knn__weights=distance; total time=  13.2s\n",
            "[CV] END knn__n_neighbors=26, knn__p=2, knn__weights=uniform; total time=  14.3s\n",
            "[CV] END knn__n_neighbors=26, knn__p=2, knn__weights=uniform; total time=  17.9s\n",
            "[CV] END knn__n_neighbors=26, knn__p=2, knn__weights=uniform; total time=  17.9s\n",
            "[CV] END knn__n_neighbors=26, knn__p=2, knn__weights=distance; total time=  14.1s\n",
            "[CV] END knn__n_neighbors=26, knn__p=2, knn__weights=distance; total time=  14.1s\n",
            "[CV] END knn__n_neighbors=26, knn__p=2, knn__weights=distance; total time=  14.8s\n",
            "[CV] END knn__n_neighbors=31, knn__p=1, knn__weights=uniform; total time=  13.5s\n",
            "[CV] END knn__n_neighbors=31, knn__p=1, knn__weights=uniform; total time=  12.9s\n",
            "[CV] END knn__n_neighbors=31, knn__p=1, knn__weights=uniform; total time=  13.7s\n",
            "[CV] END knn__n_neighbors=31, knn__p=1, knn__weights=distance; total time=  13.5s\n",
            "[CV] END knn__n_neighbors=31, knn__p=1, knn__weights=distance; total time=  13.2s\n",
            "[CV] END knn__n_neighbors=31, knn__p=1, knn__weights=distance; total time=  13.3s\n",
            "[CV] END knn__n_neighbors=31, knn__p=2, knn__weights=uniform; total time=  14.6s\n",
            "[CV] END knn__n_neighbors=31, knn__p=2, knn__weights=uniform; total time=  14.5s\n",
            "[CV] END knn__n_neighbors=31, knn__p=2, knn__weights=uniform; total time=  15.0s\n",
            "[CV] END knn__n_neighbors=31, knn__p=2, knn__weights=distance; total time=  14.3s\n",
            "[CV] END knn__n_neighbors=31, knn__p=2, knn__weights=distance; total time=  14.2s\n",
            "[CV] END knn__n_neighbors=31, knn__p=2, knn__weights=distance; total time=  14.6s\n",
            "[CV] END knn__n_neighbors=36, knn__p=1, knn__weights=uniform; total time=  12.9s\n",
            "[CV] END knn__n_neighbors=36, knn__p=1, knn__weights=uniform; total time=  12.6s\n",
            "[CV] END knn__n_neighbors=36, knn__p=1, knn__weights=uniform; total time=  12.8s\n",
            "[CV] END knn__n_neighbors=36, knn__p=1, knn__weights=distance; total time=  12.4s\n",
            "[CV] END knn__n_neighbors=36, knn__p=1, knn__weights=distance; total time=  15.2s\n",
            "[CV] END knn__n_neighbors=36, knn__p=1, knn__weights=distance; total time=  12.5s\n",
            "[CV] END knn__n_neighbors=36, knn__p=2, knn__weights=uniform; total time=  14.1s\n",
            "[CV] END knn__n_neighbors=36, knn__p=2, knn__weights=uniform; total time=  14.1s\n",
            "[CV] END knn__n_neighbors=36, knn__p=2, knn__weights=uniform; total time=  14.6s\n",
            "[CV] END knn__n_neighbors=36, knn__p=2, knn__weights=distance; total time=  13.4s\n",
            "[CV] END knn__n_neighbors=36, knn__p=2, knn__weights=distance; total time=  14.1s\n",
            "[CV] END knn__n_neighbors=36, knn__p=2, knn__weights=distance; total time=  14.1s\n",
            "[CV] END knn__n_neighbors=41, knn__p=1, knn__weights=uniform; total time=  13.2s\n",
            "[CV] END knn__n_neighbors=41, knn__p=1, knn__weights=uniform; total time=  12.9s\n",
            "[CV] END knn__n_neighbors=41, knn__p=1, knn__weights=uniform; total time=  12.3s\n",
            "[CV] END knn__n_neighbors=41, knn__p=1, knn__weights=distance; total time=  12.0s\n",
            "[CV] END knn__n_neighbors=41, knn__p=1, knn__weights=distance; total time=  13.1s\n",
            "[CV] END knn__n_neighbors=41, knn__p=1, knn__weights=distance; total time=  14.8s\n",
            "[CV] END knn__n_neighbors=41, knn__p=2, knn__weights=uniform; total time=  14.4s\n",
            "[CV] END knn__n_neighbors=41, knn__p=2, knn__weights=uniform; total time=  14.8s\n",
            "[CV] END knn__n_neighbors=41, knn__p=2, knn__weights=uniform; total time=  14.6s\n",
            "[CV] END knn__n_neighbors=41, knn__p=2, knn__weights=distance; total time=  14.5s\n",
            "[CV] END knn__n_neighbors=41, knn__p=2, knn__weights=distance; total time=  14.3s\n",
            "[CV] END knn__n_neighbors=41, knn__p=2, knn__weights=distance; total time=  14.6s\n",
            "[CV] END knn__n_neighbors=46, knn__p=1, knn__weights=uniform; total time=  13.1s\n",
            "[CV] END knn__n_neighbors=46, knn__p=1, knn__weights=uniform; total time=  13.1s\n",
            "[CV] END knn__n_neighbors=46, knn__p=1, knn__weights=uniform; total time=  12.7s\n",
            "[CV] END knn__n_neighbors=46, knn__p=1, knn__weights=distance; total time=  15.2s\n",
            "[CV] END knn__n_neighbors=46, knn__p=1, knn__weights=distance; total time=  15.4s\n",
            "[CV] END knn__n_neighbors=46, knn__p=1, knn__weights=distance; total time=  13.1s\n",
            "[CV] END knn__n_neighbors=46, knn__p=2, knn__weights=uniform; total time=  14.7s\n",
            "[CV] END knn__n_neighbors=46, knn__p=2, knn__weights=uniform; total time=  13.8s\n",
            "[CV] END knn__n_neighbors=46, knn__p=2, knn__weights=uniform; total time=  14.0s\n",
            "[CV] END knn__n_neighbors=46, knn__p=2, knn__weights=distance; total time=  13.3s\n",
            "[CV] END knn__n_neighbors=46, knn__p=2, knn__weights=distance; total time=  13.5s\n",
            "[CV] END knn__n_neighbors=46, knn__p=2, knn__weights=distance; total time=  13.9s\n",
            "Training time: 1603.4678058624268s\n"
          ]
        }
      ],
      "source": [
        "import time\n",
        "start = time.time()\n",
        "\n",
        "knn_grid.fit(X_train,y_train)\n",
        "\n",
        "stop = time.time()\n",
        "print(f\"Training time: {stop - start}s\")"
      ]
    },
    {
      "cell_type": "code",
      "execution_count": 55,
      "metadata": {
        "colab": {
          "base_uri": "https://localhost:8080/"
        },
        "id": "Mb5Q89HBPKKq",
        "outputId": "bbd99d46-4497-4709-893f-da50d22c2f62"
      },
      "outputs": [
        {
          "output_type": "stream",
          "name": "stdout",
          "text": [
            "tuned hpyerparameters :(best parameters)  {'knn__n_neighbors': 36, 'knn__p': 2, 'knn__weights': 'uniform'}\n",
            "accuracy : 0.8872163413291897\n"
          ]
        }
      ],
      "source": [
        "print(\"tuned hpyerparameters :(best parameters) \",knn_grid.best_params_)\n",
        "print(\"accuracy :\",knn_grid.best_score_)"
      ]
    },
    {
      "cell_type": "code",
      "execution_count": 56,
      "metadata": {
        "id": "7OCwD5MaPKKq"
      },
      "outputs": [],
      "source": [
        "mean_fit_time= knn_grid.cv_results_['mean_fit_time']\n",
        "mean_score_time= knn_grid.cv_results_['mean_score_time']\n",
        "n_splits  = knn_grid.n_splits_ #number of splits of training data\n",
        "n_iter = pd.DataFrame(knn_grid.cv_results_).shape[0] #Iterations per split"
      ]
    },
    {
      "cell_type": "code",
      "execution_count": 57,
      "metadata": {
        "colab": {
          "base_uri": "https://localhost:8080/",
          "height": 81
        },
        "id": "7WyMZgK9PKKq",
        "outputId": "9bef422a-3bee-4237-e763-4d5f0b39e72c"
      },
      "outputs": [
        {
          "output_type": "execute_result",
          "data": {
            "text/plain": [
              "            model  Accuracy         Time\n",
              "0  GridSearch KNN  0.887216  1602.991145"
            ],
            "text/html": [
              "\n",
              "  <div id=\"df-7763f87e-c8c3-4954-a4fa-134ee3cd5c51\">\n",
              "    <div class=\"colab-df-container\">\n",
              "      <div>\n",
              "<style scoped>\n",
              "    .dataframe tbody tr th:only-of-type {\n",
              "        vertical-align: middle;\n",
              "    }\n",
              "\n",
              "    .dataframe tbody tr th {\n",
              "        vertical-align: top;\n",
              "    }\n",
              "\n",
              "    .dataframe thead th {\n",
              "        text-align: right;\n",
              "    }\n",
              "</style>\n",
              "<table border=\"1\" class=\"dataframe\">\n",
              "  <thead>\n",
              "    <tr style=\"text-align: right;\">\n",
              "      <th></th>\n",
              "      <th>model</th>\n",
              "      <th>Accuracy</th>\n",
              "      <th>Time</th>\n",
              "    </tr>\n",
              "  </thead>\n",
              "  <tbody>\n",
              "    <tr>\n",
              "      <th>0</th>\n",
              "      <td>GridSearch KNN</td>\n",
              "      <td>0.887216</td>\n",
              "      <td>1602.991145</td>\n",
              "    </tr>\n",
              "  </tbody>\n",
              "</table>\n",
              "</div>\n",
              "      <button class=\"colab-df-convert\" onclick=\"convertToInteractive('df-7763f87e-c8c3-4954-a4fa-134ee3cd5c51')\"\n",
              "              title=\"Convert this dataframe to an interactive table.\"\n",
              "              style=\"display:none;\">\n",
              "        \n",
              "  <svg xmlns=\"http://www.w3.org/2000/svg\" height=\"24px\"viewBox=\"0 0 24 24\"\n",
              "       width=\"24px\">\n",
              "    <path d=\"M0 0h24v24H0V0z\" fill=\"none\"/>\n",
              "    <path d=\"M18.56 5.44l.94 2.06.94-2.06 2.06-.94-2.06-.94-.94-2.06-.94 2.06-2.06.94zm-11 1L8.5 8.5l.94-2.06 2.06-.94-2.06-.94L8.5 2.5l-.94 2.06-2.06.94zm10 10l.94 2.06.94-2.06 2.06-.94-2.06-.94-.94-2.06-.94 2.06-2.06.94z\"/><path d=\"M17.41 7.96l-1.37-1.37c-.4-.4-.92-.59-1.43-.59-.52 0-1.04.2-1.43.59L10.3 9.45l-7.72 7.72c-.78.78-.78 2.05 0 2.83L4 21.41c.39.39.9.59 1.41.59.51 0 1.02-.2 1.41-.59l7.78-7.78 2.81-2.81c.8-.78.8-2.07 0-2.86zM5.41 20L4 18.59l7.72-7.72 1.47 1.35L5.41 20z\"/>\n",
              "  </svg>\n",
              "      </button>\n",
              "      \n",
              "  <style>\n",
              "    .colab-df-container {\n",
              "      display:flex;\n",
              "      flex-wrap:wrap;\n",
              "      gap: 12px;\n",
              "    }\n",
              "\n",
              "    .colab-df-convert {\n",
              "      background-color: #E8F0FE;\n",
              "      border: none;\n",
              "      border-radius: 50%;\n",
              "      cursor: pointer;\n",
              "      display: none;\n",
              "      fill: #1967D2;\n",
              "      height: 32px;\n",
              "      padding: 0 0 0 0;\n",
              "      width: 32px;\n",
              "    }\n",
              "\n",
              "    .colab-df-convert:hover {\n",
              "      background-color: #E2EBFA;\n",
              "      box-shadow: 0px 1px 2px rgba(60, 64, 67, 0.3), 0px 1px 3px 1px rgba(60, 64, 67, 0.15);\n",
              "      fill: #174EA6;\n",
              "    }\n",
              "\n",
              "    [theme=dark] .colab-df-convert {\n",
              "      background-color: #3B4455;\n",
              "      fill: #D2E3FC;\n",
              "    }\n",
              "\n",
              "    [theme=dark] .colab-df-convert:hover {\n",
              "      background-color: #434B5C;\n",
              "      box-shadow: 0px 1px 3px 1px rgba(0, 0, 0, 0.15);\n",
              "      filter: drop-shadow(0px 1px 2px rgba(0, 0, 0, 0.3));\n",
              "      fill: #FFFFFF;\n",
              "    }\n",
              "  </style>\n",
              "\n",
              "      <script>\n",
              "        const buttonEl =\n",
              "          document.querySelector('#df-7763f87e-c8c3-4954-a4fa-134ee3cd5c51 button.colab-df-convert');\n",
              "        buttonEl.style.display =\n",
              "          google.colab.kernel.accessAllowed ? 'block' : 'none';\n",
              "\n",
              "        async function convertToInteractive(key) {\n",
              "          const element = document.querySelector('#df-7763f87e-c8c3-4954-a4fa-134ee3cd5c51');\n",
              "          const dataTable =\n",
              "            await google.colab.kernel.invokeFunction('convertToInteractive',\n",
              "                                                     [key], {});\n",
              "          if (!dataTable) return;\n",
              "\n",
              "          const docLinkHtml = 'Like what you see? Visit the ' +\n",
              "            '<a target=\"_blank\" href=https://colab.research.google.com/notebooks/data_table.ipynb>data table notebook</a>'\n",
              "            + ' to learn more about interactive tables.';\n",
              "          element.innerHTML = '';\n",
              "          dataTable['output_type'] = 'display_data';\n",
              "          await google.colab.output.renderOutput(dataTable, element);\n",
              "          const docLink = document.createElement('div');\n",
              "          docLink.innerHTML = docLinkHtml;\n",
              "          element.appendChild(docLink);\n",
              "        }\n",
              "      </script>\n",
              "    </div>\n",
              "  </div>\n",
              "  "
            ]
          },
          "metadata": {},
          "execution_count": 57
        }
      ],
      "source": [
        "CV_knn_results = {'model': 'GridSearch KNN','Accuracy': knn_grid.best_score_, 'Time':[np.mean(mean_fit_time + mean_score_time) * n_splits * n_iter]}\n",
        "CV_knn_results = pd.DataFrame(CV_knn_results, index=[0])\n",
        "CV_knn_results"
      ]
    },
    {
      "cell_type": "markdown",
      "metadata": {
        "id": "hDQe6qF2PKKr"
      },
      "source": [
        "#### Decision Tree"
      ]
    },
    {
      "cell_type": "code",
      "execution_count": 58,
      "metadata": {
        "id": "SYPH0XOaPKKr"
      },
      "outputs": [],
      "source": [
        "DT_params = {'DT__max_depth': [4,5,6,7,8,9,10],\n",
        "             'DT__min_samples_split': [2,4,6,8],\n",
        "             'DT__criterion': ['gini','entropy'],\n",
        "             'DT__min_samples_leaf': [1,2]}"
      ]
    },
    {
      "cell_type": "code",
      "execution_count": 59,
      "metadata": {
        "id": "DwFoCRMLPKKr"
      },
      "outputs": [],
      "source": [
        "gscv = GridSearchCV(DT_pipe, param_grid=DT_params, cv=3, verbose=2)"
      ]
    },
    {
      "cell_type": "code",
      "execution_count": 60,
      "metadata": {
        "scrolled": true,
        "colab": {
          "base_uri": "https://localhost:8080/"
        },
        "id": "x0CCwVS5PKKr",
        "outputId": "fd5b8d2f-ff17-4f25-d9f5-db8c3c340c19"
      },
      "outputs": [
        {
          "output_type": "stream",
          "name": "stdout",
          "text": [
            "Fitting 3 folds for each of 112 candidates, totalling 336 fits\n",
            "[CV] END DT__criterion=gini, DT__max_depth=4, DT__min_samples_leaf=1, DT__min_samples_split=2; total time=   0.1s\n",
            "[CV] END DT__criterion=gini, DT__max_depth=4, DT__min_samples_leaf=1, DT__min_samples_split=2; total time=   0.2s\n",
            "[CV] END DT__criterion=gini, DT__max_depth=4, DT__min_samples_leaf=1, DT__min_samples_split=2; total time=   0.2s\n",
            "[CV] END DT__criterion=gini, DT__max_depth=4, DT__min_samples_leaf=1, DT__min_samples_split=4; total time=   0.2s\n",
            "[CV] END DT__criterion=gini, DT__max_depth=4, DT__min_samples_leaf=1, DT__min_samples_split=4; total time=   0.1s\n",
            "[CV] END DT__criterion=gini, DT__max_depth=4, DT__min_samples_leaf=1, DT__min_samples_split=4; total time=   0.1s\n",
            "[CV] END DT__criterion=gini, DT__max_depth=4, DT__min_samples_leaf=1, DT__min_samples_split=6; total time=   0.2s\n",
            "[CV] END DT__criterion=gini, DT__max_depth=4, DT__min_samples_leaf=1, DT__min_samples_split=6; total time=   0.2s\n",
            "[CV] END DT__criterion=gini, DT__max_depth=4, DT__min_samples_leaf=1, DT__min_samples_split=6; total time=   0.2s\n",
            "[CV] END DT__criterion=gini, DT__max_depth=4, DT__min_samples_leaf=1, DT__min_samples_split=8; total time=   0.2s\n",
            "[CV] END DT__criterion=gini, DT__max_depth=4, DT__min_samples_leaf=1, DT__min_samples_split=8; total time=   0.1s\n",
            "[CV] END DT__criterion=gini, DT__max_depth=4, DT__min_samples_leaf=1, DT__min_samples_split=8; total time=   0.2s\n",
            "[CV] END DT__criterion=gini, DT__max_depth=4, DT__min_samples_leaf=2, DT__min_samples_split=2; total time=   0.2s\n",
            "[CV] END DT__criterion=gini, DT__max_depth=4, DT__min_samples_leaf=2, DT__min_samples_split=2; total time=   0.1s\n",
            "[CV] END DT__criterion=gini, DT__max_depth=4, DT__min_samples_leaf=2, DT__min_samples_split=2; total time=   0.1s\n",
            "[CV] END DT__criterion=gini, DT__max_depth=4, DT__min_samples_leaf=2, DT__min_samples_split=4; total time=   0.1s\n",
            "[CV] END DT__criterion=gini, DT__max_depth=4, DT__min_samples_leaf=2, DT__min_samples_split=4; total time=   0.1s\n",
            "[CV] END DT__criterion=gini, DT__max_depth=4, DT__min_samples_leaf=2, DT__min_samples_split=4; total time=   0.2s\n",
            "[CV] END DT__criterion=gini, DT__max_depth=4, DT__min_samples_leaf=2, DT__min_samples_split=6; total time=   0.1s\n",
            "[CV] END DT__criterion=gini, DT__max_depth=4, DT__min_samples_leaf=2, DT__min_samples_split=6; total time=   0.2s\n",
            "[CV] END DT__criterion=gini, DT__max_depth=4, DT__min_samples_leaf=2, DT__min_samples_split=6; total time=   0.1s\n",
            "[CV] END DT__criterion=gini, DT__max_depth=4, DT__min_samples_leaf=2, DT__min_samples_split=8; total time=   0.1s\n",
            "[CV] END DT__criterion=gini, DT__max_depth=4, DT__min_samples_leaf=2, DT__min_samples_split=8; total time=   0.1s\n",
            "[CV] END DT__criterion=gini, DT__max_depth=4, DT__min_samples_leaf=2, DT__min_samples_split=8; total time=   0.2s\n",
            "[CV] END DT__criterion=gini, DT__max_depth=5, DT__min_samples_leaf=1, DT__min_samples_split=2; total time=   0.1s\n",
            "[CV] END DT__criterion=gini, DT__max_depth=5, DT__min_samples_leaf=1, DT__min_samples_split=2; total time=   0.2s\n",
            "[CV] END DT__criterion=gini, DT__max_depth=5, DT__min_samples_leaf=1, DT__min_samples_split=2; total time=   0.2s\n",
            "[CV] END DT__criterion=gini, DT__max_depth=5, DT__min_samples_leaf=1, DT__min_samples_split=4; total time=   0.2s\n",
            "[CV] END DT__criterion=gini, DT__max_depth=5, DT__min_samples_leaf=1, DT__min_samples_split=4; total time=   0.2s\n",
            "[CV] END DT__criterion=gini, DT__max_depth=5, DT__min_samples_leaf=1, DT__min_samples_split=4; total time=   0.2s\n",
            "[CV] END DT__criterion=gini, DT__max_depth=5, DT__min_samples_leaf=1, DT__min_samples_split=6; total time=   0.2s\n",
            "[CV] END DT__criterion=gini, DT__max_depth=5, DT__min_samples_leaf=1, DT__min_samples_split=6; total time=   0.1s\n",
            "[CV] END DT__criterion=gini, DT__max_depth=5, DT__min_samples_leaf=1, DT__min_samples_split=6; total time=   0.2s\n",
            "[CV] END DT__criterion=gini, DT__max_depth=5, DT__min_samples_leaf=1, DT__min_samples_split=8; total time=   0.2s\n",
            "[CV] END DT__criterion=gini, DT__max_depth=5, DT__min_samples_leaf=1, DT__min_samples_split=8; total time=   0.2s\n",
            "[CV] END DT__criterion=gini, DT__max_depth=5, DT__min_samples_leaf=1, DT__min_samples_split=8; total time=   0.2s\n",
            "[CV] END DT__criterion=gini, DT__max_depth=5, DT__min_samples_leaf=2, DT__min_samples_split=2; total time=   0.2s\n",
            "[CV] END DT__criterion=gini, DT__max_depth=5, DT__min_samples_leaf=2, DT__min_samples_split=2; total time=   0.2s\n",
            "[CV] END DT__criterion=gini, DT__max_depth=5, DT__min_samples_leaf=2, DT__min_samples_split=2; total time=   0.2s\n",
            "[CV] END DT__criterion=gini, DT__max_depth=5, DT__min_samples_leaf=2, DT__min_samples_split=4; total time=   0.2s\n",
            "[CV] END DT__criterion=gini, DT__max_depth=5, DT__min_samples_leaf=2, DT__min_samples_split=4; total time=   0.2s\n",
            "[CV] END DT__criterion=gini, DT__max_depth=5, DT__min_samples_leaf=2, DT__min_samples_split=4; total time=   0.2s\n",
            "[CV] END DT__criterion=gini, DT__max_depth=5, DT__min_samples_leaf=2, DT__min_samples_split=6; total time=   0.2s\n",
            "[CV] END DT__criterion=gini, DT__max_depth=5, DT__min_samples_leaf=2, DT__min_samples_split=6; total time=   0.2s\n",
            "[CV] END DT__criterion=gini, DT__max_depth=5, DT__min_samples_leaf=2, DT__min_samples_split=6; total time=   0.1s\n",
            "[CV] END DT__criterion=gini, DT__max_depth=5, DT__min_samples_leaf=2, DT__min_samples_split=8; total time=   0.2s\n",
            "[CV] END DT__criterion=gini, DT__max_depth=5, DT__min_samples_leaf=2, DT__min_samples_split=8; total time=   0.2s\n",
            "[CV] END DT__criterion=gini, DT__max_depth=5, DT__min_samples_leaf=2, DT__min_samples_split=8; total time=   0.2s\n",
            "[CV] END DT__criterion=gini, DT__max_depth=6, DT__min_samples_leaf=1, DT__min_samples_split=2; total time=   0.2s\n",
            "[CV] END DT__criterion=gini, DT__max_depth=6, DT__min_samples_leaf=1, DT__min_samples_split=2; total time=   0.2s\n",
            "[CV] END DT__criterion=gini, DT__max_depth=6, DT__min_samples_leaf=1, DT__min_samples_split=2; total time=   0.2s\n",
            "[CV] END DT__criterion=gini, DT__max_depth=6, DT__min_samples_leaf=1, DT__min_samples_split=4; total time=   0.2s\n",
            "[CV] END DT__criterion=gini, DT__max_depth=6, DT__min_samples_leaf=1, DT__min_samples_split=4; total time=   0.3s\n",
            "[CV] END DT__criterion=gini, DT__max_depth=6, DT__min_samples_leaf=1, DT__min_samples_split=4; total time=   0.3s\n",
            "[CV] END DT__criterion=gini, DT__max_depth=6, DT__min_samples_leaf=1, DT__min_samples_split=6; total time=   0.3s\n",
            "[CV] END DT__criterion=gini, DT__max_depth=6, DT__min_samples_leaf=1, DT__min_samples_split=6; total time=   0.3s\n",
            "[CV] END DT__criterion=gini, DT__max_depth=6, DT__min_samples_leaf=1, DT__min_samples_split=6; total time=   0.3s\n",
            "[CV] END DT__criterion=gini, DT__max_depth=6, DT__min_samples_leaf=1, DT__min_samples_split=8; total time=   0.3s\n",
            "[CV] END DT__criterion=gini, DT__max_depth=6, DT__min_samples_leaf=1, DT__min_samples_split=8; total time=   0.3s\n",
            "[CV] END DT__criterion=gini, DT__max_depth=6, DT__min_samples_leaf=1, DT__min_samples_split=8; total time=   0.3s\n",
            "[CV] END DT__criterion=gini, DT__max_depth=6, DT__min_samples_leaf=2, DT__min_samples_split=2; total time=   0.3s\n",
            "[CV] END DT__criterion=gini, DT__max_depth=6, DT__min_samples_leaf=2, DT__min_samples_split=2; total time=   0.3s\n",
            "[CV] END DT__criterion=gini, DT__max_depth=6, DT__min_samples_leaf=2, DT__min_samples_split=2; total time=   0.3s\n",
            "[CV] END DT__criterion=gini, DT__max_depth=6, DT__min_samples_leaf=2, DT__min_samples_split=4; total time=   0.3s\n",
            "[CV] END DT__criterion=gini, DT__max_depth=6, DT__min_samples_leaf=2, DT__min_samples_split=4; total time=   0.3s\n",
            "[CV] END DT__criterion=gini, DT__max_depth=6, DT__min_samples_leaf=2, DT__min_samples_split=4; total time=   0.3s\n",
            "[CV] END DT__criterion=gini, DT__max_depth=6, DT__min_samples_leaf=2, DT__min_samples_split=6; total time=   0.3s\n",
            "[CV] END DT__criterion=gini, DT__max_depth=6, DT__min_samples_leaf=2, DT__min_samples_split=6; total time=   0.3s\n",
            "[CV] END DT__criterion=gini, DT__max_depth=6, DT__min_samples_leaf=2, DT__min_samples_split=6; total time=   0.2s\n",
            "[CV] END DT__criterion=gini, DT__max_depth=6, DT__min_samples_leaf=2, DT__min_samples_split=8; total time=   0.2s\n",
            "[CV] END DT__criterion=gini, DT__max_depth=6, DT__min_samples_leaf=2, DT__min_samples_split=8; total time=   0.2s\n",
            "[CV] END DT__criterion=gini, DT__max_depth=6, DT__min_samples_leaf=2, DT__min_samples_split=8; total time=   0.2s\n",
            "[CV] END DT__criterion=gini, DT__max_depth=7, DT__min_samples_leaf=1, DT__min_samples_split=2; total time=   0.2s\n",
            "[CV] END DT__criterion=gini, DT__max_depth=7, DT__min_samples_leaf=1, DT__min_samples_split=2; total time=   0.2s\n",
            "[CV] END DT__criterion=gini, DT__max_depth=7, DT__min_samples_leaf=1, DT__min_samples_split=2; total time=   0.2s\n",
            "[CV] END DT__criterion=gini, DT__max_depth=7, DT__min_samples_leaf=1, DT__min_samples_split=4; total time=   0.2s\n",
            "[CV] END DT__criterion=gini, DT__max_depth=7, DT__min_samples_leaf=1, DT__min_samples_split=4; total time=   0.2s\n",
            "[CV] END DT__criterion=gini, DT__max_depth=7, DT__min_samples_leaf=1, DT__min_samples_split=4; total time=   0.2s\n",
            "[CV] END DT__criterion=gini, DT__max_depth=7, DT__min_samples_leaf=1, DT__min_samples_split=6; total time=   0.2s\n",
            "[CV] END DT__criterion=gini, DT__max_depth=7, DT__min_samples_leaf=1, DT__min_samples_split=6; total time=   0.2s\n",
            "[CV] END DT__criterion=gini, DT__max_depth=7, DT__min_samples_leaf=1, DT__min_samples_split=6; total time=   0.2s\n",
            "[CV] END DT__criterion=gini, DT__max_depth=7, DT__min_samples_leaf=1, DT__min_samples_split=8; total time=   0.2s\n",
            "[CV] END DT__criterion=gini, DT__max_depth=7, DT__min_samples_leaf=1, DT__min_samples_split=8; total time=   0.2s\n",
            "[CV] END DT__criterion=gini, DT__max_depth=7, DT__min_samples_leaf=1, DT__min_samples_split=8; total time=   0.2s\n",
            "[CV] END DT__criterion=gini, DT__max_depth=7, DT__min_samples_leaf=2, DT__min_samples_split=2; total time=   0.2s\n",
            "[CV] END DT__criterion=gini, DT__max_depth=7, DT__min_samples_leaf=2, DT__min_samples_split=2; total time=   0.2s\n",
            "[CV] END DT__criterion=gini, DT__max_depth=7, DT__min_samples_leaf=2, DT__min_samples_split=2; total time=   0.2s\n",
            "[CV] END DT__criterion=gini, DT__max_depth=7, DT__min_samples_leaf=2, DT__min_samples_split=4; total time=   0.2s\n",
            "[CV] END DT__criterion=gini, DT__max_depth=7, DT__min_samples_leaf=2, DT__min_samples_split=4; total time=   0.2s\n",
            "[CV] END DT__criterion=gini, DT__max_depth=7, DT__min_samples_leaf=2, DT__min_samples_split=4; total time=   0.2s\n",
            "[CV] END DT__criterion=gini, DT__max_depth=7, DT__min_samples_leaf=2, DT__min_samples_split=6; total time=   0.2s\n",
            "[CV] END DT__criterion=gini, DT__max_depth=7, DT__min_samples_leaf=2, DT__min_samples_split=6; total time=   0.2s\n",
            "[CV] END DT__criterion=gini, DT__max_depth=7, DT__min_samples_leaf=2, DT__min_samples_split=6; total time=   0.2s\n",
            "[CV] END DT__criterion=gini, DT__max_depth=7, DT__min_samples_leaf=2, DT__min_samples_split=8; total time=   0.2s\n",
            "[CV] END DT__criterion=gini, DT__max_depth=7, DT__min_samples_leaf=2, DT__min_samples_split=8; total time=   0.2s\n",
            "[CV] END DT__criterion=gini, DT__max_depth=7, DT__min_samples_leaf=2, DT__min_samples_split=8; total time=   0.2s\n",
            "[CV] END DT__criterion=gini, DT__max_depth=8, DT__min_samples_leaf=1, DT__min_samples_split=2; total time=   0.2s\n",
            "[CV] END DT__criterion=gini, DT__max_depth=8, DT__min_samples_leaf=1, DT__min_samples_split=2; total time=   0.2s\n",
            "[CV] END DT__criterion=gini, DT__max_depth=8, DT__min_samples_leaf=1, DT__min_samples_split=2; total time=   0.2s\n",
            "[CV] END DT__criterion=gini, DT__max_depth=8, DT__min_samples_leaf=1, DT__min_samples_split=4; total time=   0.2s\n",
            "[CV] END DT__criterion=gini, DT__max_depth=8, DT__min_samples_leaf=1, DT__min_samples_split=4; total time=   0.2s\n",
            "[CV] END DT__criterion=gini, DT__max_depth=8, DT__min_samples_leaf=1, DT__min_samples_split=4; total time=   0.2s\n",
            "[CV] END DT__criterion=gini, DT__max_depth=8, DT__min_samples_leaf=1, DT__min_samples_split=6; total time=   0.2s\n",
            "[CV] END DT__criterion=gini, DT__max_depth=8, DT__min_samples_leaf=1, DT__min_samples_split=6; total time=   0.2s\n",
            "[CV] END DT__criterion=gini, DT__max_depth=8, DT__min_samples_leaf=1, DT__min_samples_split=6; total time=   0.2s\n",
            "[CV] END DT__criterion=gini, DT__max_depth=8, DT__min_samples_leaf=1, DT__min_samples_split=8; total time=   0.2s\n",
            "[CV] END DT__criterion=gini, DT__max_depth=8, DT__min_samples_leaf=1, DT__min_samples_split=8; total time=   0.2s\n",
            "[CV] END DT__criterion=gini, DT__max_depth=8, DT__min_samples_leaf=1, DT__min_samples_split=8; total time=   0.2s\n",
            "[CV] END DT__criterion=gini, DT__max_depth=8, DT__min_samples_leaf=2, DT__min_samples_split=2; total time=   0.2s\n",
            "[CV] END DT__criterion=gini, DT__max_depth=8, DT__min_samples_leaf=2, DT__min_samples_split=2; total time=   0.2s\n",
            "[CV] END DT__criterion=gini, DT__max_depth=8, DT__min_samples_leaf=2, DT__min_samples_split=2; total time=   0.2s\n",
            "[CV] END DT__criterion=gini, DT__max_depth=8, DT__min_samples_leaf=2, DT__min_samples_split=4; total time=   0.2s\n",
            "[CV] END DT__criterion=gini, DT__max_depth=8, DT__min_samples_leaf=2, DT__min_samples_split=4; total time=   0.2s\n",
            "[CV] END DT__criterion=gini, DT__max_depth=8, DT__min_samples_leaf=2, DT__min_samples_split=4; total time=   0.2s\n",
            "[CV] END DT__criterion=gini, DT__max_depth=8, DT__min_samples_leaf=2, DT__min_samples_split=6; total time=   0.2s\n",
            "[CV] END DT__criterion=gini, DT__max_depth=8, DT__min_samples_leaf=2, DT__min_samples_split=6; total time=   0.2s\n",
            "[CV] END DT__criterion=gini, DT__max_depth=8, DT__min_samples_leaf=2, DT__min_samples_split=6; total time=   0.2s\n",
            "[CV] END DT__criterion=gini, DT__max_depth=8, DT__min_samples_leaf=2, DT__min_samples_split=8; total time=   0.2s\n",
            "[CV] END DT__criterion=gini, DT__max_depth=8, DT__min_samples_leaf=2, DT__min_samples_split=8; total time=   0.2s\n",
            "[CV] END DT__criterion=gini, DT__max_depth=8, DT__min_samples_leaf=2, DT__min_samples_split=8; total time=   0.2s\n",
            "[CV] END DT__criterion=gini, DT__max_depth=9, DT__min_samples_leaf=1, DT__min_samples_split=2; total time=   0.2s\n",
            "[CV] END DT__criterion=gini, DT__max_depth=9, DT__min_samples_leaf=1, DT__min_samples_split=2; total time=   0.2s\n",
            "[CV] END DT__criterion=gini, DT__max_depth=9, DT__min_samples_leaf=1, DT__min_samples_split=2; total time=   0.2s\n",
            "[CV] END DT__criterion=gini, DT__max_depth=9, DT__min_samples_leaf=1, DT__min_samples_split=4; total time=   0.2s\n",
            "[CV] END DT__criterion=gini, DT__max_depth=9, DT__min_samples_leaf=1, DT__min_samples_split=4; total time=   0.2s\n",
            "[CV] END DT__criterion=gini, DT__max_depth=9, DT__min_samples_leaf=1, DT__min_samples_split=4; total time=   0.3s\n",
            "[CV] END DT__criterion=gini, DT__max_depth=9, DT__min_samples_leaf=1, DT__min_samples_split=6; total time=   0.3s\n",
            "[CV] END DT__criterion=gini, DT__max_depth=9, DT__min_samples_leaf=1, DT__min_samples_split=6; total time=   0.3s\n",
            "[CV] END DT__criterion=gini, DT__max_depth=9, DT__min_samples_leaf=1, DT__min_samples_split=6; total time=   0.3s\n",
            "[CV] END DT__criterion=gini, DT__max_depth=9, DT__min_samples_leaf=1, DT__min_samples_split=8; total time=   0.3s\n",
            "[CV] END DT__criterion=gini, DT__max_depth=9, DT__min_samples_leaf=1, DT__min_samples_split=8; total time=   0.3s\n",
            "[CV] END DT__criterion=gini, DT__max_depth=9, DT__min_samples_leaf=1, DT__min_samples_split=8; total time=   0.3s\n",
            "[CV] END DT__criterion=gini, DT__max_depth=9, DT__min_samples_leaf=2, DT__min_samples_split=2; total time=   0.3s\n",
            "[CV] END DT__criterion=gini, DT__max_depth=9, DT__min_samples_leaf=2, DT__min_samples_split=2; total time=   0.3s\n",
            "[CV] END DT__criterion=gini, DT__max_depth=9, DT__min_samples_leaf=2, DT__min_samples_split=2; total time=   0.3s\n",
            "[CV] END DT__criterion=gini, DT__max_depth=9, DT__min_samples_leaf=2, DT__min_samples_split=4; total time=   0.3s\n",
            "[CV] END DT__criterion=gini, DT__max_depth=9, DT__min_samples_leaf=2, DT__min_samples_split=4; total time=   0.3s\n",
            "[CV] END DT__criterion=gini, DT__max_depth=9, DT__min_samples_leaf=2, DT__min_samples_split=4; total time=   0.3s\n",
            "[CV] END DT__criterion=gini, DT__max_depth=9, DT__min_samples_leaf=2, DT__min_samples_split=6; total time=   0.3s\n",
            "[CV] END DT__criterion=gini, DT__max_depth=9, DT__min_samples_leaf=2, DT__min_samples_split=6; total time=   0.2s\n",
            "[CV] END DT__criterion=gini, DT__max_depth=9, DT__min_samples_leaf=2, DT__min_samples_split=6; total time=   0.2s\n",
            "[CV] END DT__criterion=gini, DT__max_depth=9, DT__min_samples_leaf=2, DT__min_samples_split=8; total time=   0.2s\n",
            "[CV] END DT__criterion=gini, DT__max_depth=9, DT__min_samples_leaf=2, DT__min_samples_split=8; total time=   0.2s\n",
            "[CV] END DT__criterion=gini, DT__max_depth=9, DT__min_samples_leaf=2, DT__min_samples_split=8; total time=   0.2s\n",
            "[CV] END DT__criterion=gini, DT__max_depth=10, DT__min_samples_leaf=1, DT__min_samples_split=2; total time=   0.2s\n",
            "[CV] END DT__criterion=gini, DT__max_depth=10, DT__min_samples_leaf=1, DT__min_samples_split=2; total time=   0.2s\n",
            "[CV] END DT__criterion=gini, DT__max_depth=10, DT__min_samples_leaf=1, DT__min_samples_split=2; total time=   0.2s\n",
            "[CV] END DT__criterion=gini, DT__max_depth=10, DT__min_samples_leaf=1, DT__min_samples_split=4; total time=   0.2s\n",
            "[CV] END DT__criterion=gini, DT__max_depth=10, DT__min_samples_leaf=1, DT__min_samples_split=4; total time=   0.2s\n",
            "[CV] END DT__criterion=gini, DT__max_depth=10, DT__min_samples_leaf=1, DT__min_samples_split=4; total time=   0.2s\n",
            "[CV] END DT__criterion=gini, DT__max_depth=10, DT__min_samples_leaf=1, DT__min_samples_split=6; total time=   0.2s\n",
            "[CV] END DT__criterion=gini, DT__max_depth=10, DT__min_samples_leaf=1, DT__min_samples_split=6; total time=   0.2s\n",
            "[CV] END DT__criterion=gini, DT__max_depth=10, DT__min_samples_leaf=1, DT__min_samples_split=6; total time=   0.2s\n",
            "[CV] END DT__criterion=gini, DT__max_depth=10, DT__min_samples_leaf=1, DT__min_samples_split=8; total time=   0.2s\n",
            "[CV] END DT__criterion=gini, DT__max_depth=10, DT__min_samples_leaf=1, DT__min_samples_split=8; total time=   0.2s\n",
            "[CV] END DT__criterion=gini, DT__max_depth=10, DT__min_samples_leaf=1, DT__min_samples_split=8; total time=   0.2s\n",
            "[CV] END DT__criterion=gini, DT__max_depth=10, DT__min_samples_leaf=2, DT__min_samples_split=2; total time=   0.2s\n",
            "[CV] END DT__criterion=gini, DT__max_depth=10, DT__min_samples_leaf=2, DT__min_samples_split=2; total time=   0.2s\n",
            "[CV] END DT__criterion=gini, DT__max_depth=10, DT__min_samples_leaf=2, DT__min_samples_split=2; total time=   0.2s\n",
            "[CV] END DT__criterion=gini, DT__max_depth=10, DT__min_samples_leaf=2, DT__min_samples_split=4; total time=   0.2s\n",
            "[CV] END DT__criterion=gini, DT__max_depth=10, DT__min_samples_leaf=2, DT__min_samples_split=4; total time=   0.2s\n",
            "[CV] END DT__criterion=gini, DT__max_depth=10, DT__min_samples_leaf=2, DT__min_samples_split=4; total time=   0.2s\n",
            "[CV] END DT__criterion=gini, DT__max_depth=10, DT__min_samples_leaf=2, DT__min_samples_split=6; total time=   0.2s\n",
            "[CV] END DT__criterion=gini, DT__max_depth=10, DT__min_samples_leaf=2, DT__min_samples_split=6; total time=   0.2s\n",
            "[CV] END DT__criterion=gini, DT__max_depth=10, DT__min_samples_leaf=2, DT__min_samples_split=6; total time=   0.2s\n",
            "[CV] END DT__criterion=gini, DT__max_depth=10, DT__min_samples_leaf=2, DT__min_samples_split=8; total time=   0.2s\n",
            "[CV] END DT__criterion=gini, DT__max_depth=10, DT__min_samples_leaf=2, DT__min_samples_split=8; total time=   0.2s\n",
            "[CV] END DT__criterion=gini, DT__max_depth=10, DT__min_samples_leaf=2, DT__min_samples_split=8; total time=   0.2s\n",
            "[CV] END DT__criterion=entropy, DT__max_depth=4, DT__min_samples_leaf=1, DT__min_samples_split=2; total time=   0.1s\n",
            "[CV] END DT__criterion=entropy, DT__max_depth=4, DT__min_samples_leaf=1, DT__min_samples_split=2; total time=   0.2s\n",
            "[CV] END DT__criterion=entropy, DT__max_depth=4, DT__min_samples_leaf=1, DT__min_samples_split=2; total time=   0.1s\n",
            "[CV] END DT__criterion=entropy, DT__max_depth=4, DT__min_samples_leaf=1, DT__min_samples_split=4; total time=   0.2s\n",
            "[CV] END DT__criterion=entropy, DT__max_depth=4, DT__min_samples_leaf=1, DT__min_samples_split=4; total time=   0.1s\n",
            "[CV] END DT__criterion=entropy, DT__max_depth=4, DT__min_samples_leaf=1, DT__min_samples_split=4; total time=   0.2s\n",
            "[CV] END DT__criterion=entropy, DT__max_depth=4, DT__min_samples_leaf=1, DT__min_samples_split=6; total time=   0.1s\n",
            "[CV] END DT__criterion=entropy, DT__max_depth=4, DT__min_samples_leaf=1, DT__min_samples_split=6; total time=   0.1s\n",
            "[CV] END DT__criterion=entropy, DT__max_depth=4, DT__min_samples_leaf=1, DT__min_samples_split=6; total time=   0.1s\n",
            "[CV] END DT__criterion=entropy, DT__max_depth=4, DT__min_samples_leaf=1, DT__min_samples_split=8; total time=   0.1s\n",
            "[CV] END DT__criterion=entropy, DT__max_depth=4, DT__min_samples_leaf=1, DT__min_samples_split=8; total time=   0.1s\n",
            "[CV] END DT__criterion=entropy, DT__max_depth=4, DT__min_samples_leaf=1, DT__min_samples_split=8; total time=   0.1s\n",
            "[CV] END DT__criterion=entropy, DT__max_depth=4, DT__min_samples_leaf=2, DT__min_samples_split=2; total time=   0.1s\n",
            "[CV] END DT__criterion=entropy, DT__max_depth=4, DT__min_samples_leaf=2, DT__min_samples_split=2; total time=   0.1s\n",
            "[CV] END DT__criterion=entropy, DT__max_depth=4, DT__min_samples_leaf=2, DT__min_samples_split=2; total time=   0.1s\n",
            "[CV] END DT__criterion=entropy, DT__max_depth=4, DT__min_samples_leaf=2, DT__min_samples_split=4; total time=   0.2s\n",
            "[CV] END DT__criterion=entropy, DT__max_depth=4, DT__min_samples_leaf=2, DT__min_samples_split=4; total time=   0.1s\n",
            "[CV] END DT__criterion=entropy, DT__max_depth=4, DT__min_samples_leaf=2, DT__min_samples_split=4; total time=   0.2s\n",
            "[CV] END DT__criterion=entropy, DT__max_depth=4, DT__min_samples_leaf=2, DT__min_samples_split=6; total time=   0.2s\n",
            "[CV] END DT__criterion=entropy, DT__max_depth=4, DT__min_samples_leaf=2, DT__min_samples_split=6; total time=   0.1s\n",
            "[CV] END DT__criterion=entropy, DT__max_depth=4, DT__min_samples_leaf=2, DT__min_samples_split=6; total time=   0.1s\n",
            "[CV] END DT__criterion=entropy, DT__max_depth=4, DT__min_samples_leaf=2, DT__min_samples_split=8; total time=   0.1s\n",
            "[CV] END DT__criterion=entropy, DT__max_depth=4, DT__min_samples_leaf=2, DT__min_samples_split=8; total time=   0.1s\n",
            "[CV] END DT__criterion=entropy, DT__max_depth=4, DT__min_samples_leaf=2, DT__min_samples_split=8; total time=   0.1s\n",
            "[CV] END DT__criterion=entropy, DT__max_depth=5, DT__min_samples_leaf=1, DT__min_samples_split=2; total time=   0.1s\n",
            "[CV] END DT__criterion=entropy, DT__max_depth=5, DT__min_samples_leaf=1, DT__min_samples_split=2; total time=   0.2s\n",
            "[CV] END DT__criterion=entropy, DT__max_depth=5, DT__min_samples_leaf=1, DT__min_samples_split=2; total time=   0.2s\n",
            "[CV] END DT__criterion=entropy, DT__max_depth=5, DT__min_samples_leaf=1, DT__min_samples_split=4; total time=   0.2s\n",
            "[CV] END DT__criterion=entropy, DT__max_depth=5, DT__min_samples_leaf=1, DT__min_samples_split=4; total time=   0.3s\n",
            "[CV] END DT__criterion=entropy, DT__max_depth=5, DT__min_samples_leaf=1, DT__min_samples_split=4; total time=   0.3s\n",
            "[CV] END DT__criterion=entropy, DT__max_depth=5, DT__min_samples_leaf=1, DT__min_samples_split=6; total time=   0.3s\n",
            "[CV] END DT__criterion=entropy, DT__max_depth=5, DT__min_samples_leaf=1, DT__min_samples_split=6; total time=   0.3s\n",
            "[CV] END DT__criterion=entropy, DT__max_depth=5, DT__min_samples_leaf=1, DT__min_samples_split=6; total time=   0.3s\n",
            "[CV] END DT__criterion=entropy, DT__max_depth=5, DT__min_samples_leaf=1, DT__min_samples_split=8; total time=   0.3s\n",
            "[CV] END DT__criterion=entropy, DT__max_depth=5, DT__min_samples_leaf=1, DT__min_samples_split=8; total time=   0.3s\n",
            "[CV] END DT__criterion=entropy, DT__max_depth=5, DT__min_samples_leaf=1, DT__min_samples_split=8; total time=   0.3s\n",
            "[CV] END DT__criterion=entropy, DT__max_depth=5, DT__min_samples_leaf=2, DT__min_samples_split=2; total time=   0.3s\n",
            "[CV] END DT__criterion=entropy, DT__max_depth=5, DT__min_samples_leaf=2, DT__min_samples_split=2; total time=   0.3s\n",
            "[CV] END DT__criterion=entropy, DT__max_depth=5, DT__min_samples_leaf=2, DT__min_samples_split=2; total time=   0.3s\n",
            "[CV] END DT__criterion=entropy, DT__max_depth=5, DT__min_samples_leaf=2, DT__min_samples_split=4; total time=   0.3s\n",
            "[CV] END DT__criterion=entropy, DT__max_depth=5, DT__min_samples_leaf=2, DT__min_samples_split=4; total time=   0.3s\n",
            "[CV] END DT__criterion=entropy, DT__max_depth=5, DT__min_samples_leaf=2, DT__min_samples_split=4; total time=   0.3s\n",
            "[CV] END DT__criterion=entropy, DT__max_depth=5, DT__min_samples_leaf=2, DT__min_samples_split=6; total time=   0.3s\n",
            "[CV] END DT__criterion=entropy, DT__max_depth=5, DT__min_samples_leaf=2, DT__min_samples_split=6; total time=   0.2s\n",
            "[CV] END DT__criterion=entropy, DT__max_depth=5, DT__min_samples_leaf=2, DT__min_samples_split=6; total time=   0.1s\n",
            "[CV] END DT__criterion=entropy, DT__max_depth=5, DT__min_samples_leaf=2, DT__min_samples_split=8; total time=   0.2s\n",
            "[CV] END DT__criterion=entropy, DT__max_depth=5, DT__min_samples_leaf=2, DT__min_samples_split=8; total time=   0.2s\n",
            "[CV] END DT__criterion=entropy, DT__max_depth=5, DT__min_samples_leaf=2, DT__min_samples_split=8; total time=   0.2s\n",
            "[CV] END DT__criterion=entropy, DT__max_depth=6, DT__min_samples_leaf=1, DT__min_samples_split=2; total time=   0.2s\n",
            "[CV] END DT__criterion=entropy, DT__max_depth=6, DT__min_samples_leaf=1, DT__min_samples_split=2; total time=   0.2s\n",
            "[CV] END DT__criterion=entropy, DT__max_depth=6, DT__min_samples_leaf=1, DT__min_samples_split=2; total time=   0.2s\n",
            "[CV] END DT__criterion=entropy, DT__max_depth=6, DT__min_samples_leaf=1, DT__min_samples_split=4; total time=   0.2s\n",
            "[CV] END DT__criterion=entropy, DT__max_depth=6, DT__min_samples_leaf=1, DT__min_samples_split=4; total time=   0.2s\n",
            "[CV] END DT__criterion=entropy, DT__max_depth=6, DT__min_samples_leaf=1, DT__min_samples_split=4; total time=   0.2s\n",
            "[CV] END DT__criterion=entropy, DT__max_depth=6, DT__min_samples_leaf=1, DT__min_samples_split=6; total time=   0.2s\n",
            "[CV] END DT__criterion=entropy, DT__max_depth=6, DT__min_samples_leaf=1, DT__min_samples_split=6; total time=   0.2s\n",
            "[CV] END DT__criterion=entropy, DT__max_depth=6, DT__min_samples_leaf=1, DT__min_samples_split=6; total time=   0.2s\n",
            "[CV] END DT__criterion=entropy, DT__max_depth=6, DT__min_samples_leaf=1, DT__min_samples_split=8; total time=   0.2s\n",
            "[CV] END DT__criterion=entropy, DT__max_depth=6, DT__min_samples_leaf=1, DT__min_samples_split=8; total time=   0.2s\n",
            "[CV] END DT__criterion=entropy, DT__max_depth=6, DT__min_samples_leaf=1, DT__min_samples_split=8; total time=   0.2s\n",
            "[CV] END DT__criterion=entropy, DT__max_depth=6, DT__min_samples_leaf=2, DT__min_samples_split=2; total time=   0.2s\n",
            "[CV] END DT__criterion=entropy, DT__max_depth=6, DT__min_samples_leaf=2, DT__min_samples_split=2; total time=   0.2s\n",
            "[CV] END DT__criterion=entropy, DT__max_depth=6, DT__min_samples_leaf=2, DT__min_samples_split=2; total time=   0.2s\n",
            "[CV] END DT__criterion=entropy, DT__max_depth=6, DT__min_samples_leaf=2, DT__min_samples_split=4; total time=   0.2s\n",
            "[CV] END DT__criterion=entropy, DT__max_depth=6, DT__min_samples_leaf=2, DT__min_samples_split=4; total time=   0.2s\n",
            "[CV] END DT__criterion=entropy, DT__max_depth=6, DT__min_samples_leaf=2, DT__min_samples_split=4; total time=   0.2s\n",
            "[CV] END DT__criterion=entropy, DT__max_depth=6, DT__min_samples_leaf=2, DT__min_samples_split=6; total time=   0.2s\n",
            "[CV] END DT__criterion=entropy, DT__max_depth=6, DT__min_samples_leaf=2, DT__min_samples_split=6; total time=   0.2s\n",
            "[CV] END DT__criterion=entropy, DT__max_depth=6, DT__min_samples_leaf=2, DT__min_samples_split=6; total time=   0.1s\n",
            "[CV] END DT__criterion=entropy, DT__max_depth=6, DT__min_samples_leaf=2, DT__min_samples_split=8; total time=   0.2s\n",
            "[CV] END DT__criterion=entropy, DT__max_depth=6, DT__min_samples_leaf=2, DT__min_samples_split=8; total time=   0.2s\n",
            "[CV] END DT__criterion=entropy, DT__max_depth=6, DT__min_samples_leaf=2, DT__min_samples_split=8; total time=   0.2s\n",
            "[CV] END DT__criterion=entropy, DT__max_depth=7, DT__min_samples_leaf=1, DT__min_samples_split=2; total time=   0.2s\n",
            "[CV] END DT__criterion=entropy, DT__max_depth=7, DT__min_samples_leaf=1, DT__min_samples_split=2; total time=   0.2s\n",
            "[CV] END DT__criterion=entropy, DT__max_depth=7, DT__min_samples_leaf=1, DT__min_samples_split=2; total time=   0.2s\n",
            "[CV] END DT__criterion=entropy, DT__max_depth=7, DT__min_samples_leaf=1, DT__min_samples_split=4; total time=   0.2s\n",
            "[CV] END DT__criterion=entropy, DT__max_depth=7, DT__min_samples_leaf=1, DT__min_samples_split=4; total time=   0.2s\n",
            "[CV] END DT__criterion=entropy, DT__max_depth=7, DT__min_samples_leaf=1, DT__min_samples_split=4; total time=   0.2s\n",
            "[CV] END DT__criterion=entropy, DT__max_depth=7, DT__min_samples_leaf=1, DT__min_samples_split=6; total time=   0.2s\n",
            "[CV] END DT__criterion=entropy, DT__max_depth=7, DT__min_samples_leaf=1, DT__min_samples_split=6; total time=   0.2s\n",
            "[CV] END DT__criterion=entropy, DT__max_depth=7, DT__min_samples_leaf=1, DT__min_samples_split=6; total time=   0.2s\n",
            "[CV] END DT__criterion=entropy, DT__max_depth=7, DT__min_samples_leaf=1, DT__min_samples_split=8; total time=   0.2s\n",
            "[CV] END DT__criterion=entropy, DT__max_depth=7, DT__min_samples_leaf=1, DT__min_samples_split=8; total time=   0.2s\n",
            "[CV] END DT__criterion=entropy, DT__max_depth=7, DT__min_samples_leaf=1, DT__min_samples_split=8; total time=   0.2s\n",
            "[CV] END DT__criterion=entropy, DT__max_depth=7, DT__min_samples_leaf=2, DT__min_samples_split=2; total time=   0.2s\n",
            "[CV] END DT__criterion=entropy, DT__max_depth=7, DT__min_samples_leaf=2, DT__min_samples_split=2; total time=   0.2s\n",
            "[CV] END DT__criterion=entropy, DT__max_depth=7, DT__min_samples_leaf=2, DT__min_samples_split=2; total time=   0.2s\n",
            "[CV] END DT__criterion=entropy, DT__max_depth=7, DT__min_samples_leaf=2, DT__min_samples_split=4; total time=   0.2s\n",
            "[CV] END DT__criterion=entropy, DT__max_depth=7, DT__min_samples_leaf=2, DT__min_samples_split=4; total time=   0.2s\n",
            "[CV] END DT__criterion=entropy, DT__max_depth=7, DT__min_samples_leaf=2, DT__min_samples_split=4; total time=   0.2s\n",
            "[CV] END DT__criterion=entropy, DT__max_depth=7, DT__min_samples_leaf=2, DT__min_samples_split=6; total time=   0.2s\n",
            "[CV] END DT__criterion=entropy, DT__max_depth=7, DT__min_samples_leaf=2, DT__min_samples_split=6; total time=   0.2s\n",
            "[CV] END DT__criterion=entropy, DT__max_depth=7, DT__min_samples_leaf=2, DT__min_samples_split=6; total time=   0.2s\n",
            "[CV] END DT__criterion=entropy, DT__max_depth=7, DT__min_samples_leaf=2, DT__min_samples_split=8; total time=   0.2s\n",
            "[CV] END DT__criterion=entropy, DT__max_depth=7, DT__min_samples_leaf=2, DT__min_samples_split=8; total time=   0.2s\n",
            "[CV] END DT__criterion=entropy, DT__max_depth=7, DT__min_samples_leaf=2, DT__min_samples_split=8; total time=   0.2s\n",
            "[CV] END DT__criterion=entropy, DT__max_depth=8, DT__min_samples_leaf=1, DT__min_samples_split=2; total time=   0.2s\n",
            "[CV] END DT__criterion=entropy, DT__max_depth=8, DT__min_samples_leaf=1, DT__min_samples_split=2; total time=   0.2s\n",
            "[CV] END DT__criterion=entropy, DT__max_depth=8, DT__min_samples_leaf=1, DT__min_samples_split=2; total time=   0.2s\n",
            "[CV] END DT__criterion=entropy, DT__max_depth=8, DT__min_samples_leaf=1, DT__min_samples_split=4; total time=   0.2s\n",
            "[CV] END DT__criterion=entropy, DT__max_depth=8, DT__min_samples_leaf=1, DT__min_samples_split=4; total time=   0.2s\n",
            "[CV] END DT__criterion=entropy, DT__max_depth=8, DT__min_samples_leaf=1, DT__min_samples_split=4; total time=   0.2s\n",
            "[CV] END DT__criterion=entropy, DT__max_depth=8, DT__min_samples_leaf=1, DT__min_samples_split=6; total time=   0.2s\n",
            "[CV] END DT__criterion=entropy, DT__max_depth=8, DT__min_samples_leaf=1, DT__min_samples_split=6; total time=   0.2s\n",
            "[CV] END DT__criterion=entropy, DT__max_depth=8, DT__min_samples_leaf=1, DT__min_samples_split=6; total time=   0.3s\n",
            "[CV] END DT__criterion=entropy, DT__max_depth=8, DT__min_samples_leaf=1, DT__min_samples_split=8; total time=   0.3s\n",
            "[CV] END DT__criterion=entropy, DT__max_depth=8, DT__min_samples_leaf=1, DT__min_samples_split=8; total time=   0.3s\n",
            "[CV] END DT__criterion=entropy, DT__max_depth=8, DT__min_samples_leaf=1, DT__min_samples_split=8; total time=   0.3s\n",
            "[CV] END DT__criterion=entropy, DT__max_depth=8, DT__min_samples_leaf=2, DT__min_samples_split=2; total time=   0.3s\n",
            "[CV] END DT__criterion=entropy, DT__max_depth=8, DT__min_samples_leaf=2, DT__min_samples_split=2; total time=   0.3s\n",
            "[CV] END DT__criterion=entropy, DT__max_depth=8, DT__min_samples_leaf=2, DT__min_samples_split=2; total time=   0.3s\n",
            "[CV] END DT__criterion=entropy, DT__max_depth=8, DT__min_samples_leaf=2, DT__min_samples_split=4; total time=   0.3s\n",
            "[CV] END DT__criterion=entropy, DT__max_depth=8, DT__min_samples_leaf=2, DT__min_samples_split=4; total time=   0.3s\n",
            "[CV] END DT__criterion=entropy, DT__max_depth=8, DT__min_samples_leaf=2, DT__min_samples_split=4; total time=   0.3s\n",
            "[CV] END DT__criterion=entropy, DT__max_depth=8, DT__min_samples_leaf=2, DT__min_samples_split=6; total time=   0.3s\n",
            "[CV] END DT__criterion=entropy, DT__max_depth=8, DT__min_samples_leaf=2, DT__min_samples_split=6; total time=   0.3s\n",
            "[CV] END DT__criterion=entropy, DT__max_depth=8, DT__min_samples_leaf=2, DT__min_samples_split=6; total time=   0.3s\n",
            "[CV] END DT__criterion=entropy, DT__max_depth=8, DT__min_samples_leaf=2, DT__min_samples_split=8; total time=   0.3s\n",
            "[CV] END DT__criterion=entropy, DT__max_depth=8, DT__min_samples_leaf=2, DT__min_samples_split=8; total time=   0.2s\n",
            "[CV] END DT__criterion=entropy, DT__max_depth=8, DT__min_samples_leaf=2, DT__min_samples_split=8; total time=   0.2s\n",
            "[CV] END DT__criterion=entropy, DT__max_depth=9, DT__min_samples_leaf=1, DT__min_samples_split=2; total time=   0.2s\n",
            "[CV] END DT__criterion=entropy, DT__max_depth=9, DT__min_samples_leaf=1, DT__min_samples_split=2; total time=   0.2s\n",
            "[CV] END DT__criterion=entropy, DT__max_depth=9, DT__min_samples_leaf=1, DT__min_samples_split=2; total time=   0.2s\n",
            "[CV] END DT__criterion=entropy, DT__max_depth=9, DT__min_samples_leaf=1, DT__min_samples_split=4; total time=   0.2s\n",
            "[CV] END DT__criterion=entropy, DT__max_depth=9, DT__min_samples_leaf=1, DT__min_samples_split=4; total time=   0.2s\n",
            "[CV] END DT__criterion=entropy, DT__max_depth=9, DT__min_samples_leaf=1, DT__min_samples_split=4; total time=   0.2s\n",
            "[CV] END DT__criterion=entropy, DT__max_depth=9, DT__min_samples_leaf=1, DT__min_samples_split=6; total time=   0.2s\n",
            "[CV] END DT__criterion=entropy, DT__max_depth=9, DT__min_samples_leaf=1, DT__min_samples_split=6; total time=   0.2s\n",
            "[CV] END DT__criterion=entropy, DT__max_depth=9, DT__min_samples_leaf=1, DT__min_samples_split=6; total time=   0.2s\n",
            "[CV] END DT__criterion=entropy, DT__max_depth=9, DT__min_samples_leaf=1, DT__min_samples_split=8; total time=   0.2s\n",
            "[CV] END DT__criterion=entropy, DT__max_depth=9, DT__min_samples_leaf=1, DT__min_samples_split=8; total time=   0.2s\n",
            "[CV] END DT__criterion=entropy, DT__max_depth=9, DT__min_samples_leaf=1, DT__min_samples_split=8; total time=   0.2s\n",
            "[CV] END DT__criterion=entropy, DT__max_depth=9, DT__min_samples_leaf=2, DT__min_samples_split=2; total time=   0.2s\n",
            "[CV] END DT__criterion=entropy, DT__max_depth=9, DT__min_samples_leaf=2, DT__min_samples_split=2; total time=   0.2s\n",
            "[CV] END DT__criterion=entropy, DT__max_depth=9, DT__min_samples_leaf=2, DT__min_samples_split=2; total time=   0.2s\n",
            "[CV] END DT__criterion=entropy, DT__max_depth=9, DT__min_samples_leaf=2, DT__min_samples_split=4; total time=   0.2s\n",
            "[CV] END DT__criterion=entropy, DT__max_depth=9, DT__min_samples_leaf=2, DT__min_samples_split=4; total time=   0.2s\n",
            "[CV] END DT__criterion=entropy, DT__max_depth=9, DT__min_samples_leaf=2, DT__min_samples_split=4; total time=   0.2s\n",
            "[CV] END DT__criterion=entropy, DT__max_depth=9, DT__min_samples_leaf=2, DT__min_samples_split=6; total time=   0.2s\n",
            "[CV] END DT__criterion=entropy, DT__max_depth=9, DT__min_samples_leaf=2, DT__min_samples_split=6; total time=   0.2s\n",
            "[CV] END DT__criterion=entropy, DT__max_depth=9, DT__min_samples_leaf=2, DT__min_samples_split=6; total time=   0.2s\n",
            "[CV] END DT__criterion=entropy, DT__max_depth=9, DT__min_samples_leaf=2, DT__min_samples_split=8; total time=   0.2s\n",
            "[CV] END DT__criterion=entropy, DT__max_depth=9, DT__min_samples_leaf=2, DT__min_samples_split=8; total time=   0.2s\n",
            "[CV] END DT__criterion=entropy, DT__max_depth=9, DT__min_samples_leaf=2, DT__min_samples_split=8; total time=   0.2s\n",
            "[CV] END DT__criterion=entropy, DT__max_depth=10, DT__min_samples_leaf=1, DT__min_samples_split=2; total time=   0.2s\n",
            "[CV] END DT__criterion=entropy, DT__max_depth=10, DT__min_samples_leaf=1, DT__min_samples_split=2; total time=   0.2s\n",
            "[CV] END DT__criterion=entropy, DT__max_depth=10, DT__min_samples_leaf=1, DT__min_samples_split=2; total time=   0.2s\n",
            "[CV] END DT__criterion=entropy, DT__max_depth=10, DT__min_samples_leaf=1, DT__min_samples_split=4; total time=   0.2s\n",
            "[CV] END DT__criterion=entropy, DT__max_depth=10, DT__min_samples_leaf=1, DT__min_samples_split=4; total time=   0.2s\n",
            "[CV] END DT__criterion=entropy, DT__max_depth=10, DT__min_samples_leaf=1, DT__min_samples_split=4; total time=   0.2s\n",
            "[CV] END DT__criterion=entropy, DT__max_depth=10, DT__min_samples_leaf=1, DT__min_samples_split=6; total time=   0.2s\n",
            "[CV] END DT__criterion=entropy, DT__max_depth=10, DT__min_samples_leaf=1, DT__min_samples_split=6; total time=   0.2s\n",
            "[CV] END DT__criterion=entropy, DT__max_depth=10, DT__min_samples_leaf=1, DT__min_samples_split=6; total time=   0.2s\n",
            "[CV] END DT__criterion=entropy, DT__max_depth=10, DT__min_samples_leaf=1, DT__min_samples_split=8; total time=   0.2s\n",
            "[CV] END DT__criterion=entropy, DT__max_depth=10, DT__min_samples_leaf=1, DT__min_samples_split=8; total time=   0.2s\n",
            "[CV] END DT__criterion=entropy, DT__max_depth=10, DT__min_samples_leaf=1, DT__min_samples_split=8; total time=   0.2s\n",
            "[CV] END DT__criterion=entropy, DT__max_depth=10, DT__min_samples_leaf=2, DT__min_samples_split=2; total time=   0.2s\n",
            "[CV] END DT__criterion=entropy, DT__max_depth=10, DT__min_samples_leaf=2, DT__min_samples_split=2; total time=   0.2s\n",
            "[CV] END DT__criterion=entropy, DT__max_depth=10, DT__min_samples_leaf=2, DT__min_samples_split=2; total time=   0.2s\n",
            "[CV] END DT__criterion=entropy, DT__max_depth=10, DT__min_samples_leaf=2, DT__min_samples_split=4; total time=   0.2s\n",
            "[CV] END DT__criterion=entropy, DT__max_depth=10, DT__min_samples_leaf=2, DT__min_samples_split=4; total time=   0.2s\n",
            "[CV] END DT__criterion=entropy, DT__max_depth=10, DT__min_samples_leaf=2, DT__min_samples_split=4; total time=   0.2s\n",
            "[CV] END DT__criterion=entropy, DT__max_depth=10, DT__min_samples_leaf=2, DT__min_samples_split=6; total time=   0.2s\n",
            "[CV] END DT__criterion=entropy, DT__max_depth=10, DT__min_samples_leaf=2, DT__min_samples_split=6; total time=   0.2s\n",
            "[CV] END DT__criterion=entropy, DT__max_depth=10, DT__min_samples_leaf=2, DT__min_samples_split=6; total time=   0.2s\n",
            "[CV] END DT__criterion=entropy, DT__max_depth=10, DT__min_samples_leaf=2, DT__min_samples_split=8; total time=   0.2s\n",
            "[CV] END DT__criterion=entropy, DT__max_depth=10, DT__min_samples_leaf=2, DT__min_samples_split=8; total time=   0.2s\n",
            "[CV] END DT__criterion=entropy, DT__max_depth=10, DT__min_samples_leaf=2, DT__min_samples_split=8; total time=   0.3s\n",
            "Training time: 66.72228074073792s\n"
          ]
        }
      ],
      "source": [
        "import time\n",
        "start = time.time()\n",
        "\n",
        "gscv.fit(X_train,y_train)\n",
        "\n",
        "stop = time.time()\n",
        "print(f\"Training time: {stop - start}s\")"
      ]
    },
    {
      "cell_type": "code",
      "execution_count": 61,
      "metadata": {
        "colab": {
          "base_uri": "https://localhost:8080/"
        },
        "id": "G1PPZUlBPKKr",
        "outputId": "6b896c99-dbf9-4201-b934-b4a20647b7a3"
      },
      "outputs": [
        {
          "output_type": "stream",
          "name": "stdout",
          "text": [
            "tuned hpyerparameters :(best parameters)  {'DT__criterion': 'gini', 'DT__max_depth': 7, 'DT__min_samples_leaf': 2, 'DT__min_samples_split': 2}\n",
            "accuracy : 0.8864070441228836\n"
          ]
        }
      ],
      "source": [
        "print(\"tuned hpyerparameters :(best parameters) \",gscv.best_params_)\n",
        "print(\"accuracy :\",gscv.best_score_)"
      ]
    },
    {
      "cell_type": "code",
      "execution_count": 62,
      "metadata": {
        "id": "fM5VfodcPKKr"
      },
      "outputs": [],
      "source": [
        "mean_fit_time= gscv.cv_results_['mean_fit_time']\n",
        "mean_score_time= gscv.cv_results_['mean_score_time']\n",
        "n_splits  = gscv.n_splits_ #number of splits of training data\n",
        "n_iter = pd.DataFrame(gscv.cv_results_).shape[0] #Iterations per split"
      ]
    },
    {
      "cell_type": "code",
      "execution_count": 63,
      "metadata": {
        "colab": {
          "base_uri": "https://localhost:8080/",
          "height": 81
        },
        "id": "-4vCLrn0PKKr",
        "outputId": "1cc628aa-5e27-4831-9767-59d729142d09"
      },
      "outputs": [
        {
          "output_type": "execute_result",
          "data": {
            "text/plain": [
              "                      model  Accuracy       Time\n",
              "0  GridSearch Decision Tree  0.886407  65.533781"
            ],
            "text/html": [
              "\n",
              "  <div id=\"df-865ee630-9c35-4e47-bf7a-ca9ec3c1d697\">\n",
              "    <div class=\"colab-df-container\">\n",
              "      <div>\n",
              "<style scoped>\n",
              "    .dataframe tbody tr th:only-of-type {\n",
              "        vertical-align: middle;\n",
              "    }\n",
              "\n",
              "    .dataframe tbody tr th {\n",
              "        vertical-align: top;\n",
              "    }\n",
              "\n",
              "    .dataframe thead th {\n",
              "        text-align: right;\n",
              "    }\n",
              "</style>\n",
              "<table border=\"1\" class=\"dataframe\">\n",
              "  <thead>\n",
              "    <tr style=\"text-align: right;\">\n",
              "      <th></th>\n",
              "      <th>model</th>\n",
              "      <th>Accuracy</th>\n",
              "      <th>Time</th>\n",
              "    </tr>\n",
              "  </thead>\n",
              "  <tbody>\n",
              "    <tr>\n",
              "      <th>0</th>\n",
              "      <td>GridSearch Decision Tree</td>\n",
              "      <td>0.886407</td>\n",
              "      <td>65.533781</td>\n",
              "    </tr>\n",
              "  </tbody>\n",
              "</table>\n",
              "</div>\n",
              "      <button class=\"colab-df-convert\" onclick=\"convertToInteractive('df-865ee630-9c35-4e47-bf7a-ca9ec3c1d697')\"\n",
              "              title=\"Convert this dataframe to an interactive table.\"\n",
              "              style=\"display:none;\">\n",
              "        \n",
              "  <svg xmlns=\"http://www.w3.org/2000/svg\" height=\"24px\"viewBox=\"0 0 24 24\"\n",
              "       width=\"24px\">\n",
              "    <path d=\"M0 0h24v24H0V0z\" fill=\"none\"/>\n",
              "    <path d=\"M18.56 5.44l.94 2.06.94-2.06 2.06-.94-2.06-.94-.94-2.06-.94 2.06-2.06.94zm-11 1L8.5 8.5l.94-2.06 2.06-.94-2.06-.94L8.5 2.5l-.94 2.06-2.06.94zm10 10l.94 2.06.94-2.06 2.06-.94-2.06-.94-.94-2.06-.94 2.06-2.06.94z\"/><path d=\"M17.41 7.96l-1.37-1.37c-.4-.4-.92-.59-1.43-.59-.52 0-1.04.2-1.43.59L10.3 9.45l-7.72 7.72c-.78.78-.78 2.05 0 2.83L4 21.41c.39.39.9.59 1.41.59.51 0 1.02-.2 1.41-.59l7.78-7.78 2.81-2.81c.8-.78.8-2.07 0-2.86zM5.41 20L4 18.59l7.72-7.72 1.47 1.35L5.41 20z\"/>\n",
              "  </svg>\n",
              "      </button>\n",
              "      \n",
              "  <style>\n",
              "    .colab-df-container {\n",
              "      display:flex;\n",
              "      flex-wrap:wrap;\n",
              "      gap: 12px;\n",
              "    }\n",
              "\n",
              "    .colab-df-convert {\n",
              "      background-color: #E8F0FE;\n",
              "      border: none;\n",
              "      border-radius: 50%;\n",
              "      cursor: pointer;\n",
              "      display: none;\n",
              "      fill: #1967D2;\n",
              "      height: 32px;\n",
              "      padding: 0 0 0 0;\n",
              "      width: 32px;\n",
              "    }\n",
              "\n",
              "    .colab-df-convert:hover {\n",
              "      background-color: #E2EBFA;\n",
              "      box-shadow: 0px 1px 2px rgba(60, 64, 67, 0.3), 0px 1px 3px 1px rgba(60, 64, 67, 0.15);\n",
              "      fill: #174EA6;\n",
              "    }\n",
              "\n",
              "    [theme=dark] .colab-df-convert {\n",
              "      background-color: #3B4455;\n",
              "      fill: #D2E3FC;\n",
              "    }\n",
              "\n",
              "    [theme=dark] .colab-df-convert:hover {\n",
              "      background-color: #434B5C;\n",
              "      box-shadow: 0px 1px 3px 1px rgba(0, 0, 0, 0.15);\n",
              "      filter: drop-shadow(0px 1px 2px rgba(0, 0, 0, 0.3));\n",
              "      fill: #FFFFFF;\n",
              "    }\n",
              "  </style>\n",
              "\n",
              "      <script>\n",
              "        const buttonEl =\n",
              "          document.querySelector('#df-865ee630-9c35-4e47-bf7a-ca9ec3c1d697 button.colab-df-convert');\n",
              "        buttonEl.style.display =\n",
              "          google.colab.kernel.accessAllowed ? 'block' : 'none';\n",
              "\n",
              "        async function convertToInteractive(key) {\n",
              "          const element = document.querySelector('#df-865ee630-9c35-4e47-bf7a-ca9ec3c1d697');\n",
              "          const dataTable =\n",
              "            await google.colab.kernel.invokeFunction('convertToInteractive',\n",
              "                                                     [key], {});\n",
              "          if (!dataTable) return;\n",
              "\n",
              "          const docLinkHtml = 'Like what you see? Visit the ' +\n",
              "            '<a target=\"_blank\" href=https://colab.research.google.com/notebooks/data_table.ipynb>data table notebook</a>'\n",
              "            + ' to learn more about interactive tables.';\n",
              "          element.innerHTML = '';\n",
              "          dataTable['output_type'] = 'display_data';\n",
              "          await google.colab.output.renderOutput(dataTable, element);\n",
              "          const docLink = document.createElement('div');\n",
              "          docLink.innerHTML = docLinkHtml;\n",
              "          element.appendChild(docLink);\n",
              "        }\n",
              "      </script>\n",
              "    </div>\n",
              "  </div>\n",
              "  "
            ]
          },
          "metadata": {},
          "execution_count": 63
        }
      ],
      "source": [
        "CV_DT_results = {'model': 'GridSearch Decision Tree','Accuracy': gscv.best_score_, 'Time':[np.mean(mean_fit_time + mean_score_time) * n_splits * n_iter]}\n",
        "CV_DT_results = pd.DataFrame(CV_DT_results, index=[0])\n",
        "CV_DT_results"
      ]
    },
    {
      "cell_type": "markdown",
      "metadata": {
        "id": "QPisaMe_PKKr"
      },
      "source": [
        "#### SVM"
      ]
    },
    {
      "cell_type": "code",
      "execution_count": 64,
      "metadata": {
        "id": "8QL13XGQPKKr"
      },
      "outputs": [],
      "source": [
        "svc_params = {'svc__kernel': ['linear', 'sigmoid'],\n",
        "              'svc__C': [0.001, 0.1, 1],\n",
        "              'svc__gamma': [1, 0.1, 0.01]}"
      ]
    },
    {
      "cell_type": "code",
      "execution_count": 65,
      "metadata": {
        "id": "15v53Qc4PKKs"
      },
      "outputs": [],
      "source": [
        "SVC_grid = GridSearchCV(SVC_pipe, param_grid=svc_params, cv=3, verbose=2)"
      ]
    },
    {
      "cell_type": "code",
      "execution_count": 66,
      "metadata": {
        "colab": {
          "base_uri": "https://localhost:8080/"
        },
        "id": "wFkyOF9TPKKs",
        "outputId": "7bf5932d-c431-40d8-eddd-e84cea9bddd0"
      },
      "outputs": [
        {
          "output_type": "stream",
          "name": "stdout",
          "text": [
            "Fitting 3 folds for each of 18 candidates, totalling 54 fits\n",
            "[CV] END .....svc__C=0.001, svc__gamma=1, svc__kernel=linear; total time=   7.8s\n",
            "[CV] END .....svc__C=0.001, svc__gamma=1, svc__kernel=linear; total time=   7.0s\n",
            "[CV] END .....svc__C=0.001, svc__gamma=1, svc__kernel=linear; total time=   7.6s\n",
            "[CV] END ....svc__C=0.001, svc__gamma=1, svc__kernel=sigmoid; total time=  13.9s\n",
            "[CV] END ....svc__C=0.001, svc__gamma=1, svc__kernel=sigmoid; total time=  14.3s\n",
            "[CV] END ....svc__C=0.001, svc__gamma=1, svc__kernel=sigmoid; total time=  13.0s\n",
            "[CV] END ...svc__C=0.001, svc__gamma=0.1, svc__kernel=linear; total time=   6.8s\n",
            "[CV] END ...svc__C=0.001, svc__gamma=0.1, svc__kernel=linear; total time=   7.7s\n",
            "[CV] END ...svc__C=0.001, svc__gamma=0.1, svc__kernel=linear; total time=   6.9s\n",
            "[CV] END ..svc__C=0.001, svc__gamma=0.1, svc__kernel=sigmoid; total time=  22.4s\n",
            "[CV] END ..svc__C=0.001, svc__gamma=0.1, svc__kernel=sigmoid; total time=  14.1s\n",
            "[CV] END ..svc__C=0.001, svc__gamma=0.1, svc__kernel=sigmoid; total time=  14.3s\n",
            "[CV] END ..svc__C=0.001, svc__gamma=0.01, svc__kernel=linear; total time=   6.9s\n",
            "[CV] END ..svc__C=0.001, svc__gamma=0.01, svc__kernel=linear; total time=   7.7s\n",
            "[CV] END ..svc__C=0.001, svc__gamma=0.01, svc__kernel=linear; total time=   7.0s\n",
            "[CV] END .svc__C=0.001, svc__gamma=0.01, svc__kernel=sigmoid; total time=   9.6s\n",
            "[CV] END .svc__C=0.001, svc__gamma=0.01, svc__kernel=sigmoid; total time=   9.9s\n",
            "[CV] END .svc__C=0.001, svc__gamma=0.01, svc__kernel=sigmoid; total time=   8.8s\n",
            "[CV] END .......svc__C=0.1, svc__gamma=1, svc__kernel=linear; total time=   7.7s\n",
            "[CV] END .......svc__C=0.1, svc__gamma=1, svc__kernel=linear; total time=   7.2s\n",
            "[CV] END .......svc__C=0.1, svc__gamma=1, svc__kernel=linear; total time=   7.6s\n",
            "[CV] END ......svc__C=0.1, svc__gamma=1, svc__kernel=sigmoid; total time=  13.4s\n",
            "[CV] END ......svc__C=0.1, svc__gamma=1, svc__kernel=sigmoid; total time=  15.0s\n",
            "[CV] END ......svc__C=0.1, svc__gamma=1, svc__kernel=sigmoid; total time=  11.8s\n",
            "[CV] END .....svc__C=0.1, svc__gamma=0.1, svc__kernel=linear; total time=   6.9s\n",
            "[CV] END .....svc__C=0.1, svc__gamma=0.1, svc__kernel=linear; total time=   7.9s\n",
            "[CV] END .....svc__C=0.1, svc__gamma=0.1, svc__kernel=linear; total time=   6.9s\n",
            "[CV] END ....svc__C=0.1, svc__gamma=0.1, svc__kernel=sigmoid; total time=  18.6s\n",
            "[CV] END ....svc__C=0.1, svc__gamma=0.1, svc__kernel=sigmoid; total time=  10.8s\n",
            "[CV] END ....svc__C=0.1, svc__gamma=0.1, svc__kernel=sigmoid; total time=  10.6s\n",
            "[CV] END ....svc__C=0.1, svc__gamma=0.01, svc__kernel=linear; total time=   7.8s\n",
            "[CV] END ....svc__C=0.1, svc__gamma=0.01, svc__kernel=linear; total time=   6.9s\n",
            "[CV] END ....svc__C=0.1, svc__gamma=0.01, svc__kernel=linear; total time=   7.8s\n",
            "[CV] END ...svc__C=0.1, svc__gamma=0.01, svc__kernel=sigmoid; total time=  10.3s\n",
            "[CV] END ...svc__C=0.1, svc__gamma=0.01, svc__kernel=sigmoid; total time=  10.7s\n",
            "[CV] END ...svc__C=0.1, svc__gamma=0.01, svc__kernel=sigmoid; total time=  11.0s\n",
            "[CV] END .........svc__C=1, svc__gamma=1, svc__kernel=linear; total time=   8.1s\n",
            "[CV] END .........svc__C=1, svc__gamma=1, svc__kernel=linear; total time=   7.8s\n",
            "[CV] END .........svc__C=1, svc__gamma=1, svc__kernel=linear; total time=   8.3s\n",
            "[CV] END ........svc__C=1, svc__gamma=1, svc__kernel=sigmoid; total time=  13.2s\n",
            "[CV] END ........svc__C=1, svc__gamma=1, svc__kernel=sigmoid; total time=  14.4s\n",
            "[CV] END ........svc__C=1, svc__gamma=1, svc__kernel=sigmoid; total time=  13.5s\n",
            "[CV] END .......svc__C=1, svc__gamma=0.1, svc__kernel=linear; total time=  10.0s\n",
            "[CV] END .......svc__C=1, svc__gamma=0.1, svc__kernel=linear; total time=   8.2s\n",
            "[CV] END .......svc__C=1, svc__gamma=0.1, svc__kernel=linear; total time=   7.5s\n",
            "[CV] END ......svc__C=1, svc__gamma=0.1, svc__kernel=sigmoid; total time=  13.8s\n",
            "[CV] END ......svc__C=1, svc__gamma=0.1, svc__kernel=sigmoid; total time=  10.9s\n",
            "[CV] END ......svc__C=1, svc__gamma=0.1, svc__kernel=sigmoid; total time=  10.2s\n",
            "[CV] END ......svc__C=1, svc__gamma=0.01, svc__kernel=linear; total time=   7.6s\n",
            "[CV] END ......svc__C=1, svc__gamma=0.01, svc__kernel=linear; total time=   8.4s\n",
            "[CV] END ......svc__C=1, svc__gamma=0.01, svc__kernel=linear; total time=   7.4s\n",
            "[CV] END .....svc__C=1, svc__gamma=0.01, svc__kernel=sigmoid; total time=  33.2s\n",
            "[CV] END .....svc__C=1, svc__gamma=0.01, svc__kernel=sigmoid; total time=  22.8s\n",
            "[CV] END .....svc__C=1, svc__gamma=0.01, svc__kernel=sigmoid; total time=  19.2s\n",
            "Training time: 600.8856253623962s\n"
          ]
        }
      ],
      "source": [
        "import time\n",
        "start = time.time()\n",
        "\n",
        "SVC_grid.fit(X_train,y_train)\n",
        "\n",
        "stop = time.time()\n",
        "print(f\"Training time: {stop - start}s\")"
      ]
    },
    {
      "cell_type": "code",
      "execution_count": 67,
      "metadata": {
        "colab": {
          "base_uri": "https://localhost:8080/"
        },
        "id": "zRKMIFRHPKKs",
        "outputId": "74a36faf-84d9-403d-e819-9a48cb4e37b9"
      },
      "outputs": [
        {
          "output_type": "stream",
          "name": "stdout",
          "text": [
            "tuned hpyerparameters :(best parameters)  {'svc__C': 0.001, 'svc__gamma': 1, 'svc__kernel': 'linear'}\n",
            "accuracy : 0.8873458288821987\n"
          ]
        }
      ],
      "source": [
        "print(\"tuned hpyerparameters :(best parameters) \",SVC_grid.best_params_)\n",
        "print(\"accuracy :\",SVC_grid.best_score_)"
      ]
    },
    {
      "cell_type": "code",
      "execution_count": 68,
      "metadata": {
        "id": "DNpp__5lPKKs"
      },
      "outputs": [],
      "source": [
        "mean_fit_time= SVC_grid.cv_results_['mean_fit_time']\n",
        "mean_score_time= SVC_grid.cv_results_['mean_score_time']\n",
        "n_splits  = SVC_grid.n_splits_ #number of splits of training data\n",
        "n_iter = pd.DataFrame(SVC_grid.cv_results_).shape[0] #Iterations per split"
      ]
    },
    {
      "cell_type": "code",
      "execution_count": 69,
      "metadata": {
        "colab": {
          "base_uri": "https://localhost:8080/",
          "height": 81
        },
        "id": "oPxbfcG6PKKs",
        "outputId": "06ab37ea-7ec0-4cfd-8b5c-d64e1db8c943"
      },
      "outputs": [
        {
          "output_type": "execute_result",
          "data": {
            "text/plain": [
              "                      model  Accuracy        Time\n",
              "0  GridSearch Decision Tree  0.887346  589.362209"
            ],
            "text/html": [
              "\n",
              "  <div id=\"df-b8fd9327-9ed6-497b-a279-13a0f00007b8\">\n",
              "    <div class=\"colab-df-container\">\n",
              "      <div>\n",
              "<style scoped>\n",
              "    .dataframe tbody tr th:only-of-type {\n",
              "        vertical-align: middle;\n",
              "    }\n",
              "\n",
              "    .dataframe tbody tr th {\n",
              "        vertical-align: top;\n",
              "    }\n",
              "\n",
              "    .dataframe thead th {\n",
              "        text-align: right;\n",
              "    }\n",
              "</style>\n",
              "<table border=\"1\" class=\"dataframe\">\n",
              "  <thead>\n",
              "    <tr style=\"text-align: right;\">\n",
              "      <th></th>\n",
              "      <th>model</th>\n",
              "      <th>Accuracy</th>\n",
              "      <th>Time</th>\n",
              "    </tr>\n",
              "  </thead>\n",
              "  <tbody>\n",
              "    <tr>\n",
              "      <th>0</th>\n",
              "      <td>GridSearch Decision Tree</td>\n",
              "      <td>0.887346</td>\n",
              "      <td>589.362209</td>\n",
              "    </tr>\n",
              "  </tbody>\n",
              "</table>\n",
              "</div>\n",
              "      <button class=\"colab-df-convert\" onclick=\"convertToInteractive('df-b8fd9327-9ed6-497b-a279-13a0f00007b8')\"\n",
              "              title=\"Convert this dataframe to an interactive table.\"\n",
              "              style=\"display:none;\">\n",
              "        \n",
              "  <svg xmlns=\"http://www.w3.org/2000/svg\" height=\"24px\"viewBox=\"0 0 24 24\"\n",
              "       width=\"24px\">\n",
              "    <path d=\"M0 0h24v24H0V0z\" fill=\"none\"/>\n",
              "    <path d=\"M18.56 5.44l.94 2.06.94-2.06 2.06-.94-2.06-.94-.94-2.06-.94 2.06-2.06.94zm-11 1L8.5 8.5l.94-2.06 2.06-.94-2.06-.94L8.5 2.5l-.94 2.06-2.06.94zm10 10l.94 2.06.94-2.06 2.06-.94-2.06-.94-.94-2.06-.94 2.06-2.06.94z\"/><path d=\"M17.41 7.96l-1.37-1.37c-.4-.4-.92-.59-1.43-.59-.52 0-1.04.2-1.43.59L10.3 9.45l-7.72 7.72c-.78.78-.78 2.05 0 2.83L4 21.41c.39.39.9.59 1.41.59.51 0 1.02-.2 1.41-.59l7.78-7.78 2.81-2.81c.8-.78.8-2.07 0-2.86zM5.41 20L4 18.59l7.72-7.72 1.47 1.35L5.41 20z\"/>\n",
              "  </svg>\n",
              "      </button>\n",
              "      \n",
              "  <style>\n",
              "    .colab-df-container {\n",
              "      display:flex;\n",
              "      flex-wrap:wrap;\n",
              "      gap: 12px;\n",
              "    }\n",
              "\n",
              "    .colab-df-convert {\n",
              "      background-color: #E8F0FE;\n",
              "      border: none;\n",
              "      border-radius: 50%;\n",
              "      cursor: pointer;\n",
              "      display: none;\n",
              "      fill: #1967D2;\n",
              "      height: 32px;\n",
              "      padding: 0 0 0 0;\n",
              "      width: 32px;\n",
              "    }\n",
              "\n",
              "    .colab-df-convert:hover {\n",
              "      background-color: #E2EBFA;\n",
              "      box-shadow: 0px 1px 2px rgba(60, 64, 67, 0.3), 0px 1px 3px 1px rgba(60, 64, 67, 0.15);\n",
              "      fill: #174EA6;\n",
              "    }\n",
              "\n",
              "    [theme=dark] .colab-df-convert {\n",
              "      background-color: #3B4455;\n",
              "      fill: #D2E3FC;\n",
              "    }\n",
              "\n",
              "    [theme=dark] .colab-df-convert:hover {\n",
              "      background-color: #434B5C;\n",
              "      box-shadow: 0px 1px 3px 1px rgba(0, 0, 0, 0.15);\n",
              "      filter: drop-shadow(0px 1px 2px rgba(0, 0, 0, 0.3));\n",
              "      fill: #FFFFFF;\n",
              "    }\n",
              "  </style>\n",
              "\n",
              "      <script>\n",
              "        const buttonEl =\n",
              "          document.querySelector('#df-b8fd9327-9ed6-497b-a279-13a0f00007b8 button.colab-df-convert');\n",
              "        buttonEl.style.display =\n",
              "          google.colab.kernel.accessAllowed ? 'block' : 'none';\n",
              "\n",
              "        async function convertToInteractive(key) {\n",
              "          const element = document.querySelector('#df-b8fd9327-9ed6-497b-a279-13a0f00007b8');\n",
              "          const dataTable =\n",
              "            await google.colab.kernel.invokeFunction('convertToInteractive',\n",
              "                                                     [key], {});\n",
              "          if (!dataTable) return;\n",
              "\n",
              "          const docLinkHtml = 'Like what you see? Visit the ' +\n",
              "            '<a target=\"_blank\" href=https://colab.research.google.com/notebooks/data_table.ipynb>data table notebook</a>'\n",
              "            + ' to learn more about interactive tables.';\n",
              "          element.innerHTML = '';\n",
              "          dataTable['output_type'] = 'display_data';\n",
              "          await google.colab.output.renderOutput(dataTable, element);\n",
              "          const docLink = document.createElement('div');\n",
              "          docLink.innerHTML = docLinkHtml;\n",
              "          element.appendChild(docLink);\n",
              "        }\n",
              "      </script>\n",
              "    </div>\n",
              "  </div>\n",
              "  "
            ]
          },
          "metadata": {},
          "execution_count": 69
        }
      ],
      "source": [
        "CV_SVC_results = {'model': 'GridSearch Decision Tree','Accuracy': SVC_grid.best_score_, 'Time':[np.mean(mean_fit_time + mean_score_time) * n_splits * n_iter]}\n",
        "CV_SVC_results = pd.DataFrame(CV_SVC_results, index=[0])\n",
        "CV_SVC_results"
      ]
    },
    {
      "cell_type": "markdown",
      "metadata": {
        "id": "kB9mYTaBPKKs"
      },
      "source": [
        "#### GridSearchCV Results"
      ]
    },
    {
      "cell_type": "code",
      "execution_count": 70,
      "metadata": {
        "id": "0pyzmN68PKKs"
      },
      "outputs": [],
      "source": [
        "gs_final_results = pd.concat([CV_lgr_results,CV_knn_results,CV_DT_results,CV_SVC_results], axis=0)\n"
      ]
    },
    {
      "cell_type": "code",
      "execution_count": 71,
      "metadata": {
        "colab": {
          "base_uri": "https://localhost:8080/",
          "height": 175
        },
        "id": "TftQvl5vPKKs",
        "outputId": "ba59b709-247b-4abc-f4a7-809054ce3e22"
      },
      "outputs": [
        {
          "output_type": "execute_result",
          "data": {
            "text/plain": [
              "                            model  Accuracy         Time\n",
              "0  GridSearch Logistic Regression  0.887346    28.510493\n",
              "0        GridSearch Decision Tree  0.887346   589.362209\n",
              "0                  GridSearch KNN  0.887216  1602.991145\n",
              "0        GridSearch Decision Tree  0.886407    65.533781"
            ],
            "text/html": [
              "\n",
              "  <div id=\"df-b0709818-46a9-44ae-bac2-4c4c700d4c1e\">\n",
              "    <div class=\"colab-df-container\">\n",
              "      <div>\n",
              "<style scoped>\n",
              "    .dataframe tbody tr th:only-of-type {\n",
              "        vertical-align: middle;\n",
              "    }\n",
              "\n",
              "    .dataframe tbody tr th {\n",
              "        vertical-align: top;\n",
              "    }\n",
              "\n",
              "    .dataframe thead th {\n",
              "        text-align: right;\n",
              "    }\n",
              "</style>\n",
              "<table border=\"1\" class=\"dataframe\">\n",
              "  <thead>\n",
              "    <tr style=\"text-align: right;\">\n",
              "      <th></th>\n",
              "      <th>model</th>\n",
              "      <th>Accuracy</th>\n",
              "      <th>Time</th>\n",
              "    </tr>\n",
              "  </thead>\n",
              "  <tbody>\n",
              "    <tr>\n",
              "      <th>0</th>\n",
              "      <td>GridSearch Logistic Regression</td>\n",
              "      <td>0.887346</td>\n",
              "      <td>28.510493</td>\n",
              "    </tr>\n",
              "    <tr>\n",
              "      <th>0</th>\n",
              "      <td>GridSearch Decision Tree</td>\n",
              "      <td>0.887346</td>\n",
              "      <td>589.362209</td>\n",
              "    </tr>\n",
              "    <tr>\n",
              "      <th>0</th>\n",
              "      <td>GridSearch KNN</td>\n",
              "      <td>0.887216</td>\n",
              "      <td>1602.991145</td>\n",
              "    </tr>\n",
              "    <tr>\n",
              "      <th>0</th>\n",
              "      <td>GridSearch Decision Tree</td>\n",
              "      <td>0.886407</td>\n",
              "      <td>65.533781</td>\n",
              "    </tr>\n",
              "  </tbody>\n",
              "</table>\n",
              "</div>\n",
              "      <button class=\"colab-df-convert\" onclick=\"convertToInteractive('df-b0709818-46a9-44ae-bac2-4c4c700d4c1e')\"\n",
              "              title=\"Convert this dataframe to an interactive table.\"\n",
              "              style=\"display:none;\">\n",
              "        \n",
              "  <svg xmlns=\"http://www.w3.org/2000/svg\" height=\"24px\"viewBox=\"0 0 24 24\"\n",
              "       width=\"24px\">\n",
              "    <path d=\"M0 0h24v24H0V0z\" fill=\"none\"/>\n",
              "    <path d=\"M18.56 5.44l.94 2.06.94-2.06 2.06-.94-2.06-.94-.94-2.06-.94 2.06-2.06.94zm-11 1L8.5 8.5l.94-2.06 2.06-.94-2.06-.94L8.5 2.5l-.94 2.06-2.06.94zm10 10l.94 2.06.94-2.06 2.06-.94-2.06-.94-.94-2.06-.94 2.06-2.06.94z\"/><path d=\"M17.41 7.96l-1.37-1.37c-.4-.4-.92-.59-1.43-.59-.52 0-1.04.2-1.43.59L10.3 9.45l-7.72 7.72c-.78.78-.78 2.05 0 2.83L4 21.41c.39.39.9.59 1.41.59.51 0 1.02-.2 1.41-.59l7.78-7.78 2.81-2.81c.8-.78.8-2.07 0-2.86zM5.41 20L4 18.59l7.72-7.72 1.47 1.35L5.41 20z\"/>\n",
              "  </svg>\n",
              "      </button>\n",
              "      \n",
              "  <style>\n",
              "    .colab-df-container {\n",
              "      display:flex;\n",
              "      flex-wrap:wrap;\n",
              "      gap: 12px;\n",
              "    }\n",
              "\n",
              "    .colab-df-convert {\n",
              "      background-color: #E8F0FE;\n",
              "      border: none;\n",
              "      border-radius: 50%;\n",
              "      cursor: pointer;\n",
              "      display: none;\n",
              "      fill: #1967D2;\n",
              "      height: 32px;\n",
              "      padding: 0 0 0 0;\n",
              "      width: 32px;\n",
              "    }\n",
              "\n",
              "    .colab-df-convert:hover {\n",
              "      background-color: #E2EBFA;\n",
              "      box-shadow: 0px 1px 2px rgba(60, 64, 67, 0.3), 0px 1px 3px 1px rgba(60, 64, 67, 0.15);\n",
              "      fill: #174EA6;\n",
              "    }\n",
              "\n",
              "    [theme=dark] .colab-df-convert {\n",
              "      background-color: #3B4455;\n",
              "      fill: #D2E3FC;\n",
              "    }\n",
              "\n",
              "    [theme=dark] .colab-df-convert:hover {\n",
              "      background-color: #434B5C;\n",
              "      box-shadow: 0px 1px 3px 1px rgba(0, 0, 0, 0.15);\n",
              "      filter: drop-shadow(0px 1px 2px rgba(0, 0, 0, 0.3));\n",
              "      fill: #FFFFFF;\n",
              "    }\n",
              "  </style>\n",
              "\n",
              "      <script>\n",
              "        const buttonEl =\n",
              "          document.querySelector('#df-b0709818-46a9-44ae-bac2-4c4c700d4c1e button.colab-df-convert');\n",
              "        buttonEl.style.display =\n",
              "          google.colab.kernel.accessAllowed ? 'block' : 'none';\n",
              "\n",
              "        async function convertToInteractive(key) {\n",
              "          const element = document.querySelector('#df-b0709818-46a9-44ae-bac2-4c4c700d4c1e');\n",
              "          const dataTable =\n",
              "            await google.colab.kernel.invokeFunction('convertToInteractive',\n",
              "                                                     [key], {});\n",
              "          if (!dataTable) return;\n",
              "\n",
              "          const docLinkHtml = 'Like what you see? Visit the ' +\n",
              "            '<a target=\"_blank\" href=https://colab.research.google.com/notebooks/data_table.ipynb>data table notebook</a>'\n",
              "            + ' to learn more about interactive tables.';\n",
              "          element.innerHTML = '';\n",
              "          dataTable['output_type'] = 'display_data';\n",
              "          await google.colab.output.renderOutput(dataTable, element);\n",
              "          const docLink = document.createElement('div');\n",
              "          docLink.innerHTML = docLinkHtml;\n",
              "          element.appendChild(docLink);\n",
              "        }\n",
              "      </script>\n",
              "    </div>\n",
              "  </div>\n",
              "  "
            ]
          },
          "metadata": {},
          "execution_count": 71
        }
      ],
      "source": [
        "gs_final_results = gs_final_results.sort_values(by='Accuracy', ascending=False)\n",
        "gs_final_results"
      ]
    },
    {
      "cell_type": "code",
      "execution_count": 71,
      "metadata": {
        "id": "vkK6JQHwPKKs"
      },
      "outputs": [],
      "source": []
    }
  ],
  "metadata": {
    "kernelspec": {
      "display_name": "Python 3 (ipykernel)",
      "language": "python",
      "name": "python3"
    },
    "language_info": {
      "codemirror_mode": {
        "name": "ipython",
        "version": 3
      },
      "file_extension": ".py",
      "mimetype": "text/x-python",
      "name": "python",
      "nbconvert_exporter": "python",
      "pygments_lexer": "ipython3",
      "version": "3.9.15"
    },
    "colab": {
      "provenance": [],
      "include_colab_link": true
    }
  },
  "nbformat": 4,
  "nbformat_minor": 0
}